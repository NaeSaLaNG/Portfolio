{
 "cells": [
  {
   "cell_type": "code",
   "execution_count": null,
   "id": "810772f2",
   "metadata": {},
   "outputs": [],
   "source": [
    "!pip install category_encoders optuna\n",
    "!pip install --upgrade catboost"
   ]
  },
  {
   "cell_type": "markdown",
   "id": "33dc00f3",
   "metadata": {},
   "source": [
    "## Введение\n",
    "\n",
    "**Мне был поставлен важный заказ на создание системы, способной оценить риск дорожно-транспортных происшествий (ДТП) на основе выбранного маршрута движения**. Под риском понимается вероятность ДТП с любым уровнем повреждения транспортного средства. **Целью этого проекта является разработка системы**, которая будет активироваться, когда водитель забронирует автомобиль, сядет за руль и выберет маршрут, предоставляя предупреждения и рекомендации при высоком уровне риска.\n",
    "\n",
    "Идея создания такой системы находится в стадии предварительного обсуждения, и на рынке пока не существует чёткого алгоритма работы или аналогичных решений. **Текущая задача состоит в исследовании возможности предсказания ДТП, опираясь на исторические данные одного из регионов**.\n",
    "\n",
    "**Цели проекта**:\n",
    "\n",
    "1. **Создание модели предсказания ДТП с фокусом на тип виновника \"машина\" (car) в таблице происшествий.**\n",
    "2. **Выявление случаев, когда ДТП приводило к любым повреждениям транспортных средств, исключая тип SCRATCH (царапина).**\n",
    "3. **Построение модели с использованием данных за 2012 год, обеспечивающих актуальность информации.**\n",
    "4. **Учет фактора возраста автомобиля в модели, как важного параметра риска.**\n",
    "\n",
    "**Ключевые вопросы исследования**:\n",
    "\n",
    "1. **Возможно ли разработать адекватную систему оценки водительского риска при предоставлении автомобилей в аренду, основанную на предсказании вероятности ДТП?**\n",
    "2. **Какие другие факторы следует учесть в модели, чтобы повысить точность прогнозов и понимание рисков?**\n",
    "3. **Требуется ли оборудование автомобилей дополнительными датчиками или камерами для обеспечения дополнительной безопасности?**\n",
    "\n",
    "Для успешной реализации проекта мне предоставлен доступ к базе данных происшествий, и моя задача – сформировать инновационную систему оценки риска ДТП, способствующую повышению безопасности на дорогах.\n",
    "\n",
    "**Описание данных**:\n",
    "\n",
    "\n",
    "<p style=\"font-size: 150%; text-align: center;font-weight: bold;\"> ER - диаграмма </p> \n",
    "\n",
    "![](https://pictures.s3.yandex.net/resources/1.7_2880border_1_1654004672.png)"
   ]
  },
  {
   "cell_type": "markdown",
   "id": "d0962f29",
   "metadata": {},
   "source": [
    "<details>\n",
    "\n",
    "<summary style=\"font-size: 150%; text-align: center;font-weight: bold;\"> Подробнее про Сollisions (нажмите сюда)</summary>\n",
    "<h3><strong>Сollisions (информация о происшествиях)</strong></h3>\n",
    "<table cellpadding=\"0\" cellspacing=\"0\"><thead><tr><th scope=\"col\">Описание</th><th scope=\"col\">Обозначение в таблице</th><th scope=\"col\">Подробнее</th></tr></thead><tbody><tr><td>Идентификационный&nbsp; Номер в базе данных</td><td>CASE_ID</td><td>Уникальный номер для зарегистрированного происшествия в таблице происшествий.</td></tr><tr><td>Дата происшествия</td><td>COLLISION_DATE</td><td>Формат год/месяц/день</td></tr><tr><td>Время происшествия</td><td>COLLISION_TIME</td><td>Формат: 24-часовой</td></tr><tr><td>Является ли место происшествие  перекрёстком</td><td>INTERSECTION</td><td>Y — Intersection (перекрёсток)</td></tr><tr><td></td></tr><tr><td></td><td></td><td>N — Not Intersection (не перекрёсток)</td></tr><tr><td></td></tr><tr><td></td><td></td><td>-- — Not stated (Не указано)</td></tr><tr><td>Погода</td><td>WEATHER_1</td><td>A — Clear (Ясно)</td></tr><tr><td></td></tr><tr><td></td><td></td><td>B — Cloudy (Облачно)</td></tr><tr><td></td></tr><tr><td></td><td></td><td>C — Raining (Дождь)</td></tr><tr><td></td></tr><tr><td></td><td></td><td>D — Snowing (Снегопад)</td></tr><tr><td></td></tr><tr><td></td><td></td><td>E — Fog (Туман)</td></tr><tr><td></td></tr><tr><td></td><td></td><td>F — Other (Другое)</td></tr><tr><td></td></tr><tr><td></td><td></td><td>G — Wind (Ветер)</td></tr><tr><td></td></tr><tr><td></td><td></td><td>- — Not Stated (Не указано)</td></tr><tr><td>Серьёзность происшествия</td><td>COLLISION_DAMAGE</td><td>1 — FATAL  ТС (Не подлежит восстановлению)</td></tr><tr><td></td></tr><tr><td></td><td></td><td>2 — SEVERE DAMAGE (Серьёзный ремонт, большая часть под замену/Серьёзное повреждение капитального строения)</td></tr><tr><td></td></tr><tr><td></td><td></td><td>3 — MIDDLE DAMAGE (Средний ремонт, машина в целом на ходу/Строение в целом устояло)</td></tr><tr><td></td></tr><tr><td></td><td></td><td>4 — SMALL DAMAGE (Отдельный элемент кузова под замену/покраску)</td></tr><tr><td></td></tr><tr><td></td><td></td><td>0 – SCRATCH (Царапина)</td></tr><tr><td>Основной фактор аварии</td><td>PRIMARY_COLL_FACTOR</td><td>A — Code Violation (Нарушение правил ПДД)</td></tr><tr><td></td></tr><tr><td></td><td></td><td>B — Other Improper Driving (Другое неправильное вождение)</td></tr><tr><td></td></tr><tr><td></td><td></td><td>C — Other Than Driver (Кроме водителя)</td></tr><tr><td></td></tr><tr><td></td><td></td><td>D — Unknown (Неизвестно)</td></tr><tr><td></td></tr><tr><td></td><td></td><td>E — Fell Asleep (Заснул)</td></tr><tr><td></td></tr><tr><td></td><td></td><td>- — Not Stated (Не указано)</td></tr><tr><td>Состояние дороги</td><td>ROAD_SURFACE</td><td>A — Dry (Сухая)</td></tr><tr><td></td></tr><tr><td></td><td></td><td>B — Wet (Мокрая)</td></tr><tr><td></td></tr><tr><td></td><td></td><td>C — Snowy or Icy (Заснеженная или обледенелая)</td></tr><tr><td></td></tr><tr><td></td><td></td><td>D — Slippery (Muddy, Oily, etc.) (Скользкая, грязная, маслянистая и т. д.)</td></tr><tr><td></td><td></td><td>- — Not Stated (Не указано)</td></tr><tr><td>Освещение</td><td>LIGHTING</td><td>A — Daylight (Дневной свет)</td></tr><tr><td></td></tr><tr><td></td><td></td><td>B — Dusk-Dawn (Сумерки-Рассвет)</td></tr><tr><td></td></tr><tr><td></td><td></td><td>C — Dark-Street Lights (Темно-Уличные фонари)</td></tr><tr><td></td></tr><tr><td></td><td></td><td>D — Dark-No Street Lights (Темно-Нет уличных фонарей)</td></tr><tr><td></td><td></td><td>E — Dark-Street Lights Not Functioning (Темно-Уличные фонари не работают)</td></tr><tr><td></td><td></td><td>- — Not Stated (Не указано)</td></tr><tr><td>Номер географических районов, где произошло ДТП</td><td>COUNTY_CITY_LOCATION</td><td>число</td></tr><tr><td>Названия географических районов, где произошло ДТП</td><td>COUNTY_LOCATION</td><td>список разных названий, категориальный тип данных</td></tr><tr><td>Направление движения</td><td>DIRECTION</td><td>N — North (Север)</td></tr><tr><td></td></tr><tr><td></td><td></td><td>E — East (Восток)</td></tr><tr><td></td></tr><tr><td></td><td></td><td>S — South (Юг)</td></tr><tr><td></td></tr><tr><td></td><td></td><td>W — West (Запад)</td></tr><tr><td></td></tr><tr><td></td><td></td><td>- or blank — Not State (Не указано)</td></tr><tr><td></td></tr><tr><td></td><td></td><td>на перекрёстке</td></tr><tr><td>Расстояние от главной дороги (метры)</td><td>DISTANCE</td><td>число</td></tr><tr><td>Тип дороги</td><td>LOCATION_TYPE</td><td>H — Highway (Шоссе)</td></tr><tr><td></td></tr><tr><td></td><td></td><td>I — Intersection (Перекрёсток)</td></tr><tr><td></td></tr><tr><td></td><td></td><td>R — Ramp (or Collector) (Рампа)</td></tr><tr><td></td></tr><tr><td></td><td></td><td>- or blank — Not State Highway (Не указано)</td></tr><tr><td>Количество участников</td><td>PARTY_COUNT</td><td>число</td></tr><tr><td>Категория нарушения</td><td>PCF_VIOLATION_CATEGORY</td><td>01 — Driving or Bicycling Under the Influence of Alcohol or Drug (Вождение или езда на велосипеде в состоянии алкогольного или наркотического опьянения)</td></tr><tr><td></td></tr><tr><td></td><td></td><td>02 — Impeding Traffic (Препятствие движению транспорта)</td></tr><tr><td></td></tr><tr><td></td><td></td><td>03 — Unsafe Speed (Превышение скорости)</td></tr><tr><td></td></tr><tr><td></td><td></td><td>04 — Following Too Closely (Опасное сближение)</td></tr><tr><td></td></tr><tr><td></td><td></td><td>05 — Wrong Side of Road (Неправильная сторона дороги)</td></tr><tr><td></td></tr><tr><td></td><td></td><td>06 — Improper Passing (Неправильное движение)</td></tr><tr><td></td></tr><tr><td></td><td></td><td>07 — Unsafe Lane Change (Небезопасная смена полосы движения)</td></tr><tr><td></td></tr><tr><td></td><td></td><td>08 — Improper Turning (Неправильный поворот)</td></tr><tr><td></td></tr><tr><td></td><td></td><td>09 — Automobile Right of Way (Автомобильное право проезда)</td></tr><tr><td></td></tr><tr><td></td><td></td><td>10 — Pedestrian Right of Way (Пешеходное право проезда)</td></tr><tr><td></td></tr><tr><td></td><td></td><td>11 — Pedestrian Violation (Нарушение пешеходами)</td></tr><tr><td></td></tr><tr><td></td><td></td><td>12 — Traffic Signals and Signs (Дорожные сигналы и знаки)</td></tr><tr><td></td></tr><tr><td></td><td></td><td>13 — Hazardous Parking (Неправильная парковка)</td></tr><tr><td></td></tr><tr><td></td><td></td><td>14 — Lights (Освещение)</td></tr><tr><td></td></tr><tr><td></td><td></td><td>15 — Brakes (Тормоза)</td></tr><tr><td></td></tr><tr><td></td><td></td><td>16 — Other Equipment (Другое оборудование)</td></tr><tr><td></td></tr><tr><td></td><td></td><td>17 — Other Hazardous Violation (Другие нарушения)</td></tr><tr><td></td></tr><tr><td></td><td></td><td>18 — Other Than Driver (or Pedestrian) (Кроме водителя или пешехода)</td></tr><tr><td></td></tr><tr><td></td><td></td><td>19 —  Speeding (Скорость)</td></tr><tr><td></td></tr><tr><td></td><td></td><td>20 — Pedestrian dui (Нарушение пешехода)</td></tr><tr><td></td></tr><tr><td></td><td></td><td>21 — Unsafe Starting or Backing (Опасный старт)</td></tr><tr><td></td></tr><tr><td></td><td></td><td>22 — Other Improper Driving (Другое неправильное вождение)</td></tr><tr><td></td></tr><tr><td></td><td></td><td>23 — Pedestrian or “Other” Under the Influence of Alcohol or Drug (Пешеход или «Другой» в состоянии алкогольного или наркотического опьянения)</td></tr><tr><td></td></tr><tr><td></td><td></td><td>24 — Fell Asleep (Заснул)</td></tr><tr><td></td></tr><tr><td></td><td></td><td>00 — Unknown (Неизвестно)</td></tr><tr><td></td></tr><tr><td></td><td></td><td>- — Not Stated (Не указано)</td></tr><tr><td>Тип аварии</td><td>TYPE_OF_COLLISION</td><td>A — Head-On (Лоб в лоб)</td></tr><tr><td></td></tr><tr><td></td><td></td><td>B — Sideswipe (Сторона)</td></tr><tr><td></td></tr><tr><td></td><td></td><td>C — Rear End (Столкновение задней частью)</td></tr><tr><td></td></tr><tr><td></td><td></td><td>D — Broadside (Боковой удар)</td></tr><tr><td></td></tr><tr><td></td><td></td><td>E — Hit Object (Удар объекта)</td></tr><tr><td></td></tr><tr><td></td><td></td><td>F — Overturned (Опрокинутый)</td></tr><tr><td></td></tr><tr><td></td><td></td><td>G — Vehicle (транспортное средство/ Пешеход)</td></tr><tr><td></td></tr><tr><td></td><td></td><td>H — Other (Другое)</td></tr><tr><td></td></tr><tr><td></td><td></td><td>- — Not Stated (Не указано)</td></tr><tr><td>Дополнительные участники ДТП</td><td>MOTOR_VEHICLE_INVOLVED_WITH</td><td>Other motor vehicle (Другой автомобиль)</td></tr><tr><td></td></tr><tr><td></td><td></td><td>Fixed object (Неподвижный объект)</td></tr><tr><td></td></tr><tr><td></td><td></td><td>Parked motor vehicle (Припаркованный автомобиль)</td></tr><tr><td></td></tr><tr><td></td><td></td><td>Pedestrian (Пешеход)</td></tr><tr><td></td></tr><tr><td></td><td></td><td>Bicycle (Велосипедист)</td></tr><tr><td></td></tr><tr><td></td><td></td><td>Non-collision (Не столкновение)</td></tr><tr><td></td></tr><tr><td></td><td></td><td>Other object (Другой объект)</td></tr><tr><td></td></tr><tr><td></td><td></td><td>Motor vehicle on other roadway (Автомобиль на другой проезжей)</td></tr><tr><td></td></tr><tr><td></td><td></td><td>Animal (Животное)</td></tr><tr><td></td></tr><tr><td></td><td></td><td>Train (Поезд)</td></tr><tr><td>Дорожное состояние</td><td>ROAD_CONDITION_1</td><td>A — Holes, Deep Ruts (Ямы, глубокая колея)</td></tr><tr><td></td></tr><tr><td></td><td></td><td>B — Loose Material on Roadway (Сыпучий материал на проезжей части)</td></tr><tr><td></td></tr><tr><td></td><td></td><td>C — Obstruction on Roadway (Препятствие на проезжей части)</td></tr><tr><td></td></tr><tr><td></td><td></td><td>D — Construction or Repair Zone (Зона строительства или ремонта)</td></tr><tr><td></td></tr><tr><td></td><td></td><td>E — Reduced Roadway Width (Уменьшенная ширина проезжей части)</td></tr><tr><td></td></tr><tr><td></td><td></td><td>F — Flooded (Затоплено)</td></tr><tr><td></td></tr><tr><td></td><td></td><td>G — Other (Другое)</td></tr><tr><td></td></tr><tr><td></td><td></td><td>H — No Unusual Condition (Нет ничего необычного)</td></tr><tr><td></td></tr><tr><td></td><td></td><td>- — Not Stated (Не указано)</td></tr><tr><td>Устройство управления</td><td>CONTROL_CONDITION_1</td><td>A — Functioning (Функционирует)</td></tr><tr><td></td></tr><tr><td></td><td></td><td>B — Not Functioning (Не функционирует)</td></tr><tr><td></td></tr><tr><td></td><td></td><td>C — Obscured (Затемнённый)</td></tr><tr><td></td></tr><tr><td></td><td></td><td>D — None (Нет)</td></tr><tr><td></td></tr><tr><td></td><td></td><td>- — Not Stated (Не указано)</td></tr></tbody></table>\n",
    "</details>"
   ]
  },
  {
   "cell_type": "markdown",
   "id": "db5f6721",
   "metadata": {},
   "source": [
    "<br>"
   ]
  },
  {
   "cell_type": "markdown",
   "id": "5f5da53f",
   "metadata": {},
   "source": [
    "<details>\n",
    "\n",
    "<summary style=\"font-size: 150%; text-align: center;font-weight: bold;\">Подробнее про Parties (нажмите сюда)</summary>\n",
    "<h3><strong>Parties (описание участников происшествия)</strong></h3><table cellpadding=\"0\" cellspacing=\"0\"><thead><tr><th scope=\"col\">Описание</th><th scope=\"col\">Обозначение в таблице</th><th scope=\"col\">Подробнее</th></tr></thead><tbody><tr><td>Идентификационный&nbsp; номер в базе данных</td><td>CASE_ID</td><td>Уникальный номер для зарегистрированного происшествия в таблице происшествий.</td></tr><tr><td>Номер участника происшествия</td><td>PARTY_NUMBER</td><td>От 1 до N — по числу участников происшествия</td></tr><tr><td>Тип участника происшествия</td><td>PARTY_TYPE</td><td>1 — Car (Авто)</td></tr><tr><td></td></tr><tr><td></td><td></td><td>2 — Road bumper (Дорожные знаки)</td></tr><tr><td></td></tr><tr><td></td><td></td><td>3 — Building (Строения)</td></tr><tr><td></td></tr><tr><td></td><td></td><td>4 — Road signs (Отбойник)</td></tr><tr><td></td></tr><tr><td></td><td></td><td>5 — Other (Другое)</td></tr><tr><td></td></tr><tr><td></td><td></td><td>6 — Operator (Оператор)</td></tr><tr><td></td></tr><tr><td></td><td></td><td>- — Not Stated (Не указано)</td></tr><tr><td>Виновность участника</td><td>AT_FAULT</td><td>0/1</td></tr><tr><td>Сумма страховки (тыс. $)</td><td>INSURANCE_PREMIUM</td><td>число</td></tr><tr><td>Состояние участника: физическое или с учётом принятых лекарств</td><td>PARTY_DRUG_PHYSICAL</td><td>E — Under Drug Influence (Под воздействием лекарств)</td></tr><tr><td></td></tr><tr><td></td><td></td><td>F — Impairment — Physical (Ухудшение состояния)</td></tr><tr><td></td></tr><tr><td></td><td></td><td>G — Impairment Unknown (Не известно)</td></tr><tr><td></td></tr><tr><td></td><td></td><td>H — Not Applicable (Не оценивался)</td></tr><tr><td></td></tr><tr><td></td><td></td><td>I — Sleepy/Fatigued (Сонный/Усталый)</td></tr><tr><td></td></tr><tr><td></td><td></td><td>- — Not Stated (Не указано)</td></tr><tr><td>Трезвость участника</td><td>PARTY_SOBRIETY</td><td>A — Had Not Been Drinking (Не пил)</td></tr><tr><td></td></tr><tr><td></td><td></td><td>B — Had Been Drinking, Under Influence (Был пьян, под влиянием)</td></tr><tr><td></td></tr><tr><td></td><td></td><td>C — Had Been Drinking, Not Under Influence (Был пьян, не под влиянием)</td></tr><tr><td></td></tr><tr><td></td><td></td><td>D — Had Been Drinking, Impairment Unknown (Был пьян, ухудшение неизвестно)</td></tr><tr><td></td></tr><tr><td></td><td></td><td>G — Impairment Unknown (Неизвестно ухудшение)</td></tr><tr><td></td></tr><tr><td></td><td></td><td>H — Not Applicable (Не оценивался)</td></tr><tr><td></td></tr><tr><td></td><td></td><td>- — Not Stated (Не указано)</td></tr><tr><td>Наличие телефона в автомобиле (возможности разговаривать по громкой связи)</td><td>CELLPHONE_IN_USE</td><td>0/1</td></tr><tr><td></td><td></td><td></td></tr></tbody></table>\n",
    "</details>"
   ]
  },
  {
   "cell_type": "markdown",
   "id": "23a82ebc",
   "metadata": {},
   "source": [
    "<br>"
   ]
  },
  {
   "cell_type": "markdown",
   "id": "6ce1451f",
   "metadata": {},
   "source": [
    "\n",
    "<details>\n",
    "\n",
    "<summary style=\"font-size: 150%; text-align: center;font-weight: bold;\">Подробнее про Vehicles (нажмите сюда)</summary>\n",
    "<h3>Vehicles <strong>(Описание автомобиля)</strong></h3><table cellpadding=\"0\" cellspacing=\"0\"><thead><tr><th scope=\"col\">Описание</th><th scope=\"col\">Обозначение в таблице</th><th scope=\"col\">Подробнее</th></tr></thead><tbody><tr><td>Индекс текущей таблицы</td><td>ID</td><td>Номер в таблице</td></tr><tr><td>Идентификационный&nbsp;номер в базе данных</td><td>CASE_ID</td><td>Уникальный номер для зарегистрированного происшествия в таблице происшествий.</td></tr><tr><td>Тип кузова</td><td>VEHICLE_TYPE</td><td>MINIVAN</td></tr><tr><td></td></tr><tr><td></td><td></td><td>COUPE</td></tr><tr><td></td></tr><tr><td></td><td></td><td>SEDAN</td></tr><tr><td></td></tr><tr><td></td><td></td><td>HATCHBACK</td></tr><tr><td></td></tr><tr><td></td><td></td><td>OTHER</td></tr><tr><td>Тип КПП</td><td>VEHICLE_TRANSMISSION</td><td>auto (Автоматическая)</td></tr><tr><td></td></tr><tr><td></td><td></td><td>manual (Ручная)</td></tr><tr><td></td></tr><tr><td></td><td></td><td>- — Not Stated (Не указано)</td></tr><tr><td>Возраст автомобиля (в годах)</td><td>VEHICLE_AGE</td><td>число</td></tr></tbody></table><div></div>\n",
    "</details>"
   ]
  },
  {
   "cell_type": "markdown",
   "id": "214e50fc",
   "metadata": {},
   "source": [
    "<br>"
   ]
  },
  {
   "cell_type": "code",
   "execution_count": 2,
   "id": "ed27decb",
   "metadata": {},
   "outputs": [],
   "source": [
    "import warnings\n",
    "import random\n",
    "\n",
    "import pandas as pd\n",
    "import numpy as np\n",
    "import optuna\n",
    "\n",
    "import matplotlib.pyplot as plt\n",
    "import seaborn as sns\n",
    "\n",
    "import torch\n",
    "import torch.nn as nn\n",
    "import lightgbm as lgb\n",
    "\n",
    "from sqlalchemy import create_engine \n",
    "\n",
    "from sklearn.metrics import precision_score, confusion_matrix, recall_score, accuracy_score, roc_auc_score, f1_score\n",
    "\n",
    "from lightgbm import LGBMClassifier\n",
    "from catboost import CatBoostRegressor, CatBoostClassifier\n",
    "\n",
    "from sklearn.preprocessing import MinMaxScaler\n",
    "from sklearn.model_selection import train_test_split\n",
    "from category_encoders.cat_boost import CatBoostEncoder\n",
    "\n",
    "warnings.filterwarnings(\"ignore\")\n",
    "seed = 1234\n",
    "torch.manual_seed(seed)\n",
    "torch.cuda.manual_seed(seed)\n",
    "torch.cuda.manual_seed_all(seed)\n",
    "np.random.seed(seed)\n",
    "random.seed(seed)\n",
    "torch.backends.cudnn.deterministic = True\n",
    "torch.backends.cudnn.benchmark = False"
   ]
  },
  {
   "cell_type": "markdown",
   "id": "d5923296",
   "metadata": {
    "ExecuteTime": {
     "end_time": "2022-05-05T04:58:05.692448Z",
     "start_time": "2022-05-05T04:58:05.688565Z"
    }
   },
   "source": [
    "## Подключитесь к базе. Загрузите таблицы sql"
   ]
  },
  {
   "cell_type": "code",
   "execution_count": 3,
   "id": "aeb9815c",
   "metadata": {},
   "outputs": [],
   "source": [
    "db_config = {\n",
    "'user': 'praktikum_student', # имя пользователя,\n",
    "'pwd': 'Sdf4$2;d-d30pp', # пароль,\n",
    "'host': 'rc1b-wcoijxj3yxfsf3fs.mdb.yandexcloud.net',\n",
    "'port': 6432, # порт подключения,\n",
    "'db': 'data-science-vehicle-db' # название базы данных,\n",
    "} \n",
    "\n",
    "connection_string = 'postgresql://{}:{}@{}:{}/{}'.format(\n",
    "    db_config['user'],\n",
    "    db_config['pwd'],\n",
    "    db_config['host'],\n",
    "    db_config['port'],\n",
    "    db_config['db'],\n",
    ")"
   ]
  },
  {
   "cell_type": "code",
   "execution_count": 4,
   "id": "49c62fc8",
   "metadata": {},
   "outputs": [],
   "source": [
    "engine = create_engine(connection_string) "
   ]
  },
  {
   "cell_type": "markdown",
   "id": "e63897f5",
   "metadata": {},
   "source": [
    "## Проведите первичное исследование таблиц"
   ]
  },
  {
   "cell_type": "code",
   "execution_count": 5,
   "id": "7912b9d3",
   "metadata": {},
   "outputs": [
    {
     "data": {
      "text/html": [
       "<div>\n",
       "<style scoped>\n",
       "    .dataframe tbody tr th:only-of-type {\n",
       "        vertical-align: middle;\n",
       "    }\n",
       "\n",
       "    .dataframe tbody tr th {\n",
       "        vertical-align: top;\n",
       "    }\n",
       "\n",
       "    .dataframe thead th {\n",
       "        text-align: right;\n",
       "    }\n",
       "</style>\n",
       "<table border=\"1\" class=\"dataframe\">\n",
       "  <thead>\n",
       "    <tr style=\"text-align: right;\">\n",
       "      <th></th>\n",
       "      <th>case_id</th>\n",
       "      <th>db_year</th>\n",
       "    </tr>\n",
       "  </thead>\n",
       "  <tbody>\n",
       "    <tr>\n",
       "      <th>0</th>\n",
       "      <td>0081715</td>\n",
       "      <td>2021</td>\n",
       "    </tr>\n",
       "    <tr>\n",
       "      <th>1</th>\n",
       "      <td>0726202</td>\n",
       "      <td>2021</td>\n",
       "    </tr>\n",
       "    <tr>\n",
       "      <th>2</th>\n",
       "      <td>3858022</td>\n",
       "      <td>2021</td>\n",
       "    </tr>\n",
       "    <tr>\n",
       "      <th>3</th>\n",
       "      <td>3899441</td>\n",
       "      <td>2021</td>\n",
       "    </tr>\n",
       "    <tr>\n",
       "      <th>4</th>\n",
       "      <td>3899442</td>\n",
       "      <td>2021</td>\n",
       "    </tr>\n",
       "    <tr>\n",
       "      <th>5</th>\n",
       "      <td>3899445</td>\n",
       "      <td>2021</td>\n",
       "    </tr>\n",
       "    <tr>\n",
       "      <th>6</th>\n",
       "      <td>3899446</td>\n",
       "      <td>2021</td>\n",
       "    </tr>\n",
       "    <tr>\n",
       "      <th>7</th>\n",
       "      <td>3899449</td>\n",
       "      <td>2021</td>\n",
       "    </tr>\n",
       "    <tr>\n",
       "      <th>8</th>\n",
       "      <td>3899450</td>\n",
       "      <td>2021</td>\n",
       "    </tr>\n",
       "    <tr>\n",
       "      <th>9</th>\n",
       "      <td>3899453</td>\n",
       "      <td>2021</td>\n",
       "    </tr>\n",
       "  </tbody>\n",
       "</table>\n",
       "</div>"
      ],
      "text/plain": [
       "   case_id db_year\n",
       "0  0081715    2021\n",
       "1  0726202    2021\n",
       "2  3858022    2021\n",
       "3  3899441    2021\n",
       "4  3899442    2021\n",
       "5  3899445    2021\n",
       "6  3899446    2021\n",
       "7  3899449    2021\n",
       "8  3899450    2021\n",
       "9  3899453    2021"
      ]
     },
     "execution_count": 5,
     "metadata": {},
     "output_type": "execute_result"
    }
   ],
   "source": [
    "query =  '''\n",
    "    SELECT * \n",
    "    FROM case_ids\n",
    "    LIMIT 10\n",
    " '''\n",
    "\n",
    "pd.read_sql_query(query, con=engine)"
   ]
  },
  {
   "cell_type": "code",
   "execution_count": 6,
   "id": "09e25135",
   "metadata": {},
   "outputs": [
    {
     "data": {
      "text/html": [
       "<div>\n",
       "<style scoped>\n",
       "    .dataframe tbody tr th:only-of-type {\n",
       "        vertical-align: middle;\n",
       "    }\n",
       "\n",
       "    .dataframe tbody tr th {\n",
       "        vertical-align: top;\n",
       "    }\n",
       "\n",
       "    .dataframe thead th {\n",
       "        text-align: right;\n",
       "    }\n",
       "</style>\n",
       "<table border=\"1\" class=\"dataframe\">\n",
       "  <thead>\n",
       "    <tr style=\"text-align: right;\">\n",
       "      <th></th>\n",
       "      <th>case_id</th>\n",
       "      <th>county_city_location</th>\n",
       "      <th>county_location</th>\n",
       "      <th>distance</th>\n",
       "      <th>direction</th>\n",
       "      <th>intersection</th>\n",
       "      <th>weather_1</th>\n",
       "      <th>location_type</th>\n",
       "      <th>collision_damage</th>\n",
       "      <th>party_count</th>\n",
       "      <th>primary_collision_factor</th>\n",
       "      <th>pcf_violation_category</th>\n",
       "      <th>type_of_collision</th>\n",
       "      <th>motor_vehicle_involved_with</th>\n",
       "      <th>road_surface</th>\n",
       "      <th>road_condition_1</th>\n",
       "      <th>lighting</th>\n",
       "      <th>control_device</th>\n",
       "      <th>collision_date</th>\n",
       "      <th>collision_time</th>\n",
       "    </tr>\n",
       "  </thead>\n",
       "  <tbody>\n",
       "    <tr>\n",
       "      <th>0</th>\n",
       "      <td>4083072</td>\n",
       "      <td>1942</td>\n",
       "      <td>los angeles</td>\n",
       "      <td>528.0</td>\n",
       "      <td>north</td>\n",
       "      <td>0</td>\n",
       "      <td>cloudy</td>\n",
       "      <td>highway</td>\n",
       "      <td>small damage</td>\n",
       "      <td>2</td>\n",
       "      <td>vehicle code violation</td>\n",
       "      <td>unsafe lane change</td>\n",
       "      <td>sideswipe</td>\n",
       "      <td>other motor vehicle</td>\n",
       "      <td>wet</td>\n",
       "      <td>normal</td>\n",
       "      <td>daylight</td>\n",
       "      <td>none</td>\n",
       "      <td>2009-01-22</td>\n",
       "      <td>07:25:00</td>\n",
       "    </tr>\n",
       "    <tr>\n",
       "      <th>1</th>\n",
       "      <td>4083075</td>\n",
       "      <td>4313</td>\n",
       "      <td>santa clara</td>\n",
       "      <td>0.0</td>\n",
       "      <td>None</td>\n",
       "      <td>1</td>\n",
       "      <td>clear</td>\n",
       "      <td>None</td>\n",
       "      <td>small damage</td>\n",
       "      <td>1</td>\n",
       "      <td>vehicle code violation</td>\n",
       "      <td>improper passing</td>\n",
       "      <td>hit object</td>\n",
       "      <td>fixed object</td>\n",
       "      <td>dry</td>\n",
       "      <td>normal</td>\n",
       "      <td>dark with street lights</td>\n",
       "      <td>functioning</td>\n",
       "      <td>2009-01-03</td>\n",
       "      <td>02:26:00</td>\n",
       "    </tr>\n",
       "    <tr>\n",
       "      <th>2</th>\n",
       "      <td>4083073</td>\n",
       "      <td>0109</td>\n",
       "      <td>alameda</td>\n",
       "      <td>0.0</td>\n",
       "      <td>None</td>\n",
       "      <td>1</td>\n",
       "      <td>clear</td>\n",
       "      <td>None</td>\n",
       "      <td>scratch</td>\n",
       "      <td>2</td>\n",
       "      <td>vehicle code violation</td>\n",
       "      <td>improper turning</td>\n",
       "      <td>broadside</td>\n",
       "      <td>other motor vehicle</td>\n",
       "      <td>dry</td>\n",
       "      <td>normal</td>\n",
       "      <td>dark with street lights</td>\n",
       "      <td>functioning</td>\n",
       "      <td>2009-01-11</td>\n",
       "      <td>03:32:00</td>\n",
       "    </tr>\n",
       "    <tr>\n",
       "      <th>3</th>\n",
       "      <td>4083077</td>\n",
       "      <td>0109</td>\n",
       "      <td>alameda</td>\n",
       "      <td>0.0</td>\n",
       "      <td>None</td>\n",
       "      <td>1</td>\n",
       "      <td>clear</td>\n",
       "      <td>None</td>\n",
       "      <td>scratch</td>\n",
       "      <td>2</td>\n",
       "      <td>vehicle code violation</td>\n",
       "      <td>automobile right of way</td>\n",
       "      <td>broadside</td>\n",
       "      <td>other motor vehicle</td>\n",
       "      <td>dry</td>\n",
       "      <td>normal</td>\n",
       "      <td>daylight</td>\n",
       "      <td>functioning</td>\n",
       "      <td>2009-01-11</td>\n",
       "      <td>10:35:00</td>\n",
       "    </tr>\n",
       "    <tr>\n",
       "      <th>4</th>\n",
       "      <td>4083087</td>\n",
       "      <td>4313</td>\n",
       "      <td>santa clara</td>\n",
       "      <td>0.0</td>\n",
       "      <td>None</td>\n",
       "      <td>1</td>\n",
       "      <td>clear</td>\n",
       "      <td>None</td>\n",
       "      <td>scratch</td>\n",
       "      <td>2</td>\n",
       "      <td>vehicle code violation</td>\n",
       "      <td>speeding</td>\n",
       "      <td>rear end</td>\n",
       "      <td>other motor vehicle</td>\n",
       "      <td>dry</td>\n",
       "      <td>None</td>\n",
       "      <td>dark with street lights</td>\n",
       "      <td>functioning</td>\n",
       "      <td>2009-01-02</td>\n",
       "      <td>22:43:00</td>\n",
       "    </tr>\n",
       "    <tr>\n",
       "      <th>5</th>\n",
       "      <td>4083097</td>\n",
       "      <td>0109</td>\n",
       "      <td>alameda</td>\n",
       "      <td>0.0</td>\n",
       "      <td>None</td>\n",
       "      <td>1</td>\n",
       "      <td>clear</td>\n",
       "      <td>ramp</td>\n",
       "      <td>small damage</td>\n",
       "      <td>2</td>\n",
       "      <td>vehicle code violation</td>\n",
       "      <td>speeding</td>\n",
       "      <td>rear end</td>\n",
       "      <td>other motor vehicle</td>\n",
       "      <td>dry</td>\n",
       "      <td>normal</td>\n",
       "      <td>dark with street lights</td>\n",
       "      <td>functioning</td>\n",
       "      <td>2009-01-18</td>\n",
       "      <td>02:18:00</td>\n",
       "    </tr>\n",
       "    <tr>\n",
       "      <th>6</th>\n",
       "      <td>4083092</td>\n",
       "      <td>1942</td>\n",
       "      <td>los angeles</td>\n",
       "      <td>1320.0</td>\n",
       "      <td>south</td>\n",
       "      <td>0</td>\n",
       "      <td>clear</td>\n",
       "      <td>highway</td>\n",
       "      <td>scratch</td>\n",
       "      <td>2</td>\n",
       "      <td>vehicle code violation</td>\n",
       "      <td>unsafe lane change</td>\n",
       "      <td>rear end</td>\n",
       "      <td>other motor vehicle</td>\n",
       "      <td>dry</td>\n",
       "      <td>normal</td>\n",
       "      <td>daylight</td>\n",
       "      <td>none</td>\n",
       "      <td>2009-01-21</td>\n",
       "      <td>10:30:00</td>\n",
       "    </tr>\n",
       "    <tr>\n",
       "      <th>7</th>\n",
       "      <td>4083096</td>\n",
       "      <td>1942</td>\n",
       "      <td>los angeles</td>\n",
       "      <td>200.0</td>\n",
       "      <td>south</td>\n",
       "      <td>0</td>\n",
       "      <td>clear</td>\n",
       "      <td>highway</td>\n",
       "      <td>scratch</td>\n",
       "      <td>3</td>\n",
       "      <td>vehicle code violation</td>\n",
       "      <td>speeding</td>\n",
       "      <td>rear end</td>\n",
       "      <td>other motor vehicle</td>\n",
       "      <td>dry</td>\n",
       "      <td>normal</td>\n",
       "      <td>daylight</td>\n",
       "      <td>none</td>\n",
       "      <td>2009-01-21</td>\n",
       "      <td>08:55:00</td>\n",
       "    </tr>\n",
       "    <tr>\n",
       "      <th>8</th>\n",
       "      <td>4083100</td>\n",
       "      <td>1942</td>\n",
       "      <td>los angeles</td>\n",
       "      <td>2112.0</td>\n",
       "      <td>north</td>\n",
       "      <td>0</td>\n",
       "      <td>cloudy</td>\n",
       "      <td>highway</td>\n",
       "      <td>scratch</td>\n",
       "      <td>2</td>\n",
       "      <td>vehicle code violation</td>\n",
       "      <td>speeding</td>\n",
       "      <td>rear end</td>\n",
       "      <td>other motor vehicle</td>\n",
       "      <td>dry</td>\n",
       "      <td>normal</td>\n",
       "      <td>daylight</td>\n",
       "      <td>none</td>\n",
       "      <td>2009-01-21</td>\n",
       "      <td>16:20:00</td>\n",
       "    </tr>\n",
       "    <tr>\n",
       "      <th>9</th>\n",
       "      <td>4083103</td>\n",
       "      <td>4313</td>\n",
       "      <td>santa clara</td>\n",
       "      <td>0.0</td>\n",
       "      <td>None</td>\n",
       "      <td>1</td>\n",
       "      <td>cloudy</td>\n",
       "      <td>None</td>\n",
       "      <td>scratch</td>\n",
       "      <td>2</td>\n",
       "      <td>vehicle code violation</td>\n",
       "      <td>None</td>\n",
       "      <td>broadside</td>\n",
       "      <td>other motor vehicle</td>\n",
       "      <td>wet</td>\n",
       "      <td>normal</td>\n",
       "      <td>dusk or dawn</td>\n",
       "      <td>functioning</td>\n",
       "      <td>2009-01-02</td>\n",
       "      <td>15:55:00</td>\n",
       "    </tr>\n",
       "  </tbody>\n",
       "</table>\n",
       "</div>"
      ],
      "text/plain": [
       "   case_id county_city_location county_location  distance direction  \\\n",
       "0  4083072                 1942     los angeles     528.0     north   \n",
       "1  4083075                 4313     santa clara       0.0      None   \n",
       "2  4083073                 0109         alameda       0.0      None   \n",
       "3  4083077                 0109         alameda       0.0      None   \n",
       "4  4083087                 4313     santa clara       0.0      None   \n",
       "5  4083097                 0109         alameda       0.0      None   \n",
       "6  4083092                 1942     los angeles    1320.0     south   \n",
       "7  4083096                 1942     los angeles     200.0     south   \n",
       "8  4083100                 1942     los angeles    2112.0     north   \n",
       "9  4083103                 4313     santa clara       0.0      None   \n",
       "\n",
       "   intersection weather_1 location_type collision_damage  party_count  \\\n",
       "0             0    cloudy       highway     small damage            2   \n",
       "1             1     clear          None     small damage            1   \n",
       "2             1     clear          None          scratch            2   \n",
       "3             1     clear          None          scratch            2   \n",
       "4             1     clear          None          scratch            2   \n",
       "5             1     clear          ramp     small damage            2   \n",
       "6             0     clear       highway          scratch            2   \n",
       "7             0     clear       highway          scratch            3   \n",
       "8             0    cloudy       highway          scratch            2   \n",
       "9             1    cloudy          None          scratch            2   \n",
       "\n",
       "  primary_collision_factor   pcf_violation_category type_of_collision  \\\n",
       "0   vehicle code violation       unsafe lane change         sideswipe   \n",
       "1   vehicle code violation         improper passing        hit object   \n",
       "2   vehicle code violation         improper turning         broadside   \n",
       "3   vehicle code violation  automobile right of way         broadside   \n",
       "4   vehicle code violation                 speeding          rear end   \n",
       "5   vehicle code violation                 speeding          rear end   \n",
       "6   vehicle code violation       unsafe lane change          rear end   \n",
       "7   vehicle code violation                 speeding          rear end   \n",
       "8   vehicle code violation                 speeding          rear end   \n",
       "9   vehicle code violation                     None         broadside   \n",
       "\n",
       "  motor_vehicle_involved_with road_surface road_condition_1  \\\n",
       "0         other motor vehicle          wet           normal   \n",
       "1                fixed object          dry           normal   \n",
       "2         other motor vehicle          dry           normal   \n",
       "3         other motor vehicle          dry           normal   \n",
       "4         other motor vehicle          dry             None   \n",
       "5         other motor vehicle          dry           normal   \n",
       "6         other motor vehicle          dry           normal   \n",
       "7         other motor vehicle          dry           normal   \n",
       "8         other motor vehicle          dry           normal   \n",
       "9         other motor vehicle          wet           normal   \n",
       "\n",
       "                  lighting control_device collision_date collision_time  \n",
       "0                 daylight           none     2009-01-22       07:25:00  \n",
       "1  dark with street lights    functioning     2009-01-03       02:26:00  \n",
       "2  dark with street lights    functioning     2009-01-11       03:32:00  \n",
       "3                 daylight    functioning     2009-01-11       10:35:00  \n",
       "4  dark with street lights    functioning     2009-01-02       22:43:00  \n",
       "5  dark with street lights    functioning     2009-01-18       02:18:00  \n",
       "6                 daylight           none     2009-01-21       10:30:00  \n",
       "7                 daylight           none     2009-01-21       08:55:00  \n",
       "8                 daylight           none     2009-01-21       16:20:00  \n",
       "9             dusk or dawn    functioning     2009-01-02       15:55:00  "
      ]
     },
     "execution_count": 6,
     "metadata": {},
     "output_type": "execute_result"
    }
   ],
   "source": [
    "query =  '''\n",
    "    SELECT * \n",
    "    FROM collisions\n",
    "    LIMIT 10\n",
    " '''\n",
    "\n",
    "pd.read_sql_query(query, con=engine)"
   ]
  },
  {
   "cell_type": "code",
   "execution_count": 7,
   "id": "a7e005d5",
   "metadata": {},
   "outputs": [
    {
     "data": {
      "text/html": [
       "<div>\n",
       "<style scoped>\n",
       "    .dataframe tbody tr th:only-of-type {\n",
       "        vertical-align: middle;\n",
       "    }\n",
       "\n",
       "    .dataframe tbody tr th {\n",
       "        vertical-align: top;\n",
       "    }\n",
       "\n",
       "    .dataframe thead th {\n",
       "        text-align: right;\n",
       "    }\n",
       "</style>\n",
       "<table border=\"1\" class=\"dataframe\">\n",
       "  <thead>\n",
       "    <tr style=\"text-align: right;\">\n",
       "      <th></th>\n",
       "      <th>id</th>\n",
       "      <th>case_id</th>\n",
       "      <th>party_number</th>\n",
       "      <th>party_type</th>\n",
       "      <th>at_fault</th>\n",
       "      <th>insurance_premium</th>\n",
       "      <th>party_sobriety</th>\n",
       "      <th>party_drug_physical</th>\n",
       "      <th>cellphone_in_use</th>\n",
       "    </tr>\n",
       "  </thead>\n",
       "  <tbody>\n",
       "    <tr>\n",
       "      <th>0</th>\n",
       "      <td>22</td>\n",
       "      <td>3899454</td>\n",
       "      <td>1</td>\n",
       "      <td>road signs</td>\n",
       "      <td>1</td>\n",
       "      <td>29.0</td>\n",
       "      <td>had not been drinking</td>\n",
       "      <td>None</td>\n",
       "      <td>0.0</td>\n",
       "    </tr>\n",
       "    <tr>\n",
       "      <th>1</th>\n",
       "      <td>23</td>\n",
       "      <td>3899454</td>\n",
       "      <td>2</td>\n",
       "      <td>road signs</td>\n",
       "      <td>0</td>\n",
       "      <td>7.0</td>\n",
       "      <td>had not been drinking</td>\n",
       "      <td>None</td>\n",
       "      <td>0.0</td>\n",
       "    </tr>\n",
       "    <tr>\n",
       "      <th>2</th>\n",
       "      <td>29</td>\n",
       "      <td>3899462</td>\n",
       "      <td>2</td>\n",
       "      <td>car</td>\n",
       "      <td>0</td>\n",
       "      <td>21.0</td>\n",
       "      <td>had not been drinking</td>\n",
       "      <td>None</td>\n",
       "      <td>0.0</td>\n",
       "    </tr>\n",
       "    <tr>\n",
       "      <th>3</th>\n",
       "      <td>31</td>\n",
       "      <td>3899465</td>\n",
       "      <td>2</td>\n",
       "      <td>road signs</td>\n",
       "      <td>0</td>\n",
       "      <td>24.0</td>\n",
       "      <td>had not been drinking</td>\n",
       "      <td>None</td>\n",
       "      <td>0.0</td>\n",
       "    </tr>\n",
       "    <tr>\n",
       "      <th>4</th>\n",
       "      <td>41</td>\n",
       "      <td>3899478</td>\n",
       "      <td>2</td>\n",
       "      <td>road bumper</td>\n",
       "      <td>0</td>\n",
       "      <td>NaN</td>\n",
       "      <td>not applicable</td>\n",
       "      <td>not applicable</td>\n",
       "      <td>0.0</td>\n",
       "    </tr>\n",
       "    <tr>\n",
       "      <th>5</th>\n",
       "      <td>43</td>\n",
       "      <td>3899481</td>\n",
       "      <td>2</td>\n",
       "      <td>road bumper</td>\n",
       "      <td>0</td>\n",
       "      <td>NaN</td>\n",
       "      <td>not applicable</td>\n",
       "      <td>not applicable</td>\n",
       "      <td>0.0</td>\n",
       "    </tr>\n",
       "    <tr>\n",
       "      <th>6</th>\n",
       "      <td>72</td>\n",
       "      <td>3899505</td>\n",
       "      <td>2</td>\n",
       "      <td>road bumper</td>\n",
       "      <td>0</td>\n",
       "      <td>NaN</td>\n",
       "      <td>not applicable</td>\n",
       "      <td>not applicable</td>\n",
       "      <td>0.0</td>\n",
       "    </tr>\n",
       "    <tr>\n",
       "      <th>7</th>\n",
       "      <td>73</td>\n",
       "      <td>3899505</td>\n",
       "      <td>3</td>\n",
       "      <td>road bumper</td>\n",
       "      <td>0</td>\n",
       "      <td>NaN</td>\n",
       "      <td>not applicable</td>\n",
       "      <td>not applicable</td>\n",
       "      <td>0.0</td>\n",
       "    </tr>\n",
       "    <tr>\n",
       "      <th>8</th>\n",
       "      <td>76</td>\n",
       "      <td>3899509</td>\n",
       "      <td>1</td>\n",
       "      <td>road bumper</td>\n",
       "      <td>0</td>\n",
       "      <td>NaN</td>\n",
       "      <td>had not been drinking</td>\n",
       "      <td>None</td>\n",
       "      <td>0.0</td>\n",
       "    </tr>\n",
       "    <tr>\n",
       "      <th>9</th>\n",
       "      <td>93</td>\n",
       "      <td>3981292</td>\n",
       "      <td>2</td>\n",
       "      <td>road bumper</td>\n",
       "      <td>0</td>\n",
       "      <td>NaN</td>\n",
       "      <td>had not been drinking</td>\n",
       "      <td>None</td>\n",
       "      <td>NaN</td>\n",
       "    </tr>\n",
       "  </tbody>\n",
       "</table>\n",
       "</div>"
      ],
      "text/plain": [
       "   id  case_id  party_number   party_type  at_fault  insurance_premium  \\\n",
       "0  22  3899454             1   road signs         1               29.0   \n",
       "1  23  3899454             2   road signs         0                7.0   \n",
       "2  29  3899462             2          car         0               21.0   \n",
       "3  31  3899465             2   road signs         0               24.0   \n",
       "4  41  3899478             2  road bumper         0                NaN   \n",
       "5  43  3899481             2  road bumper         0                NaN   \n",
       "6  72  3899505             2  road bumper         0                NaN   \n",
       "7  73  3899505             3  road bumper         0                NaN   \n",
       "8  76  3899509             1  road bumper         0                NaN   \n",
       "9  93  3981292             2  road bumper         0                NaN   \n",
       "\n",
       "          party_sobriety party_drug_physical  cellphone_in_use  \n",
       "0  had not been drinking                None               0.0  \n",
       "1  had not been drinking                None               0.0  \n",
       "2  had not been drinking                None               0.0  \n",
       "3  had not been drinking                None               0.0  \n",
       "4         not applicable      not applicable               0.0  \n",
       "5         not applicable      not applicable               0.0  \n",
       "6         not applicable      not applicable               0.0  \n",
       "7         not applicable      not applicable               0.0  \n",
       "8  had not been drinking                None               0.0  \n",
       "9  had not been drinking                None               NaN  "
      ]
     },
     "execution_count": 7,
     "metadata": {},
     "output_type": "execute_result"
    }
   ],
   "source": [
    "query =  '''\n",
    "    SELECT * \n",
    "    FROM parties\n",
    "    LIMIT 10\n",
    " '''\n",
    "\n",
    "pd.read_sql_query(query, con=engine)"
   ]
  },
  {
   "cell_type": "code",
   "execution_count": 8,
   "id": "9fb07f77",
   "metadata": {},
   "outputs": [
    {
     "data": {
      "text/html": [
       "<div>\n",
       "<style scoped>\n",
       "    .dataframe tbody tr th:only-of-type {\n",
       "        vertical-align: middle;\n",
       "    }\n",
       "\n",
       "    .dataframe tbody tr th {\n",
       "        vertical-align: top;\n",
       "    }\n",
       "\n",
       "    .dataframe thead th {\n",
       "        text-align: right;\n",
       "    }\n",
       "</style>\n",
       "<table border=\"1\" class=\"dataframe\">\n",
       "  <thead>\n",
       "    <tr style=\"text-align: right;\">\n",
       "      <th></th>\n",
       "      <th>id</th>\n",
       "      <th>case_id</th>\n",
       "      <th>party_number</th>\n",
       "      <th>vehicle_type</th>\n",
       "      <th>vehicle_transmission</th>\n",
       "      <th>vehicle_age</th>\n",
       "    </tr>\n",
       "  </thead>\n",
       "  <tbody>\n",
       "    <tr>\n",
       "      <th>0</th>\n",
       "      <td>1175713</td>\n",
       "      <td>5305032</td>\n",
       "      <td>2</td>\n",
       "      <td>sedan</td>\n",
       "      <td>manual</td>\n",
       "      <td>3</td>\n",
       "    </tr>\n",
       "    <tr>\n",
       "      <th>1</th>\n",
       "      <td>1</td>\n",
       "      <td>3858022</td>\n",
       "      <td>1</td>\n",
       "      <td>sedan</td>\n",
       "      <td>auto</td>\n",
       "      <td>3</td>\n",
       "    </tr>\n",
       "    <tr>\n",
       "      <th>2</th>\n",
       "      <td>1175712</td>\n",
       "      <td>5305030</td>\n",
       "      <td>1</td>\n",
       "      <td>sedan</td>\n",
       "      <td>auto</td>\n",
       "      <td>3</td>\n",
       "    </tr>\n",
       "    <tr>\n",
       "      <th>3</th>\n",
       "      <td>1175717</td>\n",
       "      <td>5305033</td>\n",
       "      <td>3</td>\n",
       "      <td>sedan</td>\n",
       "      <td>auto</td>\n",
       "      <td>5</td>\n",
       "    </tr>\n",
       "    <tr>\n",
       "      <th>4</th>\n",
       "      <td>1175722</td>\n",
       "      <td>5305034</td>\n",
       "      <td>2</td>\n",
       "      <td>sedan</td>\n",
       "      <td>auto</td>\n",
       "      <td>5</td>\n",
       "    </tr>\n",
       "    <tr>\n",
       "      <th>5</th>\n",
       "      <td>1175737</td>\n",
       "      <td>5305046</td>\n",
       "      <td>2</td>\n",
       "      <td>sedan</td>\n",
       "      <td>auto</td>\n",
       "      <td>5</td>\n",
       "    </tr>\n",
       "    <tr>\n",
       "      <th>6</th>\n",
       "      <td>1175750</td>\n",
       "      <td>5305053</td>\n",
       "      <td>3</td>\n",
       "      <td>sedan</td>\n",
       "      <td>auto</td>\n",
       "      <td>9</td>\n",
       "    </tr>\n",
       "    <tr>\n",
       "      <th>7</th>\n",
       "      <td>1175715</td>\n",
       "      <td>5305033</td>\n",
       "      <td>1</td>\n",
       "      <td>sedan</td>\n",
       "      <td>manual</td>\n",
       "      <td>10</td>\n",
       "    </tr>\n",
       "    <tr>\n",
       "      <th>8</th>\n",
       "      <td>1175716</td>\n",
       "      <td>5305033</td>\n",
       "      <td>2</td>\n",
       "      <td>sedan</td>\n",
       "      <td>manual</td>\n",
       "      <td>4</td>\n",
       "    </tr>\n",
       "    <tr>\n",
       "      <th>9</th>\n",
       "      <td>1175758</td>\n",
       "      <td>5305060</td>\n",
       "      <td>2</td>\n",
       "      <td>sedan</td>\n",
       "      <td>auto</td>\n",
       "      <td>11</td>\n",
       "    </tr>\n",
       "  </tbody>\n",
       "</table>\n",
       "</div>"
      ],
      "text/plain": [
       "        id  case_id  party_number vehicle_type vehicle_transmission  \\\n",
       "0  1175713  5305032             2        sedan               manual   \n",
       "1        1  3858022             1        sedan                 auto   \n",
       "2  1175712  5305030             1        sedan                 auto   \n",
       "3  1175717  5305033             3        sedan                 auto   \n",
       "4  1175722  5305034             2        sedan                 auto   \n",
       "5  1175737  5305046             2        sedan                 auto   \n",
       "6  1175750  5305053             3        sedan                 auto   \n",
       "7  1175715  5305033             1        sedan               manual   \n",
       "8  1175716  5305033             2        sedan               manual   \n",
       "9  1175758  5305060             2        sedan                 auto   \n",
       "\n",
       "   vehicle_age  \n",
       "0            3  \n",
       "1            3  \n",
       "2            3  \n",
       "3            5  \n",
       "4            5  \n",
       "5            5  \n",
       "6            9  \n",
       "7           10  \n",
       "8            4  \n",
       "9           11  "
      ]
     },
     "execution_count": 8,
     "metadata": {},
     "output_type": "execute_result"
    }
   ],
   "source": [
    "query =  '''\n",
    "    SELECT * \n",
    "    FROM vehicles\n",
    "    LIMIT 10\n",
    " '''\n",
    "\n",
    "pd.read_sql_query(query, con=engine) "
   ]
  },
  {
   "cell_type": "markdown",
   "id": "afe4c470",
   "metadata": {},
   "source": [
    "<br>"
   ]
  },
  {
   "cell_type": "markdown",
   "id": "5e370a90",
   "metadata": {},
   "source": [
    "Ошибок в таблицах не обнаружено, но возможно они проявят себя в будущем. Общий ключ \"case_id\" присутствует во всех таблицах.\n",
    "\n",
    "**Незначительное замечание**: Таблица \"case_ids\" частично не соответствует ER-диаграмме."
   ]
  },
  {
   "cell_type": "markdown",
   "id": "1cea6d57",
   "metadata": {},
   "source": [
    "<br>"
   ]
  },
  {
   "cell_type": "markdown",
   "id": "04b82301",
   "metadata": {},
   "source": [
    "##  Проведите статистический анализ факторов ДТП"
   ]
  },
  {
   "cell_type": "markdown",
   "id": "07a4d136",
   "metadata": {},
   "source": [
    "### Месяцы и аварии"
   ]
  },
  {
   "cell_type": "code",
   "execution_count": 9,
   "id": "22a7c7ab",
   "metadata": {},
   "outputs": [],
   "source": [
    "query =  '''\n",
    "    SELECT EXTRACT('YEAR' FROM COLLISION_DATE) as year,\n",
    "                   EXTRACT('MONTH' FROM COLLISION_DATE) as month, \n",
    "                   COUNT(*) as cnt\n",
    "    FROM collisions as c\n",
    "    GROUP BY EXTRACT('YEAR' FROM COLLISION_DATE),\n",
    "                       EXTRACT('MONTH' FROM COLLISION_DATE)\n",
    " '''\n",
    "temp = pd.read_sql_query(query, con=engine)"
   ]
  },
  {
   "cell_type": "code",
   "execution_count": 10,
   "id": "f9c494e7",
   "metadata": {},
   "outputs": [
    {
     "data": {
      "image/png": "[encoded data removed]",
      "text/plain": [
       "<Figure size 1080x432 with 1 Axes>"
      ]
     },
     "metadata": {
      "needs_background": "light"
     },
     "output_type": "display_data"
    }
   ],
   "source": [
    "plt.figure(figsize = (15, 6))\n",
    "sns.barplot(data=temp, x=\"month\", y=\"cnt\", hue=\"year\")\n",
    "plt.title('Количество аварий по месяцам и годам')\n",
    "plt.show()"
   ]
  },
  {
   "cell_type": "markdown",
   "id": "fab73558",
   "metadata": {},
   "source": [
    "<br>"
   ]
  },
  {
   "cell_type": "markdown",
   "id": "7e732c86",
   "metadata": {},
   "source": [
    "Как видно на графике, данные за **вторую половину 2012 года и последующие годы неполные**. Для объективной оценки **не следует учитывать неполные года** при оценке временных показателей."
   ]
  },
  {
   "cell_type": "markdown",
   "id": "348bce00",
   "metadata": {},
   "source": [
    "<br>"
   ]
  },
  {
   "cell_type": "code",
   "execution_count": 11,
   "id": "a8580b8c",
   "metadata": {},
   "outputs": [],
   "source": [
    "query =  '''\n",
    "    SELECT EXTRACT('YEAR' FROM COLLISION_DATE) as year,\n",
    "                   EXTRACT('MONTH' FROM COLLISION_DATE) as month, \n",
    "                   COUNT(*) as cnt\n",
    "    FROM collisions as c\n",
    "    WHERE EXTRACT('YEAR' FROM COLLISION_DATE) <= 2011\n",
    "    GROUP BY EXTRACT('YEAR' FROM COLLISION_DATE),\n",
    "                       EXTRACT('MONTH' FROM COLLISION_DATE)\n",
    " '''\n",
    "temp_1 = pd.read_sql_query(query, con=engine)\n",
    "\n",
    "query =  '''\n",
    "    SELECT EXTRACT('MONTH' FROM COLLISION_DATE) as month, \n",
    "                   COLLISION_DAMAGE as damage,\n",
    "                   COUNT(*) as cnt\n",
    "    FROM collisions as c\n",
    "    WHERE EXTRACT('YEAR' FROM COLLISION_DATE) <= 2011\n",
    "    GROUP BY EXTRACT('MONTH' FROM COLLISION_DATE),\n",
    "                       COLLISION_DAMAGE\n",
    " '''\n",
    "temp_2 = pd.read_sql_query(query, con=engine)"
   ]
  },
  {
   "cell_type": "code",
   "execution_count": 12,
   "id": "1b22131a",
   "metadata": {},
   "outputs": [
    {
     "data": {
      "image/png": "[encoded data removed]",
      "text/plain": [
       "<Figure size 1080x432 with 1 Axes>"
      ]
     },
     "metadata": {
      "needs_background": "light"
     },
     "output_type": "display_data"
    }
   ],
   "source": [
    "plt.figure(figsize = (15, 6))\n",
    "sns.barplot(data=temp_1, x=\"month\", y=\"cnt\", hue=\"year\")\n",
    "plt.title('Количество аварий по месяцам и годам')\n",
    "plt.show()"
   ]
  },
  {
   "cell_type": "code",
   "execution_count": 13,
   "id": "534414ba",
   "metadata": {},
   "outputs": [
    {
     "data": {
      "image/png": "[encoded data removed]",
      "text/plain": [
       "<Figure size 1080x432 with 1 Axes>"
      ]
     },
     "metadata": {
      "needs_background": "light"
     },
     "output_type": "display_data"
    }
   ],
   "source": [
    "plt.figure(figsize = (15, 6))\n",
    "sns.barplot(data=temp_2, x=\"month\", y=\"cnt\", hue = 'damage')\n",
    "plt.title('Количество аварий по месяцам и годам')\n",
    "plt.show()"
   ]
  },
  {
   "cell_type": "markdown",
   "id": "5be54874",
   "metadata": {},
   "source": [
    "<br>"
   ]
  },
  {
   "cell_type": "markdown",
   "id": "ca2d1565",
   "metadata": {},
   "source": [
    "**Вывод:**  Особой зависимости количества происшествий **по месяцам не наблюдается**. Однако заметна тенденция **снижения количества аварий** по годам. Тем не менее, судить об этом невозможно, поскольку неизвестно общее количество арендованных машин по годам и месяцам."
   ]
  },
  {
   "cell_type": "markdown",
   "id": "bc0c9d29",
   "metadata": {},
   "source": [
    "<br>"
   ]
  },
  {
   "cell_type": "code",
   "execution_count": 14,
   "id": "07f99b5b",
   "metadata": {},
   "outputs": [],
   "source": [
    "del temp, temp_1, temp_2"
   ]
  },
  {
   "cell_type": "markdown",
   "id": "25e405dc",
   "metadata": {},
   "source": [
    "### Задачи\n",
    "\n",
    "- Проведите анализ серьёзности повреждений транспортного средства, учитывая трезвость участника в момент ДТП (связать collisions и parties).\n",
    "- Проведите анализ серьёзности повреждений транспортного средства, учитывая состояние участника: физическое или с учётом принятых лекарств в момент ДТП (связать collisions и parties).\n",
    "- Проведите анализ серьёзности повреждений транспортного средства, учитывая возраст автомобиля в момент ДТП (связать collisions и vehicles).\n",
    "- Найдите наиболее опасные встречающиеся комбинации состояния дороги (мокрая, сухая и т.д.), освещения и дорожного состояния (ямы и т.д.) при ДТП (таблица parties).\n",
    "- Определить взаимосвязь между типом кузова средства и тяжестью повреждений при ДТП (связать vehicles и collisions).\n",
    "- Анализировать влияние погодных условий на степень повреждений (таблица collisions)."
   ]
  },
  {
   "cell_type": "markdown",
   "id": "1d10398a",
   "metadata": {},
   "source": [
    "**Проведите анализ серьёзности повреждений транспортного средства, учитывая трезвость участника в момент ДТП (связать collisions и parties).**"
   ]
  },
  {
   "cell_type": "markdown",
   "id": "01f9acd7",
   "metadata": {},
   "source": [
    "**1. Написать SQL запрос**\n",
    "\n",
    "``` python\n",
    "query =  '''\n",
    "    WITH cnt AS (SELECT part.PARTY_SOBRIETY, \n",
    "                                          COUNT(*) as cont\n",
    "                            FROM collisions as coli\n",
    "                            LEFT JOIN parties as part ON part.case_id = coli.case_id\n",
    "                            GROUP BY part.PARTY_SOBRIETY)\n",
    "    \n",
    "    SELECT part.PARTY_SOBRIETY, \n",
    "                   coli.COLLISION_DAMAGE,\n",
    "                   COUNT(*)::numeric / MAX(cnt.cont)::numeric as coef\n",
    "    FROM collisions as coli\n",
    "    LEFT JOIN parties as part ON part.case_id = coli.case_id\n",
    "    LEFT JOIN cnt ON cnt.PARTY_SOBRIETY = part.PARTY_SOBRIETY\n",
    "    GROUP BY part.PARTY_SOBRIETY,\n",
    "                       coli.COLLISION_DAMAGE\n",
    "    ORDER BY party_sobriety, collision_damage\n",
    " '''\n",
    "temp = pd.read_sql_query(query, con=engine)\n",
    "```"
   ]
  },
  {
   "cell_type": "markdown",
   "id": "5b58c336",
   "metadata": {},
   "source": [
    "<br>"
   ]
  },
  {
   "cell_type": "markdown",
   "id": "f71c7798",
   "metadata": {},
   "source": [
    "\n",
    "**2. Сделать график для наглядности**\n",
    "\n",
    "``` python\n",
    "plt.figure(figsize = (23, 5))\n",
    "sns.barplot(data = temp, x = 'party_sobriety', y = 'coef', hue = 'collision_damage')\n",
    "plt.title('Серьёзности повреждений при трезвость участника')\n",
    "plt.show()\n",
    "```\n",
    "\n",
    "![](data:image/png;base64,iVBORw0KGgoAAAANSUhEUgAABTYAAAFOCAYAAAC8FEKHAAAAOXRFWHRTb2Z0d2FyZQBNYXRwbG90bGliIHZlcnNpb24zLjMuNCwgaHR0cHM6Ly9tYXRwbG90bGliLm9yZy8QVMy6AAAACXBIWXMAAAsTAAALEwEAmpwYAABTS0lEQVR4nO3dfbzX8/348cezlEQuUuZ6xUqqo+TUJBcpjCHMcjFXMfM1wszMxcww312x7edyZhvGmMiabLnKagjTKVG6oFlUfEloQpRevz/e73N8Os7pnFPn0+lzetxvt269P+/36/16Pd8Xr8/F87ze73eklJAkSZIkSZKkUtKiqQOQJEmSJEmSpIYysSlJkiRJkiSp5JjYlCRJkiRJklRyTGxKkiRJkiRJKjkmNiVJkiRJkiSVHBObkiRJkiRJkkqOiU1JkrRWiIhvRMSDEbF9RLwXES2bOiY1vYjYIyIGRESriPhWRLRt6pgkSZK0djCxKUmSVpAnGCsiYnFEvJEnG/csdrsppbtSSgellF5LKW2aUvq02G2qJCwEfgO8CeyZUvqwieORJEnSWiJSSk0dgyRJWktExHeBC4HTgYeBT4ADgb1TSuc3ZWySJEmSVMgRm5IkCYCI2AS4AjgzpfSXlNIHKaWlKaUHKpOaEdEiIi6MiH9HxMKIuCci2ufLOkVEiojTIuL1fLTn9wrqvywi/rSS9k+JiBkR8W5EPBwRX8znbxgRUyPiv3mbN0fEejXVGRHr5TF0qtymiLg9IhZExKsRcUlEtCgo/628zfcjYnpE9ImI6/PRqovzuj7Ipx/M1xkfEacW7I+pETFvJdtVWMfiiPgkIm4rWD4kIl7ML78fHxE7FyybExEf5evNj4jhBcvGR8RPI+LZfN/cX3ks8uW7R8RTeb3PR8TAgpjvi4jrqsX4pXz6OxHxdERsULD8T3nci/N45hUsWz8iro6I1yLizYi4qXLdiBhYfd9ExJMRMSyfHhYRTxYs+34ey361HN8bC2OtYV+Pj4glBfv6o4iYU21/XpQf63cj4taIaFNTrBFxVN7WqTW007+gjaUF+2ZxZLdSGBYRE/JzaVFEzIyIwQXrbxIRf4isj8yPiCsjv/VCRAyNiHl5XS9HxNB6ng9bR8ToiHgnImZHxLcKlrWMiIsj67fvR8SkiNguIh7I6/og39bKbbipoL39atrX1fbH+RFxX7V510bENfn0Cses2vl2cEQ8l5/DcyPismr17FlwHs/N9+3RBbF+WnjM83Xqel+4LSKuLFg+Jl9e+b5S2Md3zNsdUvD6H5G9F70dEXdGxKZ17SNJklQcJjYlSVKl/kAbYNRKypwFHA7sA2wNvAvcUK3MvkAX4ADggnomRg4DLga+BnQEngD+nC/+GDgG2BTolsd5UD22B+A6YBNghzzmE4GT8zaHApfl8zYGhgALU0rDU0obpZQ2yuvolb+uqc2TgM3qEUevgjp/UTkzIrrm2/kdsu0eAzwQEa0L1j00X+8bwLURsXHBshOBU4CtgGXAtXm92wB/B64E2gPfA+6LiI4ppeXA8cBukY3QrRIRRwDfztv8qHAR8L95HNX3w8+ArkBv4EvANsCl9dgnK4gsKXs28F4ty7vW0HZNCo/foTUsPw74CrBjHvclNbTVCvgx8EZNDaSUni5o407gF5WvU0qv5cW+DPwb6AD8CPhLfJZ4vo3seH0J2JWsr1QmUJ8Gds3rPhu4qVrztZ0PdwPzyPrl14GfRMSgfNl3gWOBr5Kd66cAH6aUKuvqkZfbNN+G02va7pX4E3BgZYIvTxAeA9xeucuo/XfHB2Tn8abAwcC3I+LwvJ4vAg+S9eOOZOfYlJTSiIL9/wQrHvMGiYh9gV1qWbYV2cj1i1NKoytnAz8l2887A9uRvY9IkqQmYGJTkiRV2hx4O6W0bCVlTgd+kFKal1L6mOwH/dcrRzrlLs9He04FbiVLqNTldOCnKaUZefs/AXpHxBdTSstSSi/mCbkgS4S8VFeF+Qi4Y4CLUkrvp5TmAL8ETsiLnEqWkJqYMrNTSq/WI9bK+tuQJfB+XN91anA08PeU0qMppaXA1cAGwB41lF0P+C/Z7QEq3ZFSmpZS+gD4IXBUvt3HA2NSSmNSSstTSo8CFWSJLfKk5RDgoog4Mq/ry2SJqCEppbertb1BtXYBiIgATgPOTSm9k1J6n+zYHdPgPZEltm8BFtWy/Ces3r6udH1KaW5K6R3gf6n5/Pwf4F/U4zxbibeA/5ePeh4BzAIOjogvkB2H7+T95C3g1+T7LO9bC/I6AphcS/1V50NEbAcMAC5IKS1JKU0Bfk+WMITsXL8kpTQrP9efTyktXI1tW0FK6Q3gcaBydOmBZO8lk/LXrwH717Lu+JTS1Pw8fYEs0b9PvvgbwNiU0p/z/bgw37ZGkZ+/v6DmRPxmZEnNO1NKdxTEOzvvrx/nx+lXBfFKkqQ1zMSmJEmqtBDoUC1JWd0XgVH5ZaHvATOAT4EvFJSZWzD9KtnIpkpH5eu+HRGPRsQOBfVeU1DvO2RJnW0qV8znv0k2Ku3/aqjzPaAwIdcBaJXHUBhPZZ3bkY2oW1XnAA+RJaxW1dYUxJcnb+dSsN3AXyPiv8AjwE9SSksKllXf163ItvuLwNDK/ZLvmz3JRnZW6kOWGPt/+evrgVeAQXzelsCCGuZ3BNoCkwraeSifX7WN1eLYvXol+ci8o4CramiDiNgd2An4Y03LG2hl5ycR0Q74PlmieHXMTyvezL6yrS+SHac3CvbJb4EtCmL4RkR8ANyb/ytU0/mwNVCZWC5srzHO9b8WXAb+izwZWJM/kiXUyf+/o2DZcOC8yC7Lf69wpYj4ckSMi+x2EYvI/sjRoRHiru19YYUy+bJ/1LDscmAxMKhwmyPiCxFxd2S3Avgv2WjVDjWsL0mS1gATm5IkqdLTZJd9H76SMnOBg/Knllf+a5NSml9QZruC6e2B1wte35NS2pQsEfMa2Si8ynr/p1q9G6SUnqpcMV+vPdklqxdXrzNfXphgeBtYSpZIKoynMta5ZJcjr4r2ZMmay1dx/UqvUxBfnkDZjs9iBDg8pbQxWeznRET/gmXV9/VSsu2eSzaas3B/bphS+lneThvgRrLRlkfl65+dT/8oIrYsiKkV0BN4vob43wY+AnoUtLNJtUuCXy+MA3imhnp+TDZ69v0alkE2qu6ilNKntSxviJWdnwDnk51T9R69W4ttqiUBK9uaS9bPOhTsl41TSpWXg5NSuiultCHZSMBrIqJ7QT01nQ+vA+3zpGxhe41xrh+eH7c9yBKWX6ml3F+BXSKiJ3AI2SX6ldvzt5TSDvm5sWm19e4CRgPbpZQ2Ibv0vnK/rU7ctb0vVKq83cAFta1P9seAILsFR6WfkF1aX5Yfh+ML4pUkSWuYiU1JkgRASmkR2SWZN0TE4RHRNiJaRcRBEVF5X8ibgP+Nzx7s0zG/P2ahH+br9iC7n+WIGtr6hGw0VOV3kZvILovukde7SX4PzMo2KkcarkeWkPiIOuRJsHvyeNvlMX+XbIQVZJfqfi8idovMlyq3qx6+A/whpfR/dRWswz1klycPzhOI55ElvZ6qoWxlUq9wNOTxEdE9ItqSPfhpZL7dfwIOjYivRPbgmDaRPRxn23y9HwJPp5QeSyk9nc97OqU0i+xY/L+CNk4mGyFbUT2gfITp74BfR8QWkN3fMyJqS37V5Etkl8H/tpblg4DlKaW/NaDOlTkzIrbN73f5A1Y8P9uRbe//NkI7WwBn531oKNn9GMfkl20/AvwyIjaO7GFOO0bEPgARsVOeeIbsFgBBzed71fmQUppLds78ND/WuwDfZMVz/ccR0SU/13eJiM0buD3vk90XtMbfD/nI0ZFkicpn02f3Gq1LO7LRpksioh/Z5eeV7gT2i+xBTutFxOYR0buBcdfmBOCp/PL3mjyZn9+nAJcWjC5vR/betSiye9me30jxSJKkVWBiU5IkVUkp/ZIs+XcJ2aXHc8lGJv41L3IN2eiqRyLifbLRd1+uVs0/gdnAY8DVKaVHCpYdEdkTn+eTXQp9Sd7uKODnwN355Z3T+OxBMdsC/4zsiccvAv+hlkuWa3AW2T05XwGeJEu63JK3eS9ZAususqTNX8lGYtZHS7L7Ya6WPJF4PNnDUd4me9jNoXnit9ID+ba/APyF7KFAle4gexDN/5E9+OnsvN65QOUDmSqP4/lAi3z03zfJjnNNfkp2f9MDI+I4soRjZ+D9PI4HyS4vr3yozQVkx/uZ/NiNJbtsvL6+QHb/x6W1LN+K7NLwxnIXWWLxFbLLnK8sWLYxcG1K6d1GaOdfZA/RepvsPPt6wX0tTwRaA9PJHsA1ks9uEzAUmJv3r98BZ6SU/lNQb23nw7FAJ7LRm6OAH6WUxubLfkWWRH+E7PYDfyBLmtbHnyN7Wvw0sj7y0ErK/hEoY8XL0OtyBnBFvr2X5nECkCdHv0qW8H8HmAL0akDdK7MZ9bjdQErpJbIHZP0+H4F7Odl71yKyff+XRopHkiStgljx1j+SJEmrJiI6kSUdW6WVP4BIjSAixgN/Sin9vohtDAM6pZQuqzZ/W+DKlNKwYrVdDBExBzi1IOFXrHaG5e3sWcx21jYRsT0wE9gypfTfpo5HkiQ1f47YlCRJUm0+IBvhV90yshF0EgAR0YJsFPDdJjUlSdKasrKnnkqSJGkdll+uX9P8/6P2S9m1jomIDYE3yZ7EfmAThyNJktYhRb0UPSIOJLsXV0vg95VP4ixYvj3ZvXg2zctcmFIaU7SAJEmSJEmSJDULRUtsRkRL4CVgf2AeMBE4NqU0vaDMzcBzKaXf5DeyH5NS6lSUgCRJkiRJkiQ1G8W8x2Y/YHZK6ZX8yZ53kz2ds1Aie/okwCZkT3GUJEmSJEmSpJUq5j02twHmFryeB3y5WpnLgEci4ixgQ2C/uirt0KFD6tSpUyOFKEmSJEmSJGltNWnSpLdTSh1rWtbUDw86FrgtpfTLiOgP3BERPVNKywsLRcRpwGkA22+/PRUVFU0QqiRJkiRJkqQ1KSJerW1ZMS9Fnw9sV/B623xeoW8C9wCklJ4G2gAdqleUUro5pVSeUirv2LHGBK0kSZIkSZKkdUgxE5sTgS4R0TkiWgPHAKOrlXkNGAwQETuTJTYXFDEmSZIkSZIkSc1A0RKbKaVlwHDgYWAGcE9K6cWIuCIihuTFzgO+FRHPA38GhqViPaZdkiRJkiRJUrNR1HtsppTGAGOqzbu0YHo6MGB121m6dCnz5s1jyZIlq1uVmkibNm3YdtttadWqVVOHIkmSJEmSpBLQ1A8PahTz5s2jXbt2dOrUiYho6nDUQCklFi5cyLx58+jcuXNThyNJkiRJkqQSUMx7bK4xS5YsYfPNNzepWaIigs0339wRt5IkSZIkSaq3ZpHYBExqljiPnyRJkiRJkhqi2SQ2JUmSJEmSJK07TGzW02WXXcbVV18NwLBhwxg5ciQAp556KtOnT691vUsvvZSxY8cWLa5OnTrx9ttvF61+SZIkSZIkaW3ULB4e1JR+//vfr3T5FVdcsYYikSRJkiRJktYd6/yIzdtvv51ddtmFXr16ccIJJzBnzhwGDRrELrvswuDBg3nttddWuv7AgQOpqKjg008/ZdiwYfTs2ZOysjJ+/etfAyuO7nzsscfYddddKSsr45RTTuHjjz8GslGXP/rRj+jTpw9lZWXMnDmz1vYWLlzIAQccQI8ePTj11FNJKVUtO/zww9ltt93o0aMHN998c9X8jTbaiPPPP58ePXqw33778eyzzzJw4EB22GEHRo8eDcCcOXPYa6+96NOnD3369OGpp54CYPny5Zxxxhl069aN/fffn69+9atV2zNp0iT22WcfdtttN77yla/wxhtvNHT3S5IkSZIkSatknR6x+eKLL3LllVfy1FNP0aFDB9555x1OOumkqn+33HILZ599Nn/961/rrGvKlCnMnz+fadOmAfDee++tsHzJkiUMGzaMxx57jK5du3LiiSfym9/8hu985zsAdOjQgcmTJ3PjjTdy9dVX1zoS9PLLL2fPPffk0ksv5e9//zt/+MMfqpbdcssttG/fno8++oi+ffty5JFHsvnmm/PBBx8waNAgrrrqKo444gguueQSHn30UaZPn85JJ53EkCFD2GKLLXj00Udp06YNL7/8MsceeywVFRX85S9/Yc6cOUyfPp233nqLnXfemVNOOYWlS5dy1llncf/999OxY0dGjBjBD37wA2655ZZVOhaSJEmSpHXD9ec90NQhADD8l4c2dQhSo1lX+9U6ndj8xz/+wdChQ+nQoQMA7du35+mnn+Yvf/kLACeccALf//7361XXDjvswCuvvMJZZ53FwQcfzAEHHLDC8lmzZtG5c2e6du0KwEknncQNN9xQldj82te+BsBuu+1W1X5NHn/88arlBx98MJtttlnVsmuvvZZRo0YBMHfuXF5++WU233xzWrduzYEHHghAWVkZ66+/Pq1ataKsrIw5c+YAsHTpUoYPH86UKVNo2bIlL730EgBPPvkkQ4cOpUWLFmy55Zbsu+++Vdszbdo09t9/fwA+/fRTttpqq3rtK0mSJEmSJGl1rdOJzca02Wab8fzzz/Pwww9z0003cc899zRo9OL6668PQMuWLVm2bFmD2x8/fjxjx47l6aefpm3btgwcOJAlS5YA0KpVKyICgBYtWlS11aJFi6q2fv3rX/OFL3yB559/nuXLl9OmTZuVtpdSokePHjz99NMNjlWSJEmSJElaXev0PTYHDRrEvffey8KFCwF455132GOPPbj77rsBuPPOO9lrr73qVdfbb7/N8uXLOfLII7nyyiuZPHnyCst32mkn5syZw+zZswG444472GeffRoc8957781dd90FwIMPPsi7774LwKJFi9hss81o27YtM2fO5JlnnmlQvYsWLWKrrbaiRYsW3HHHHXz66acADBgwgPvuu4/ly5fz5ptvMn78+KrtWbBgQVVic+nSpbz44osN3h5JkiRJkiRpVazTIzZ79OjBD37wA/bZZx9atmzJrrvuynXXXcfJJ5/MVVddRceOHbn11lvrVdf8+fM5+eSTWb58OQA//elPV1jepk0bbr31VoYOHcqyZcvo27cvp59+eoNj/tGPfsSxxx5Ljx492GOPPdh+++0BOPDAA7npppvYeeed2Wmnndh9990bVO8ZZ5zBkUceye23386BBx7IhhtuCMCRRx7JY489Rvfu3dluu+3o06cPm2yyCa1bt2bkyJGcffbZLFq0iGXLlvGd73yHHj16NHibJEmSJEmSpIaKwqdql4Ly8vJUUVGxwrwZM2aw8847N1FEzd/ixYvZaKONWLhwIf369WPChAlsueWWjd6Ox1GSJEmSmr919SEnUjE1534VEZNSSuU1LVunR2yqfg455BDee+89PvnkE374wx8WJakpSZIkSZIkNYSJzbXUrbfeyjXXXLPCvAEDBnDDDTes8Vgq76spSZIkSZIkrS1MbK6lTj75ZE4++eSmDkOSJEmSJElaK63TT0WXJEmSJEmSVJpMbEqSJEmSJEkqOSY2JUmSJEmSJJUcE5uN5Nprr2XnnXfmuOOOq3H5lClTGDNmTJ31jB8/nkMOOaSxw5MkSZIkSZKalWb58KDdzr+9UeubdNWJdZa58cYbGTt2LNtuu22Ny6dMmUJFRQVf/epXGzU2SZIkSZIkaV3ULBOba9rpp5/OK6+8wkEHHcTxxx/PX//6V5YsWcIGG2zArbfeSufOnbn00kv56KOPePLJJ7nooovo3Lkz55xzzgrldtppp6beFEmSJEmSJKkkmNhsBDfddBMPPfQQ48aNo3Xr1px33nmst956jB07losvvpj77ruPK664goqKCq6//noA/vvf//LEE098rpwkSZIkSZKkupnYbGSLFi3ipJNO4uWXXyYiWLp06WqVkyRJkiRJkvR5Pjyokf3whz9k3333Zdq0aTzwwAMsWbJktcpJkiRJkiRJ+ryiJjYj4sCImBURsyPiwhqW/zoipuT/XoqI94oZz5qwaNEittlmGwBuu+22qvnt2rXj/fffr7OcJEmSJEmSpLoVLbEZES2BG4CDgO7AsRHRvbBMSunclFLvlFJv4DrgL8WKZ035/ve/z0UXXcSuu+7KsmXLqubvu+++TJ8+nd69ezNixIhay0mSJEmSJEmqWzHvsdkPmJ1SegUgIu4GDgOm11L+WOBHjdHwpKtObIxqGmTOnDkAdOjQgZdeeqlq/pVXXglA+/btmThx4grr1FRu4MCBDBw4sLjBSpIkSZIkSSWumJeibwPMLXg9L5/3ORHxRaAz8I8ixiNJkiRJkiSpmVhbHh50DDAypfRpTQsj4rSIqIiIigULFqzh0CRJkiRJkiStbYqZ2JwPbFfwett8Xk2OAf5cW0UppZtTSuUppfKOHTs2YoiSJEmSJEmSSlExE5sTgS4R0TkiWpMlL0dXLxQR3YDNgKeLGIskSZIkSZKkZqRoic2U0jJgOPAwMAO4J6X0YkRcERFDCooeA9ydUkrFikWSJEmSJElS81LMp6KTUhoDjKk279Jqry8rZgySJEmSJEmSmp+15eFB64TRo0fzs5/9rMZlG220UY3zhw0bxsiRIwEYOHAgFRUVq9T2nDlz6Nmz5yqtK0mSJEmSJK1tijpis6m8dkVZo9a3/aVTG6WeIUOGMGTIkLoLSpIkSZIkSVopR2w2gjlz5tCtWzeGDRtG165dOe644xg7diwDBgygS5cuPPvsswDcdtttDB8+HID//Oc/9O/fn7KyMi655JKqulJKDB8+nJ122on99tuPt956q8Y2H3nkEfr370+fPn0YOnQoixcv/lyZSZMm0atXL3r16sUNN9ywQrx77bUXffr0oU+fPjz11FMAjB8/nn322YfDDjuMHXbYgQsvvJA777yTfv36UVZWxr///W8AHnjgAb785S+z6667st9++/Hmm28CsGDBAvbff3969OjBqaeeyhe/+EXefvttAP70pz/Rr18/evfuzf/8z//w6aefru5ulyRJkiRJ0jrMxGYjmT17Nueddx4zZ85k5syZ3HXXXTz55JNcffXV/OQnP/lc+XPOOYdvf/vbTJ06la222qpq/qhRo5g1axbTp0/n9ttvr0o6Fnr77be58sorGTt2LJMnT6a8vJxf/epXnyt38sknc9111/H888+vMH+LLbbg0UcfZfLkyYwYMYKzzz67atnzzz/PTTfdxIwZM7jjjjt46aWXePbZZzn11FO57rrrANhzzz155plneO655zjmmGP4xS9+AcDll1/OoEGDePHFF/n617/Oa6+9BsCMGTMYMWIEEyZMYMqUKbRs2ZI777xzFfayJEmSJEmSlGmWl6I3hc6dO1NWll0C36NHDwYPHkxEUFZWxpw5cz5XfsKECdx3330AnHDCCVxwwQUAPP744xx77LG0bNmSrbfemkGDBn1u3WeeeYbp06czYMAAAD755BP69++/Qpn33nuP9957j7333ruqjQcffBCApUuXMnz48Kok40svvVS1Xt++fasSrTvuuCMHHHAAAGVlZYwbNw6AefPmcfTRR/PGG2/wySef0LlzZwCefPJJRo0aBcCBBx7IZpttBsBjjz3GpEmT6Nu3LwAfffQRW2yxRf13riRJkiRJklSNic1Gsv7661dNt2jRoup1ixYtWLZsWY3rRMQqtZVSYv/99+fPf/7zKq3/61//mi984Qs8//zzLF++nDZt2lQtq892nHXWWXz3u99lyJAhjB8/nssuu6zOeE866SR++tOfrlK8kiRJkiRJUnUmNpvIgAEDuPvuuzn++ONXuCx777335re//S0nnXQSb731FuPGjeMb3/jGCuvuvvvunHnmmcyePZsvfelLfPDBB8yfP5+uXbtWldl0003ZdNNNefLJJ9lzzz1XaGPRokVsu+22tGjRgj/+8Y8Nvt/lokWL2GabbQD44x//uMI23XPPPVxwwQU88sgjvPvuuwAMHjyYww47jHPPPZctttiCd955h/fff58vfvGLDWq3KV1/3gNNHUKV4b88tKlDkCRJkiRJanLeY7OJXHPNNdxwww2UlZUxf/78qvlHHHEEXbp0oXv37px44omfu8QcoGPHjtx2220ce+yx7LLLLvTv35+ZM2d+rtytt97KmWeeSe/evUkpVc0/44wz+OMf/0ivXr2YOXMmG264YYNiv+yyyxg6dCi77bYbHTp0qJr/ox/9iEceeYSePXty7733suWWW9KuXTu6d+/OlVdeyQEHHMAuu+zC/vvvzxtvvNGgNiVJkiRJkqRCUZjwKgXl5eWpoqJihXkzZsxg5513bqKIVOnjjz+mZcuWrLfeejz99NN8+9vfZsqUKfVef20+jo7YlCRJkqTGsbb8vvK3lZqT5tyvImJSSqm8pmVeiq5G89prr3HUUUexfPlyWrduze9+97umDkmSJEmSJEnNlIlNNZouXbrw3HPPNXUYkiRJkiRJWgd4j01JkiRJkiRJJcfEpiRJkiRJkqSSY2JTkiRJkiRJUskxsSlJkiRJkiSp5JjYXEu999573HjjjXWWGzhwIBUVFWsgIkmSJEmSJGnt0Syfij7gugGNWt+EsyY0an2Vli1bxnrr1XwIKhObZ5xxRlHaliRJkiRJkkqZIzYbyQcffMDBBx9Mr1696NmzJyNGjGDixInsscce9OrVi379+vH+++9z2223MWTIEAYNGsTgwYNZvHgxgwcPpk+fPpSVlXH//fcDcOGFF/Lvf/+b3r17c/755wPw85//nLKyMnr16sWFF15Y1fa9995Lv3796Nq1K0888USTbL8kSZIkSZK0JjXLEZtN4aGHHmLrrbfm73//OwCLFi1i1113ZcSIEfTt25f//ve/bLDBBgBMnjyZF154gfbt27Ns2TJGjRrFxhtvzNtvv83uu+/OkCFD+NnPfsa0adOYMmUKAA8++CD3338///rXv2jbti3vvPNOVdvLli3j2WefZcyYMVx++eWMHTt2jW+/JEmSJEmStCaZ2GwkZWVlnHfeeVxwwQUccsghbLrppmy11Vb07dsXgI033riq7P7770/79u0BSClx8cUX8/jjj9OiRQvmz5/Pm2+++bn6x44dy8knn0zbtm0BqtYH+NrXvgbAbrvtxpw5c4q1iZIkSZIkSdJaw8RmI+natSuTJ09mzJgxXHLJJQwaNKjWshtuuGHV9J133smCBQuYNGkSrVq1olOnTixZsqRBba+//voAtGzZkmXLlq3aBkiSJEmSJEklxHtsNpLXX3+dtm3bcvzxx3P++efzr3/9izfeeIOJEycC8P7779eYdFy0aBFbbLEFrVq1Yty4cbz66qsAtGvXjvfff7+q3P7778+tt97Khx9+CLDCpeiSJEmSJEnSusYRm41k6tSpnH/++bRo0YJWrVrxm9/8hpQSZ511Fh999BEbbLBBjfe+PO644zj00EMpKyujvLycbt26AbD55pszYMAAevbsyUEHHcRVV13FlClTKC8vp3Xr1nz1q1/lJz/5yZreTEmSJEmSJGmtECmlpo6hQcrLy1NFRcUK82bMmMHOO+/cRBGpsazNx/H68x5o6hCqDP/loU0dgiRJkiStsrXl95W/rdScNOd+FRGTUkrlNS3zUnRJkiRJkiRJJaeoic2IODAiZkXE7Ii4sJYyR0XE9Ih4MSLuKmY8kiRJkiRJkpqHot1jMyJaAjcA+wPzgIkRMTqlNL2gTBfgImBASundiNiiWPFIkiRJkiRJaj6KOWKzHzA7pfRKSukT4G7gsGplvgXckFJ6FyCl9FYR45EkSZIkSZLUTBQzsbkNMLfg9bx8XqGuQNeImBARz0TEgUWMR5IkSZIkSVIzUbRL0RvQfhdgILAt8HhElKWU3issFBGnAacBbL/99ms4REmSJEmSJElrm2KO2JwPbFfwett8XqF5wOiU0tKU0n+Al8gSnStIKd2cUipPKZV37NixaAE3ZxtttFFThyBJkiRJkiQ1mmKO2JwIdImIzmQJzWOAb1Qr81fgWODWiOhAdmn6K6vb8D/33md1q1jBPo//s1HrWx3Lli1jvfWaeqCtJEmSJEmS1LSKNmIzpbQMGA48DMwA7kkpvRgRV0TEkLzYw8DCiJgOjAPOTyktLFZMxfLBBx9w8MEH06tXL3r27MmIESMAmDRpEvvssw+77bYbX/nKV3jjjTeYOXMm/fr1q1p3zpw5lJWV1VoeYODAgXznO9+hvLyca665ptZyhf7zn//Qv39/ysrKuOSSS6rmL168mMGDB9OnTx/Kysq4//77q+Lo1q0bw4YNo2vXrhx33HGMHTuWAQMG0KVLF5599lkAnn32Wfr378+uu+7KHnvswaxZswD48MMPOeqoo+jevTtHHHEEX/7yl6moqADgkUceoX///vTp04ehQ4eyePHixj4EkiRJkiRJWscU81J0UkpjUkpdU0o7ppT+N593aUppdD6dUkrfTSl1TymVpZTuLmY8xfLQQw+x9dZb8/zzzzNt2jQOPPBAli5dyllnncXIkSOZNGkSp5xyCj/4wQ/o1q0bn3zyCf/5z38AGDFiBEcffXSt5St98sknVFRUcPbZZ6+0XKVzzjmHb3/720ydOpWtttqqan6bNm0YNWoUkydPZty4cZx33nmklACYPXs25513HjNnzmTmzJncddddPPnkk1x99dX85Cc/AaBbt2488cQTPPfcc1xxxRVcfPHFANx4441sttlmTJ8+nR//+MdMmjQJgLfffpsrr7ySsWPHMnnyZMrLy/nVr35VnAMhSZIkSZKkdYbXNDeCsrIyzjvvPC644AIOOeQQ9tprL6ZNm8a0adPYf//9Afj000+rEoxHHXUUI0aM4MILL2TEiBGMGDGCWbNm1Voe4Oijjwaos1ylCRMmcN999wFwwgkncMEFFwCQUuLiiy/m8ccfp0WLFsyfP58333wTgM6dO1eNHu3RoweDBw8mIigrK2POnDkALFq0iJNOOomXX36ZiGDp0qUAPPnkk5xzzjkA9OzZk1122QWAZ555hunTpzNgwAAgS9D2799/tfe5JEmSJEmS1m0mNhtB165dmTx5MmPGjOGSSy5h8ODBHHHEEfTo0YOnn376c+WPPvpohg4dyte+9jUigi5dujB16tRaywNsuOGGQJaYXFm5QhHxuXl33nknCxYsYNKkSbRq1YpOnTqxZMkSANZff/2qci1atKh63aJFC5YtWwbAD3/4Q/bdd19GjRrFnDlzGDhw4EpjSCmx//778+c//7nOeCVJkiRJkqT6Kuql6OuK119/nbZt23L88cdz/vnnM3nyZHbaaScWLFhQlYBcunQpL774IgA77rgjLVu25Mc//nHVSMyVlS9U33IDBgzg7ruzK/vvvPPOqvmLFi1iiy22oFWrVowbN45XX321Qdu6aNEittlmGwBuu+22Fdq75557AJg+fTpTp04FYPfdd2fChAnMnj0byO5H+tJLLzWoTUmSJEmSJKk6E5uNYOrUqfTr14/evXtz+eWXc8kll9C6dWtGjhzJBRdcQK9evejduzdPPfVU1TpHH300f/rTnzjqqKMA6ixfqb7lrrnmGm644QbKysqYP39+1fzjjjuOiooKysrKuP322+nWrVuDtvX73/8+F110EbvuumvVKE6AM844gwULFtC9e3cuueQSevTowSabbELHjh257bbbOPbYY9lll13o378/M2fObFCbkiRJkiRJUnVR+eCYUlFeXp4qn7ZdacaMGey8885NFJEgu9fn0qVLadOmDf/+97/Zb7/9mDVrFq1bt653HWvzcbz+vAeaOoQqw395aFOHIEmSJEmrbG35feVvKzUnzblfRcSklFJ5Tcu8x6YaxYcffsi+++7L0qVLSSlx4403NiipKUmSVl9z/kIrSZIkVWdiU42iXbt2VB9JK0mSJEmSJBWL99iUJEmSJEmSVHJMbEqSJEmSJEkqOV6KLkmSJEm18N61kiStvRyxKUmSJEmSJKnkmNhci2200UYAzJkzh549e9ZZftiwYYwcObLYYUmSJEmSJElNrlleit7Yl4t42YckSZIkSZK0dnHEZiP44IMPOPjgg+nVqxc9e/ZkxIgRAHTq1ImLLrqI3r17U15ezuTJk/nKV77CjjvuyE033QTA4sWLGTx4MH369KGsrIz777+/3u2mlBg+fDg77bQT++23H2+99VbVsiuuuIK+ffvSs2dPTjvtNFJKAAwcOJBzzz2X8vJydt55ZyZOnMjXvvY1unTpwiWXXFK1/uGHH85uu+1Gjx49uPnmm6vm/+EPf6Br167069ePb33rWwwfPhyABQsWcOSRR9K3b1/69u3LhAkTVn2HSpIkSZIkSXVoliM217SHHnqIrbfemr///e8ALFq0qGrZ9ttvz5QpUzj33HMZNmwYEyZMYMmSJfTs2ZPTTz+dNm3aMGrUKDbeeGPefvttdt99d4YMGUJE1NnuqFGjmDVrFtOnT+fNN9+ke/funHLKKQAMHz6cSy+9FIATTjiBv/3tbxx6aDbytHXr1lRUVHDNNddw2GGHMWnSJNq3b8+OO+7Iueeey+abb84tt9xC+/bt+eijj+jbty9HHnkkH3/8MT/+8Y+ZPHky7dq1Y9CgQfTq1QuAc845h3PPPZc999yT1157ja985SvMmDGjUfezJEmSJEmSVMnEZiMoKyvjvPPO44ILLuCQQw5hr732qlo2ZMiQqjKLFy+mXbt2tGvXjvXXX5/33nuPDTfckIsvvpjHH3+cFi1aMH/+fN5880223HLLOtt9/PHHOfbYY2nZsiVbb701gwYNqlo2btw4fvGLX/Dhhx/yzjvv0KNHj6rEZmFMPXr0YKuttgJghx12YO7cuWy++eZce+21jBo1CoC5c+fy8ssv83//93/ss88+tG/fHoChQ4fy0ksvATB27FimT59e1f5///tfFi9eXHWfUEmSJEmSJKkxmdhsBF27dmXy5MmMGTOGSy65hMGDB1eNllx//fUBaNGiRdV05etly5Zx5513smDBAiZNmkSrVq3o1KkTS5YsWa14lixZwhlnnEFFRQXbbbcdl1122Qp11hXT+PHjGTt2LE8//TRt27Zl4MCBdca0fPlynnnmGdq0abNasUuSJEmSJEn14T02G8Hrr79O27ZtOf744zn//POZPHlyvdddtGgRW2yxBa1atWLcuHG8+uqr9V537733ZsSIEXz66ae88cYbjBs3DqAqCdmhQwcWL17c4CelL1q0iM0224y2bdsyc+ZMnnnmGQD69u3LP//5T959912WLVvGfffdV7XOAQccwHXXXVf1esqUKQ1qU5IkSZIkSWoIR2w2gqlTp3L++efTokULWrVqxW9+85t6r3vcccdx6KGHUlZWRnl5Od26dav3ukcccQT/+Mc/6N69O9tvvz39+/cHYNNNN+Vb3/oWPXv2ZMstt6Rv374N2p4DDzyQm266iZ133pmddtqJ3XffHYBtttmGiy++mH79+tG+fXu6devGJptsAsC1117LmWeeyS677MKyZcvYe++9qx6QJEmSJEmSJDW2qHxadqkoLy9PFRUVK8ybMWMGO++8cxNFtG6pvG/msmXLOOKIIzjllFM44ogjGqXutfk4Xn/eA00dQpXhvzy0qUOQJK2l1pbPKz+r1JzYr6TGZ7+SGl9z7lcRMSmlVF7TMi9FV4Ncdtll9O7dm549e9K5c2cOP/zwpg5JkiRJkiRJ6yAvRVeDXH311U0dgiRJkiRJkuSITUmSJEmSJEmlp9kkNkvtXqFakcdPkiRJkiRJDdEsEptt2rRh4cKFJsdKVEqJhQsX0qZNm6YORZIkSZIkSSWiqPfYjIgDgWuAlsDvU0o/q7Z8GHAVMD+fdX1K6fcNbWfbbbdl3rx5LFiwYDUjVlNp06YN2267bVOHIUmSJEmSpBJRtMRmRLQEbgD2B+YBEyNidEpperWiI1JKw1enrVatWtG5c+fVqUKStIZdf94DTR0CAMN/eWhThyBJkiRJWgXFvBS9HzA7pfRKSukT4G7gsCK2J0mSJEmSJGkdUczE5jbA3ILX8/J51R0ZES9ExMiI2K6I8UiSJEmSJElqJpr64UEPAJ1SSrsAjwJ/rKlQRJwWERURUeF9NCVJkiRJkiQVM7E5Hygcgbktnz0kCICU0sKU0sf5y98Du9VUUUrp5pRSeUqpvGPHjkUJVpIkSZIkSVLpKGZicyLQJSI6R0Rr4BhgdGGBiNiq4OUQYEYR45EkSZIkSZLUTBTtqegppWURMRx4GGgJ3JJSejEirgAqUkqjgbMjYgiwDHgHGFaseCRJkiRJkiQ1H0VLbAKklMYAY6rNu7Rg+iLgomLGIEmSJEmSJKn5aeqHB0mSJEmSJElSg5nYlCRJkiRJklRyTGxKkiRJkiRJKjkmNiVJkiRJkiSVHBObkiRJkiRJkkqOiU1JkiRJkiRJJcfEpiRJkiRJkqSSY2JTkiRJkiRJUskxsSlJkiRJkiSp5JjYlCRJkiRJklRyTGxKkiRJkiRJKjkmNiVJkiRJkiSVHBObkiRJkiRJkkqOiU1JkiRJkiRJJcfEpiRJkiRJkqSSY2JTkiRJkiRJUskxsSlJkiRJkiSp5JjYlCRJkiRJklRyTGxKkiRJkiRJKjkrTWxGxND8/85rJhxJkiRJkiRJqltdIzYvyv+/r9iBSJIkSZIkSVJ9rVfH8oUR8QjQOSJGV1+YUhpSnLAkSZIkSZIkqXZ1JTYPBvoAdwC/LH44kiRJkiRJklS3lSY2U0qfAM9ExB4ppQUR0Tal9OEaik2SJEmSJEmSalTfp6J/KSKmAzMBIqJXRNxYvLAkSZIkSZIkqXb1TWz+P+ArwEKAlNLzwN51rRQRB0bErIiYHREXrqTckRGRIqK8nvFIkiRJkiRJWofVN7FJSmlutVmfrqx8RLQEbgAOAroDx0ZE9xrKtQPOAf5V31gkSZIkSZIkrdvqm9icGxF7ACkiWkXE94AZdazTD5idUnolv1fn3cBhNZT7MfBzYEl9g5YkSZIkSZK0bqtvYvN04ExgG+B1oHf+emW2AQpHec7L51WJiD7Adimlv9czDkmSJEmSJEla+VPRK6WU3gaOa8yGI6IF8CtgWD3KngacBrD99ts3ZhiSJEmSJEmSSlC9RmxGxLYRMSoi3sr/3RcR29ax2nxgu4LX2+bzKrUDegLjI2IOsDswuqYHCKWUbk4plaeUyjt27FifkCVJkiRJkiQ1Y/W9FP1WYDSwdf7vgXzeykwEukRE54hoDRyT1wFASmlRSqlDSqlTSqkT8AwwJKVU0cBtkCRJkiRJkrSOqW9is2NK6daU0rL8323ASodOppSWAcOBh8keNHRPSunFiLgiIoasVtSSJEmSJEmS1mn1uscmsDAijgf+nL8+FlhY10oppTHAmGrzLq2l7MB6xiJJkiRJkiRpHVffEZunAEcB/we8AXydejz0R5IkSZIkSZKKob4jNq8ATkopvQsQEe2Bq8kSnpIkSZIkSZK0RtV3xOYulUlNgJTSO8CuxQlJkiRJkiRJklauvonNFhGxWeWLfMRmfUd7SpIkSZIkSVKjqm9y8pfA0xFxb/56KPC/xQlJkiRJkiRJklauXonNlNLtEVEBDMpnfS2lNL14YUmSJEmSJElS7ep9OXmeyDSZKUmSJEmSJKnJ1fcem5IkSZIkSZK01jCxKUmSJEmSJKnkmNiUJEmSJEmSVHJMbEqSJEmSJEkqOSY2JUmSJEmSJJUcE5uSJEmSJEmSSo6JTUmSJEmSJEklx8SmJEmSJEmSpJJjYlOSJEmSJElSyTGxKUmSJEmSJKnkmNiUJEmSJEmSVHJMbEqSJEmSJEkqOSY2JUmSJEmSJJUcE5uSJEmSJEmSSo6JTUmSJEmSJEklx8SmJEmSJEmSpJJjYlOSJEmSJElSyTGxKUmSJEmSJKnkFDWxGREHRsSsiJgdERfWsPz0iJgaEVMi4smI6F7MeCRJkiRJkiQ1D0VLbEZES+AG4CCgO3BsDYnLu1JKZSml3sAvgF8VKx5JkiRJkiRJzUcxR2z2A2anlF5JKX0C3A0cVlggpfTfgpcbAqmI8UiSJEmSJElqJtYrYt3bAHMLXs8Dvly9UEScCXwXaA0MqqmiiDgNOA1g++23b/RAJUmSJGUGXDegqUMAYMJZE5o6BEmStJZr8ocHpZRuSCntCFwAXFJLmZtTSuUppfKOHTuu2QAlSZIkSZIkrXWKmdicD2xX8HrbfF5t7gYOL2I8kiRJkiRJkpqJYiY2JwJdIqJzRLQGjgFGFxaIiC4FLw8GXi5iPJIkSZIkSZKaiaLdYzOltCwihgMPAy2BW1JKL0bEFUBFSmk0MDwi9gOWAu8CJxUrHkmSJEmSJEnNRzEfHkRKaQwwptq8Swumzylm+5IkSZIkSZKapyZ/eJAkSZIkSZIkNZSJTUmSJEmSJEklx8SmJEmSJEmSpJJjYlOSJEmSJElSyTGxKUmSJEmSJKnkmNiUJEmSJEmSVHJMbEqSJEmSJEkqOSY2JUmSJEmSJJUcE5uSJEmSJEmSSo6JTUmSJEmSJEklx8SmJEmSJEmSpJKzXlMHIEnrigHXDWjqEACYcNaEpg5BkiRJkqTV5ohNSZIkSZIkSSXHxKYkSZIkSZKkkmNiU5IkSZIkSVLJMbEpSZIkSZIkqeSY2JQkSZIkSZJUckxsSpIkSZIkSSo5JjYlSZIkSZIklRwTm5IkSZIkSZJKjolNSZIkSZIkSSXHxKYkSZIkSZKkkmNiU5IkSZIkSVLJMbEpSZIkSZIkqeQUNbEZEQdGxKyImB0RF9aw/LsRMT0iXoiIxyLii8WMR5IkSZIkSVLzULTEZkS0BG4ADgK6A8dGRPdqxZ4DylNKuwAjgV8UKx5JkiRJkiRJzUcxR2z2A2anlF5JKX0C3A0cVlggpTQupfRh/vIZYNsixiNJkiRJkiSpmShmYnMbYG7B63n5vNp8E3iwiPFIkiRJkiRJaibWa+oAACLieKAc2KeW5acBpwFsv/32azAySZIkSZIkSWujYiY25wPbFbzeNp+3gojYD/gBsE9K6eOaKkop3QzcDFBeXp4aP1RJklRfr11R1tQhVNn+0qlNHYIkSZKkJlLMS9EnAl0ionNEtAaOAUYXFoiIXYHfAkNSSm8VMRZJkiRJkiRJzUjREpsppWXAcOBhYAZwT0rpxYi4IiKG5MWuAjYC7o2IKRExupbqJEmSJEmSJKlKUe+xmVIaA4ypNu/Sgun9itm+JEmSJEmSpOapmJeiS5IkSZIkSVJRmNiUJEmSJEmSVHKKeim6JK0N1ponOG+2cVNHIEmSJElSs+GITUmSJEmSJEklx8SmJEmSJEmSpJJjYlOSJEmSJElSyTGxKUmSJEmSJKnkmNiUJEmSJEmSVHJMbEqSJEmSJEkqOSY2JUmSJEmSJJUcE5uSJEmSJEmSSo6JTUmSJEmSJEklx8SmJEmSJEmSpJKzXlMHIEmStKoGXDegqUMAYMJZE5o6BEnSWszPK0kqDkdsSpIkSZIkSSo5jthUjfyLoiRJkiRJktZmjtiUJEmSJEmSVHJMbEqSJEmSJEkqOSY2JUmSJEmSJJUcE5uSJEmSJEmSSo4PD5IkSZIkSVLJWFseeAw+9LipOWJTkiRJkiRJUskxsSlJkiRJkiSp5Hgp+lrmtSvKmjqEzGYbN3UEkiRJ64y15jsg+D1QkiSVDEdsSpIkSZIkSSo5RU1sRsSBETErImZHxIU1LN87IiZHxLKI+HoxY5EkSZIkSZLUfBQtsRkRLYEbgIOA7sCxEdG9WrHXgGHAXcWKQ5IkSZIkSVLzU8x7bPYDZqeUXgGIiLuBw4DplQVSSnPyZcuLGIckSZIkSZKkZqaYl6JvA8wteD0vnydJkiRJkiRJq6UkHh4UEadFREVEVCxYsKCpw5EkSZIkSZLUxIqZ2JwPbFfwett8XoOllG5OKZWnlMo7duzYKMFJkiRJkiRJKl3FTGxOBLpEROeIaA0cA4wuYnuSJEmSJEmS1hFFe3hQSmlZRAwHHgZaAreklF6MiCuAipTS6IjoC4wCNgMOjYjLU0o9ihWTJEmSJEmSVs1rV5Q1dQiZzTZu6gi0lijmU9FJKY0BxlSbd2nB9ESyS9QlSZIkSZIkqd5K4uFBkiRJkiRJklTIxKYkSZIkSZKkkmNiU5IkSZIkSVLJMbEpSZIkSZIkqeSY2JQkSZIkSZJUckxsSpIkSZIkSSo5JjYlSZIkSZIklRwTm5IkSZIkSZJKznpNHYAkSZIkSY3ttSvKmjqEz2y2cVNHIEnNkiM2JUmSJEmSJJUcE5uSJEmSJEmSSo6Xomut9s+992nqEDJ9v9fUEUiS1mJ+XkmSJElrniM2JUmSJEmSJJUcE5uSJEmSJEmSSo6JTUmSJEmSJEklx3tsStI6xnsBSpIkSZKaA0dsSpIkSZIkSSo5JjYlSZIkSZIklRwvRZckqUTsdv7tTR0CAKPaNXUEkiRJkuSITUmSJEmSJEklyMSmJEmSJEmSpJJjYlOSJEmSJElSyfEem6w99ywD71um5sN+JUmSJEmSisnEpiRJkqS1zj/33qepQ8j0/V5TRyA1GvuVpObGxKYkSZIkSZK0CvyDQdMq6j02I+LAiJgVEbMj4sIalq8fESPy5f+KiE7FjEeSJEmSJElS81C0EZsR0RK4AdgfmAdMjIjRKaXpBcW+CbybUvpSRBwD/Bw4ulgxSZIkSZKKa22517r3WZek5q+Yl6L3A2anlF4BiIi7gcOAwsTmYcBl+fRI4PqIiJRSKmJckiRJEmACRpIkqZQVM7G5DTC34PU84Mu1lUkpLYuIRcDmwNtFjEuSJEmSJKlk+Ic4qWZRrMGREfF14MCU0qn56xOAL6eUhheUmZaXmZe//nde5u1qdZ0GnJa/3AmYVZSg1dg6YJJaamz2K6nx2a+kxme/khqf/UpqfPar0vDFlFLHmhYUc8TmfGC7gtfb5vNqKjMvItYDNgEWVq8opXQzcHOR4lSRRERFSqm8qeOQmhP7ldT47FdS47NfSY3PfiU1PvtV6SvmU9EnAl0ionNEtAaOAUZXKzMaOCmf/jrwD++vKUmSJEmSJKkuRRuxmd8zczjwMNASuCWl9GJEXAFUpJRGA38A7oiI2cA7ZMlPSZIkSZIkSVqpYl6KTkppDDCm2rxLC6aXAEOLGYOalLcPkBqf/UpqfPYrqfHZr6TGZ7+SGp/9qsQV7eFBkiRJkiRJklQsxbzHpiRJkiRJkiQVRbNIbEZEp4iYtpp1LC5GvasjIi6LiO/Vsuz0iDixjvWHRcT1q7LuqoiIKyJiv8aut1obv4+I7sVso4Y2vxMRbRupriY9p1aH/azW9ddoP2uoiOgdEV8tYv2fO6YNXL/OPh0RHSPiXxHxXETsFRFzIqLD6rRbaux/ta6/Vve/6mqLtwHrbx0RI+tRbmhEzIiIcRExMCL+tqptqniK1a9XsZ5hEbF1LcvGR0STPC12ZfuoAf2hpve+eq2r0hcRTxW5/jV+LuX94huNWF+tn8XS2mJln1ON3M7i/P9V7tu1fW6u7vdA1a6o99hUcUTEeimlm1Z1/dVZt456L6271Gq3cWpN8yOiZUrp0yI1+x3gT8CHRapfa6G1tZ+tgt5AOdXud9wUIiLIboGyvHJebX26msHA1MqyWTVqzppR/1st+X5YVvk6pfQ68PV6rPpN4FsppScjYmCRwlPzMgyYBrzexHHUS9436tsfPmd11lVpSSntUeT6azyXqr9/N7JOwDeAu4pUv7Q2GsYa/Jzyc6K0NIsRm7mWEfG7iHgxIh6JiA0AIuJbETExIp6PiPsqR95FROeIeDoipkbElSupd72IuDMf+TCyYP3dIuKfETEpIh6OiK3y+TtGxEP5/Cciols+/7aIuDYinoqIVyKixk4SET+IiJci4klgp4L54yPi/0VEBXBO4V/W8mU/j4hn83X3qqHeg/Pt7VCfdSOibUTcExHTI2JUZKOlVvrX+nwbv55Pz4mIn0bElIioiIg++X76d0ScnpcZGBGPR8TfI2JWRNwUES3yZb/J13sxIi6vth/K8+nFEfHLiHge6J+/vipfZ2xE9MvLvxIRQ/J1WuZlJkbECxHxPwWxjM+P8cz8mEdEnA1sDYyLiHE1bHPVyLGIKI+I8fn0ZRFxS0H7Z9ew7g6RjUDrG9lfb/6SnzsvR8QvCsodm5+n0yLi5/m8oRHxq3z6nIh4paDOCQWxXR4Rk/P1u63s+NWT/azp+1ltdbWJiFvzff1cROwbEa2BK4CjI+uLR1era4W/GkbE3yJPgkTWn/43P6bPRMQX8vm1HtOIOD8+61uX5/M6Rda/byf7MrJdDdtTXlubEdEb+AVwWL4NGxSsu8JInoj4XkRclk83+ByJiAvy7Xo+In62snqaiP1v7eh/ledrh4iYk0+v7D385LzdZ4EBBfM75sdrYv5vQD7/soi4I7L38juqtV91ztfWZkRcCuwJ/CEirqq2ftV+yV9Pi4hO+fTx+T6aEhG/jYiW+fza3gu+kO+35/N/e6ysHtWq0ft1fp7MqKXe3vlxfCE/fpvlfbUcuDOqvc8WOCFfNi0i+uV1bRjZd51nI/vcOSyf36DvWjXEv1vleQWcWTB/WESMjoh/AI/Vpz9Uq7dDvu8Oru+6EfHNyv6b709H2pSY+Gz01cDIPtPuj+wz6mcRcVx+bKdGxI55udsi+01SkR/7Q/L5nSL7zJuc/9ujYH7huVR4jg6LiL9GxKORfS8fHhHfzfvLMxHRPl+voZ+rPwP2yvvkudW2d2AUjNKPiOsjYlg+PSfq+G0Q2XvPgxGxQTTgO2c+/+8RsUs+/Vxkn0dEdlXft+r7HqDmLxr5cypq/8ysrT8Py98Lxufv+z+qJcbKvt0yIq6O7DPwhYg4K59/ad7utIi4udr5/LnPzWr11/g9UKsopVTy/8j+arUM6J2/vgc4Pp/evKDclcBZ+fRo4MR8+kxgcS31JmBA/voW4HtAK+ApoGM+/2jglnz6MaBLPv1l4B/59G3AvWTJ5O7A7Bra2w2YCrQFNgZmA9/Ll40Hbiwoe1m1Zb/Mp78KjM2nhwHXA0cATwCbNWDd7wG/zad75vu3vI7jcBvw9Xx6DvDtfPrXwAtAO6Aj8GY+fyCwBNgBaAk8WrB++/z/lnmMuxTEW55PJ+CogvYTcFA+PQp4JD9WvYAp+fzTgEvy6fWBCqBzHssiYNv8GD0N7FmwLR1q2eaqZWRvtuML9vFTeRsdgIV5LJ3Ikjs7Ac8BvQqO1SvAJkAb4FWyBNDWwGv5flsP+AdwOLAlMDFfdyQwEdgGOAn4aUFslef7GcDv7WfNop/VVtd5BfunW37etKmMr5a6VlgG/A0YWNCfDs2nf8Fn/abGYwocQPZEwcj3/9+AvfPjuxzYfSXbU15Hm9XjnEPWrzoB0wrmfw+4bFXOEeAgsvOtbbX3oBrrWdP/sP+NZ+3pf5XnawdgTkEcNb2Hb8Vn7+GtgQnk5zLZSJvKz5ntgRkFsU8CNqjleE1bWZs1xDkQ+Fv1/ZK/npbXuTPwANAqn38jn507tfXLEcB38umWeRy11uO/Nd6va6v3BWCffPoK4P9VP2dqOe9/l0/vXXAO/qSg3k2Bl4ANWYXvWtXaewHYO5++qto5P4/P3p/r2x8WA18A/gXsX991yb6DzQHak70nPkEtn6f+W3v/8dn3lIHAe2Tvy+sD84HL82XnFPSF24CH8nO0S37OtSH73GqTl+kCVNRyLhWeo8PIPucqfwMtAk7Pl/2az95DG/qdZSD5+3oN27vCMrLPyGH59Bxq+G1A/tkADAfuB9bP54+nYd85LyR7X9qE7LfJw3mZcWS/fQZSj/cA/zX/fzT+51Rtn5m19edhwBvA5sAGZN+HKr83LS6IsbJvf5vsN/d6+ev2hf/n03fw2fel8dT8uTmMOr4H+m/V/jWnS9H/k1Kakk9PIjsRAXpG9hftTYGNgIfz+QOAI/PpO4Cf11Lv3JTShHz6T8DZZJ2jJ/BonpRvCbwRERsBewD3FiTr1y+o668puwRzeuQjHqrZCxiVUvoQICJGV1s+opYYAf6S/1+47QCDyBJuB6SU/tuAdfcErgFIKU2LiBdW0nZtKuOfCmyUUnofeD8iPo6ITfNlz6aUKkcb/jlvdyRwVEScRpbM24rsw7x6DJ8C9xW8/oTs2FS2+XFKaWlETC3YrgOAXQr+4rkJ2ZvcJ3ks8/JYpuTrPLkK213p7ymlj4GPI+Itsi/VkH2xuR/4WkppekH5x1JKi/L2pwNfJHuzHZ9SWpDPv5Psy/5fI2KjiGhH9uX7LrI3zb347HjCisf2a6uxLZXsZ5mm7me11XVdXtfMiHgV6FrP+mryCVlysrKd/fPp2o7pAfm/5/LXG5H1rdeAV1NKz6xGmw2yiufIfsCtledFSumdetSzptn/Mk3d/2pT03t4B1Z8Dx/BZ/1yP6B7wX7cON+/AKNTSh+tYptzVyH2wWRJ54l5PBsAb+XLauuXg4ATAVJ2K5hFEXHCSupRzYrVrz9Xb0RsAmyaUvpnPv+PZEmT+vgzQErp8YjYOP8edwAwJD4bBdyG7MfZKn/XyuvdNKX0eME2HlQQx6MppXdqibG2/tCKLHF0ZsG212fdDsA/K9uLiHtZvc9VNb2JKaU3ACLi32SDICD73bBvQbl78s+ylyO7Kqob8B/g+siuJPmU2s+F6ufouILfQIvI/vhT2eYujfC52lC1/TY4kay/HJ5SWlpL+U75dG3fOZ8g+w7xH+DvwP75yLnOKaVZkV350di/t1S6GvNzqrbPTKi5P0PWVxcCRMRfyM7rilrq3w+4KeW3lyjo4/tGxPfJ/vDRHniRz/p4TZ+b1ev83PfAlFKj3Dt7XdOcEpsfF0x/SvZlGrIs/eEppecjG4Y/sKBcqke91cskshFJL6aU+hcuiIiNgfdSSr3rEeOqDLv/YCXLKuv+lBWP67/JRkR2pfaOWtu6q6uy3uWsuO3LC9r53P6NiM5kfzXsm1J6NyJuI/uyXN2StOJ9NZemlCrrq2ozpbQ8IirbC7K/4BS+2RHZ5bfVz6H67ItlfHZLh+ox1lbfIrJkz57A9HqUr81TwMnALLIvEqcA/cn+ilq9zsY6tvazTFP3s8aqq/D8hRXP4cL+VL2dmo5pkI0W/u0KM7PLXFe2TwutrM2a1BZ/CxrnHKmrnjXN/pdpyv63Ku/5tWlBNpJ5SeHM/AtufftMQ9usrc8E8MeU0kU1rNOQfrmyelSzYvXr2updVbW9TxyZUppVuCC/FK8xv2sVqs97RPW6l5H9aP4KUFtic3XjUmmo/nuk8LfKyr7nJOBc4E2yK8FakF11VpPq52hdbTbWd5ZKK/tuV1hf9fN8Ktl92bclS0zWVb4mE8n+0PgK2ZV4HYBvkfW/6vXVt041X435OXUb9f/MTHXMr5eIaEN2ZUp5SmluZLfDKuxvddVf4/dArZrmdI/N2rQjG2XSCjiuYP4E4Jh8+rjPrfWZ7SOi8ofdN8j+ojQL6Fg5PyJaRUSPfKTIfyJiaD4/IqJXA2J9HDg8snuatAMObcC6tXmV7C/7t0dEjwasNwE4CiCyJxaXVS6IiNtruk/EKuoX2f2iWpBd6vgk2eWJH5CN/vgCK/6lfnU9DHw7Px+IiK4RsWEd67xPdh7VZA7Z6BT4bARFXT4hu2zyxKj7iYbPAvtEdl+olsCxfPal/AmyBPDjZKPk9iUbpbqonnE0JvtZ0/ezJ8j3cUR0JRs1M4u6z9/eEdEiIrYD6tNebcf0YeCUyhFnEbFNRGzRgPhXxZvAFhGxeUSsDxwCsIrnyKPAyfHZPXnaN8K5tqbY/9Zc/5vDZ+/5Nd5DtJp/kb2Hb54fn6EFyx4Bzipos3cDYl9Vc4A+eXt9yC4Phmw029cr+2xEtI+IL9ZR12Nkl2ZV3ntqk1WsRzVb3X79Ofn3g3fjs3vUnsBn3ylW9lkB2Xc0ImJPYFFe18PAWXkik4jYNS+7Kt+1KmN8D3gvbwcauI21VUv2x99uEXFBA9abSNZ/N4vsD+T1/Z6n0jc0/260I9kfzmaRjTx+Ix/5dQLZlQyrbRU/V1fWX18lGwW2fmQjxAbXM5TngP8BRkfdT56u8TtnSukTslGfQ8kuMy/8rSLVaTU+p2r7zISa+zNkI4rbR3a/zsPJPl9r8yjwP/lnAZHdH7cyifl2/vun+vfCmj43CzXF98Bma11IbP6Q7IfFBGBmwfxzgDMju0x5m5WsPysvNwPYDPhN/qb9deDnkd3YfArZJQSQdaRv5vNfBA6rb6Appclkl+E9DzxI9oVqtaWUZuZx3Zt36Pq4kexH7XSy+1S8SDbSEGAXGu9pZBPJ7v0yg+yvg6NSSs+TfbjOJLvEemVvMg31e7JRkpMjuxnwb6n7L4U3Aw9FDQ8PAi4HronsYRf1fip7SukDsiTMuZE/2KiWcm+Q3a9mHNl5MSmldH+++Amyy9Afz0euzqXpLuWwnzV9P7sRaJHv6xFk91P6mOzc6R41PDyI7Hj9h6xPXAtMrkc7NR7TlNIjZP316XzZSFb+I3m15ZdKXUH2B4BHWfHca9A5klJ6iOz2GRWRXRpVeWnlKp9ra5D9b831v6vJEjbPkY1EqSuuN8juXfY02fGZUbD4bKA8spvQTwdOr2fcq+M+oH1EvEh2L7WX8jinA5cAj0R2Sf6jZLeBWZlzyC7Bmko2Gqf7Ktajmq1uv67NScBV+fHpTfYeCtlol5ui9ocHLcnP+5uAb+bzfkx2mfcL+Tn143z+qnzXKnQycEP+XtwoDxbJvycdCwyKiDPquc58svuIPkt2HObw2XuEmrfXyI77g2T3xFxC9plxUv7Z1436j6yvj4Z+rr4AfBrZg1LOLVyQUppLdr/Cafn/z9Wwfo1SSk+Sff/5e+QPR61Fbd85Ift98lZ+O5UnyEaAPlHfGCRW7XOqts9MqLk/k8+7j6w/3ZdSqu2qH8g+114j+7x7HvhG/oe435H1tYf5/Hfamj43CzXF98BmKz67ukj6TGSjA1ullJbkPxLHkt30uQ3wh5TS0JVWUL82BpI9xOCQ1a1LKkVrop9Jqpn9T1JdIr/fWT5KZxTZA1NGNXVcKp7IboH1t5TSyKaORdLqqa0/R3a5enlKaXhTxKXG5z0tVJu2wLh8OHcAZ+QjeD5hxUvpJK06+5nUdOx/kupyWUTsR/YHj0eAvzZtOJIkqTpHbEqSJEmSJEkqOevCPTYlSZIkSZIkNTMmNiVJkiRJkiSVHBObkiRJkiRJkkqOiU1JkiRJkiRJJcfEpiRJkoomIg6PiO5roJ3bIuLr9Si3dUSMrKNMp4j4RuNFJ0mSpGIwsSlJkqSiiIj1gMOBoic26yMi1kspvZ5SqisB2gkwsSlJkrSWM7EpSZKkWuWjF2dGxJ0RMSMiRkZE24i4NCImRsS0iLg5IiIvPz4i/l9EVAAXAEOAqyJiSkTsGBGTC+ruUvi6hrZ/FhHTI+KFiLi6IJ5/5PMei4jtC1bZLyIqIuKliDgkLz8sIkZHxD+Ax/L1p+XLWkbEVfl2vBAR/5PX8zNgrzzmcyPi8YjoXRDXkxHRqzH2ryRJklbdek0dgCRJktZ6OwHfTClNiIhbgDOA61NKVwBExB3AIcADefnWKaXyfFkX4G8ppZH560UR0TulNAU4Gbi1pgYjYnPgCKBbSilFxKb5ouuAP6aU/hgRpwDXko0KhWykZT9gR2BcRHwpn98H2CWl9E5EdCpo5pvAopRS34hYH5gQEY8AFwLfSylVJkffAYYB34mIrkCblNLzDdqDkiRJanSO2JQkSVJd5qaUJuTTfwL2BPaNiH9FxFRgENCjoPyIldT1e+DkiGgJHA3cVUu5RcAS4A8R8TXgw3x+/4J17shjqXRPSml5Sull4BWgWz7/0ZTSOzW0cQBwYkRMAf4FbA50qaHcvcAhEdEKOAW4bSXbJ0mSpDXExKYkSZLqkmp4fSPw9ZRSGfA7oE3B8g9WUtd9wEFkIzwnpZQW1thgSsvIRl+OzMs+tIpxriyeAM5KKfXO/3VOKT1SQywfAo8ChwFHAXfWIxZJkiQVmYlNSZIk1WX7iOifT38DeDKffjsiNgJW9jCe94F2lS9SSkuAh4HfUMtl6AB5vZuklMYA5wKV97R8Cjgmnz4OeKJgtaER0SIidgR2AGbVsV0PA9/OR2ISEV0jYsPqMed+T3bZ+8SU0rt11CtJkqQ1wMSmJEmS6jILODMiZgCbkSUlfwdMI0sOTlzJuncD50fEc3nCEbIRj8uBz42OLNAO+FtEvECWSP1uPv8sskvZXwBOAM4pWOc14FngQeD0PIm6Mr8HpgOT8wcK/ZbsHvQvAJ9GxPMRcS5ASmkS8F9WkoyVJEnSmhUpVb9iR5IkScrkD9v5W0qpZyPW+T2y0Zg/bKw6iy0itgbGkz3MaHkThyNJkiR8KrokSZLWoIgYRfbU8kFNHUt9RcSJwP8C3zWpKUmStPZwxKYkSZKaVJ7s7Fxt9gUppYebIh5JkiSVBhObkiRJkiRJkkqODw+SJEmSJEmSVHJMbEqSJEmSJEkqOSY2JUmSJEmSJJUcE5uSJEmSJEmSSo6JTUmSJEmSJEkl5/8D4MZaD45xD2YAAAAASUVORK5CYII=)"
   ]
  },
  {
   "cell_type": "markdown",
   "id": "74959ee4",
   "metadata": {},
   "source": [
    "<br>"
   ]
  },
  {
   "cell_type": "markdown",
   "id": "613f8da1",
   "metadata": {},
   "source": [
    "**3. Написать вывод**\n",
    "- Под воздействием чего-либо количество средних, тяжелых и фатальных повреждений больше, чем при трезвом вождении.\n",
    "- При трезвом вождении больше мелких повреждений."
   ]
  },
  {
   "cell_type": "markdown",
   "id": "5df69af8",
   "metadata": {},
   "source": [
    "**Определить взаимосвязь между типом кузова средства и тяжестью повреждений при ДТП (связать vehicles и collisions).**"
   ]
  },
  {
   "cell_type": "markdown",
   "id": "e1b4ff22",
   "metadata": {},
   "source": [
    "**1. Написать SQL запрос**\n",
    "\n",
    "``` python\n",
    "query =  '''\n",
    "    WITH cnt AS (SELECT veh.VEHICLE_TYPE, \n",
    "                                          COUNT(*) as cont\n",
    "                            FROM vehicles as veh\n",
    "                            JOIN parties as par ON veh.case_id = par.case_id AND veh.party_number = par.party_number\n",
    "                            LEFT JOIN collisions as coli ON veh.case_id = coli.case_id\n",
    "                            GROUP BY veh.VEHICLE_TYPE)\n",
    "\n",
    "    SELECT veh.VEHICLE_TYPE, \n",
    "                   coli.COLLISION_DAMAGE,\n",
    "                   COUNT(*)::numeric / MAX(cnt.cont)::numeric as coef\n",
    "    FROM vehicles as veh\n",
    "    JOIN parties as par ON veh.case_id = par.case_id AND veh.party_number = par.party_number\n",
    "    LEFT JOIN collisions as coli ON veh.case_id = coli.case_id\n",
    "    LEFT JOIN cnt ON cnt.VEHICLE_TYPE = veh.VEHICLE_TYPE\n",
    "    GROUP BY veh.VEHICLE_TYPE,\n",
    "                       coli.COLLISION_DAMAGE\n",
    "    ORDER BY VEHICLE_TYPE, COLLISION_DAMAGE\n",
    " '''\n",
    "\n",
    "temp = pd.read_sql_query(query, con=engine)\n",
    "```"
   ]
  },
  {
   "cell_type": "markdown",
   "id": "c758789a",
   "metadata": {},
   "source": [
    "<br>"
   ]
  },
  {
   "cell_type": "markdown",
   "id": "704721dc",
   "metadata": {},
   "source": [
    "\n",
    "**2. Сделать график для наглядности**\n",
    "\n",
    "``` python\n",
    "plt.figure(figsize = (23, 5))\n",
    "sns.barplot(data = temp, x = 'vehicle_type', y = 'coef', hue = 'collision_damage')\n",
    "plt.title('Серьёзности повреждений при трезвость участника')\n",
    "plt.show()\n",
    "```\n",
    "\n",
    "![](data:image/png;base64,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)"
   ]
  },
  {
   "cell_type": "markdown",
   "id": "43c958f2",
   "metadata": {},
   "source": [
    "<br>"
   ]
  },
  {
   "cell_type": "markdown",
   "id": "86cef232",
   "metadata": {},
   "source": [
    "\n",
    "**3. Написать вывод**\n",
    "- Данных о незначительных повреждениях не представлено для всех типов кузовов, кроме седана, что является ошибкой данных.\n",
    "- Кузов \"седан\" демонстрируют наименьший коэффициент для всех уровней повреждений, что делает их наиболее безопасными среди представленных типов.\n",
    "- Наиболее подвержены царапинам машины с кузовом \"купе\".\n",
    "- \"Хэтчбэки\" наиболее склонны к фатальным повреждениям."
   ]
  },
  {
   "cell_type": "markdown",
   "id": "17243e7a",
   "metadata": {},
   "source": [
    "## Создайте модель для оценки водительского риска"
   ]
  },
  {
   "cell_type": "markdown",
   "id": "166bea82",
   "metadata": {},
   "source": [
    "### Предобработка"
   ]
  },
  {
   "cell_type": "code",
   "execution_count": 15,
   "id": "a121d709",
   "metadata": {
    "scrolled": false
   },
   "outputs": [
    {
     "data": {
      "text/html": [
       "<div>\n",
       "<style scoped>\n",
       "    .dataframe tbody tr th:only-of-type {\n",
       "        vertical-align: middle;\n",
       "    }\n",
       "\n",
       "    .dataframe tbody tr th {\n",
       "        vertical-align: top;\n",
       "    }\n",
       "\n",
       "    .dataframe thead th {\n",
       "        text-align: right;\n",
       "    }\n",
       "</style>\n",
       "<table border=\"1\" class=\"dataframe\">\n",
       "  <thead>\n",
       "    <tr style=\"text-align: right;\">\n",
       "      <th></th>\n",
       "      <th>id</th>\n",
       "      <th>case_id</th>\n",
       "      <th>party_number</th>\n",
       "      <th>vehicle_type</th>\n",
       "      <th>vehicle_transmission</th>\n",
       "      <th>vehicle_age</th>\n",
       "      <th>id</th>\n",
       "      <th>case_id</th>\n",
       "      <th>party_number</th>\n",
       "      <th>party_type</th>\n",
       "      <th>...</th>\n",
       "      <th>primary_collision_factor</th>\n",
       "      <th>pcf_violation_category</th>\n",
       "      <th>type_of_collision</th>\n",
       "      <th>motor_vehicle_involved_with</th>\n",
       "      <th>road_surface</th>\n",
       "      <th>road_condition_1</th>\n",
       "      <th>lighting</th>\n",
       "      <th>control_device</th>\n",
       "      <th>collision_date</th>\n",
       "      <th>collision_time</th>\n",
       "    </tr>\n",
       "  </thead>\n",
       "  <tbody>\n",
       "    <tr>\n",
       "      <th>0</th>\n",
       "      <td>1320375</td>\n",
       "      <td>5448917</td>\n",
       "      <td>1</td>\n",
       "      <td>sedan</td>\n",
       "      <td>manual</td>\n",
       "      <td>0.0</td>\n",
       "      <td>2395544</td>\n",
       "      <td>5448917</td>\n",
       "      <td>1</td>\n",
       "      <td>car</td>\n",
       "      <td>...</td>\n",
       "      <td>vehicle code violation</td>\n",
       "      <td>speeding</td>\n",
       "      <td>rear end</td>\n",
       "      <td>other motor vehicle</td>\n",
       "      <td>dry</td>\n",
       "      <td>normal</td>\n",
       "      <td>daylight</td>\n",
       "      <td>none</td>\n",
       "      <td>2012-01-16</td>\n",
       "      <td>15:45:00</td>\n",
       "    </tr>\n",
       "    <tr>\n",
       "      <th>1</th>\n",
       "      <td>1274777</td>\n",
       "      <td>5403037</td>\n",
       "      <td>1</td>\n",
       "      <td>sedan</td>\n",
       "      <td>manual</td>\n",
       "      <td>3.0</td>\n",
       "      <td>2312523</td>\n",
       "      <td>5403037</td>\n",
       "      <td>1</td>\n",
       "      <td>car</td>\n",
       "      <td>...</td>\n",
       "      <td>vehicle code violation</td>\n",
       "      <td>dui</td>\n",
       "      <td>hit object</td>\n",
       "      <td>fixed object</td>\n",
       "      <td>dry</td>\n",
       "      <td>loose material</td>\n",
       "      <td>dark with street lights</td>\n",
       "      <td>functioning</td>\n",
       "      <td>2012-01-13</td>\n",
       "      <td>02:55:00</td>\n",
       "    </tr>\n",
       "    <tr>\n",
       "      <th>2</th>\n",
       "      <td>1275580</td>\n",
       "      <td>5403431</td>\n",
       "      <td>1</td>\n",
       "      <td>coupe</td>\n",
       "      <td>manual</td>\n",
       "      <td>6.0</td>\n",
       "      <td>2313227</td>\n",
       "      <td>5403431</td>\n",
       "      <td>1</td>\n",
       "      <td>car</td>\n",
       "      <td>...</td>\n",
       "      <td>vehicle code violation</td>\n",
       "      <td>dui</td>\n",
       "      <td>hit object</td>\n",
       "      <td>fixed object</td>\n",
       "      <td>dry</td>\n",
       "      <td>normal</td>\n",
       "      <td>dark with street lights</td>\n",
       "      <td>none</td>\n",
       "      <td>2012-01-11</td>\n",
       "      <td>18:03:00</td>\n",
       "    </tr>\n",
       "    <tr>\n",
       "      <th>3</th>\n",
       "      <td>1336237</td>\n",
       "      <td>5464780</td>\n",
       "      <td>1</td>\n",
       "      <td>sedan</td>\n",
       "      <td>manual</td>\n",
       "      <td>4.0</td>\n",
       "      <td>2424883</td>\n",
       "      <td>5464780</td>\n",
       "      <td>1</td>\n",
       "      <td>car</td>\n",
       "      <td>...</td>\n",
       "      <td>vehicle code violation</td>\n",
       "      <td>speeding</td>\n",
       "      <td>rear end</td>\n",
       "      <td>other motor vehicle</td>\n",
       "      <td>dry</td>\n",
       "      <td>normal</td>\n",
       "      <td>dark with street lights</td>\n",
       "      <td>none</td>\n",
       "      <td>2012-01-12</td>\n",
       "      <td>17:35:00</td>\n",
       "    </tr>\n",
       "    <tr>\n",
       "      <th>4</th>\n",
       "      <td>1359213</td>\n",
       "      <td>5487099</td>\n",
       "      <td>2</td>\n",
       "      <td>sedan</td>\n",
       "      <td>manual</td>\n",
       "      <td>4.0</td>\n",
       "      <td>2466513</td>\n",
       "      <td>5487099</td>\n",
       "      <td>2</td>\n",
       "      <td>car</td>\n",
       "      <td>...</td>\n",
       "      <td>vehicle code violation</td>\n",
       "      <td>unsafe starting or backing</td>\n",
       "      <td>sideswipe</td>\n",
       "      <td>other motor vehicle</td>\n",
       "      <td>dry</td>\n",
       "      <td>normal</td>\n",
       "      <td>dark with street lights</td>\n",
       "      <td>none</td>\n",
       "      <td>2012-01-16</td>\n",
       "      <td>19:10:00</td>\n",
       "    </tr>\n",
       "  </tbody>\n",
       "</table>\n",
       "<p>5 rows × 35 columns</p>\n",
       "</div>"
      ],
      "text/plain": [
       "        id  case_id  party_number vehicle_type vehicle_transmission  \\\n",
       "0  1320375  5448917             1        sedan               manual   \n",
       "1  1274777  5403037             1        sedan               manual   \n",
       "2  1275580  5403431             1        coupe               manual   \n",
       "3  1336237  5464780             1        sedan               manual   \n",
       "4  1359213  5487099             2        sedan               manual   \n",
       "\n",
       "   vehicle_age       id  case_id  party_number party_type  ...  \\\n",
       "0          0.0  2395544  5448917             1        car  ...   \n",
       "1          3.0  2312523  5403037             1        car  ...   \n",
       "2          6.0  2313227  5403431             1        car  ...   \n",
       "3          4.0  2424883  5464780             1        car  ...   \n",
       "4          4.0  2466513  5487099             2        car  ...   \n",
       "\n",
       "   primary_collision_factor      pcf_violation_category type_of_collision  \\\n",
       "0    vehicle code violation                    speeding          rear end   \n",
       "1    vehicle code violation                         dui        hit object   \n",
       "2    vehicle code violation                         dui        hit object   \n",
       "3    vehicle code violation                    speeding          rear end   \n",
       "4    vehicle code violation  unsafe starting or backing         sideswipe   \n",
       "\n",
       "  motor_vehicle_involved_with  road_surface road_condition_1  \\\n",
       "0         other motor vehicle           dry           normal   \n",
       "1                fixed object           dry   loose material   \n",
       "2                fixed object           dry           normal   \n",
       "3         other motor vehicle           dry           normal   \n",
       "4         other motor vehicle           dry           normal   \n",
       "\n",
       "                  lighting control_device  collision_date collision_time  \n",
       "0                 daylight           none      2012-01-16       15:45:00  \n",
       "1  dark with street lights    functioning      2012-01-13       02:55:00  \n",
       "2  dark with street lights           none      2012-01-11       18:03:00  \n",
       "3  dark with street lights           none      2012-01-12       17:35:00  \n",
       "4  dark with street lights           none      2012-01-16       19:10:00  \n",
       "\n",
       "[5 rows x 35 columns]"
      ]
     },
     "execution_count": 15,
     "metadata": {},
     "output_type": "execute_result"
    }
   ],
   "source": [
    "query =  '''\n",
    "    SELECT *\n",
    "    FROM vehicles as veh\n",
    "    JOIN parties as par ON veh.case_id = par.case_id AND veh.party_number = par.party_number\n",
    "    LEFT JOIN collisions as col ON veh.case_id = col.case_id\n",
    "    WHERE col.collision_damage != 'scratch' AND\n",
    "                  DATE_TRUNC('YEAR', col.collision_date) = '2012-01-01' AND\n",
    "                  par.party_type = 'car'    \n",
    " '''\n",
    "\n",
    "df = pd.read_sql_query(query, con=engine)\n",
    "df.head()"
   ]
  },
  {
   "cell_type": "code",
   "execution_count": 16,
   "id": "13668b18",
   "metadata": {
    "scrolled": true
   },
   "outputs": [
    {
     "data": {
      "text/html": [
       "<div>\n",
       "<style scoped>\n",
       "    .dataframe tbody tr th:only-of-type {\n",
       "        vertical-align: middle;\n",
       "    }\n",
       "\n",
       "    .dataframe tbody tr th {\n",
       "        vertical-align: top;\n",
       "    }\n",
       "\n",
       "    .dataframe thead th {\n",
       "        text-align: right;\n",
       "    }\n",
       "</style>\n",
       "<table border=\"1\" class=\"dataframe\">\n",
       "  <thead>\n",
       "    <tr style=\"text-align: right;\">\n",
       "      <th></th>\n",
       "      <th>at_fault</th>\n",
       "      <th>collision_date</th>\n",
       "      <th>collision_time</th>\n",
       "      <th>cellphone_in_use</th>\n",
       "      <th>motor_vehicle_involved_with</th>\n",
       "      <th>party_drug_physical</th>\n",
       "      <th>party_sobriety</th>\n",
       "      <th>primary_collision_factor</th>\n",
       "      <th>road_condition_1</th>\n",
       "      <th>road_surface</th>\n",
       "      <th>type_of_collision</th>\n",
       "      <th>vehicle_age</th>\n",
       "      <th>weather_1</th>\n",
       "    </tr>\n",
       "  </thead>\n",
       "  <tbody>\n",
       "    <tr>\n",
       "      <th>0</th>\n",
       "      <td>1</td>\n",
       "      <td>2012-01-16</td>\n",
       "      <td>15:45:00</td>\n",
       "      <td>0.0</td>\n",
       "      <td>other motor vehicle</td>\n",
       "      <td>None</td>\n",
       "      <td>had not been drinking</td>\n",
       "      <td>vehicle code violation</td>\n",
       "      <td>normal</td>\n",
       "      <td>dry</td>\n",
       "      <td>rear end</td>\n",
       "      <td>0.0</td>\n",
       "      <td>clear</td>\n",
       "    </tr>\n",
       "    <tr>\n",
       "      <th>1</th>\n",
       "      <td>1</td>\n",
       "      <td>2012-01-13</td>\n",
       "      <td>02:55:00</td>\n",
       "      <td>0.0</td>\n",
       "      <td>fixed object</td>\n",
       "      <td>under drug influence</td>\n",
       "      <td>had been drinking, under influence</td>\n",
       "      <td>vehicle code violation</td>\n",
       "      <td>loose material</td>\n",
       "      <td>dry</td>\n",
       "      <td>hit object</td>\n",
       "      <td>3.0</td>\n",
       "      <td>clear</td>\n",
       "    </tr>\n",
       "    <tr>\n",
       "      <th>2</th>\n",
       "      <td>1</td>\n",
       "      <td>2012-01-11</td>\n",
       "      <td>18:03:00</td>\n",
       "      <td>NaN</td>\n",
       "      <td>fixed object</td>\n",
       "      <td>None</td>\n",
       "      <td>had been drinking, under influence</td>\n",
       "      <td>vehicle code violation</td>\n",
       "      <td>normal</td>\n",
       "      <td>dry</td>\n",
       "      <td>hit object</td>\n",
       "      <td>6.0</td>\n",
       "      <td>clear</td>\n",
       "    </tr>\n",
       "    <tr>\n",
       "      <th>3</th>\n",
       "      <td>1</td>\n",
       "      <td>2012-01-12</td>\n",
       "      <td>17:35:00</td>\n",
       "      <td>0.0</td>\n",
       "      <td>other motor vehicle</td>\n",
       "      <td>None</td>\n",
       "      <td>had not been drinking</td>\n",
       "      <td>vehicle code violation</td>\n",
       "      <td>normal</td>\n",
       "      <td>dry</td>\n",
       "      <td>rear end</td>\n",
       "      <td>4.0</td>\n",
       "      <td>clear</td>\n",
       "    </tr>\n",
       "    <tr>\n",
       "      <th>4</th>\n",
       "      <td>0</td>\n",
       "      <td>2012-01-16</td>\n",
       "      <td>19:10:00</td>\n",
       "      <td>0.0</td>\n",
       "      <td>other motor vehicle</td>\n",
       "      <td>None</td>\n",
       "      <td>had not been drinking</td>\n",
       "      <td>vehicle code violation</td>\n",
       "      <td>normal</td>\n",
       "      <td>dry</td>\n",
       "      <td>sideswipe</td>\n",
       "      <td>4.0</td>\n",
       "      <td>clear</td>\n",
       "    </tr>\n",
       "  </tbody>\n",
       "</table>\n",
       "</div>"
      ],
      "text/plain": [
       "   at_fault collision_date collision_time  cellphone_in_use  \\\n",
       "0         1     2012-01-16       15:45:00               0.0   \n",
       "1         1     2012-01-13       02:55:00               0.0   \n",
       "2         1     2012-01-11       18:03:00               NaN   \n",
       "3         1     2012-01-12       17:35:00               0.0   \n",
       "4         0     2012-01-16       19:10:00               0.0   \n",
       "\n",
       "  motor_vehicle_involved_with   party_drug_physical  \\\n",
       "0         other motor vehicle                  None   \n",
       "1                fixed object  under drug influence   \n",
       "2                fixed object                  None   \n",
       "3         other motor vehicle                  None   \n",
       "4         other motor vehicle                  None   \n",
       "\n",
       "                       party_sobriety primary_collision_factor  \\\n",
       "0               had not been drinking   vehicle code violation   \n",
       "1  had been drinking, under influence   vehicle code violation   \n",
       "2  had been drinking, under influence   vehicle code violation   \n",
       "3               had not been drinking   vehicle code violation   \n",
       "4               had not been drinking   vehicle code violation   \n",
       "\n",
       "  road_condition_1 road_surface type_of_collision  vehicle_age weather_1  \n",
       "0           normal          dry          rear end          0.0     clear  \n",
       "1   loose material          dry        hit object          3.0     clear  \n",
       "2           normal          dry        hit object          6.0     clear  \n",
       "3           normal          dry          rear end          4.0     clear  \n",
       "4           normal          dry         sideswipe          4.0     clear  "
      ]
     },
     "execution_count": 16,
     "metadata": {},
     "output_type": "execute_result"
    }
   ],
   "source": [
    "columms = ['at_fault', # trarget\n",
    "                   'collision_date', #для определения времени года\n",
    "                   'collision_time', #для определения времени суток\n",
    "                   'cellphone_in_use', # возомжность разговаривать по громкой связи (отвлекающий фактор при езде)\n",
    "                   'motor_vehicle_involved_with', # Например (Fixed object) прямое докозательство вины водителя\n",
    "                   'party_drug_physical', # Прямое влияние на вииновность\n",
    "                   'party_sobriety', #  Прямое влияние на вииновность\n",
    "                   'primary_collision_factor', # Например (Fell Asleep) прямое докозательсво виновнсости \n",
    "                   'road_condition_1', # Может снижать сцепление колес\n",
    "                   'road_surface', # Может снижать сцепление колес\n",
    "                   'type_of_collision', # Например  (Rear End (Столкновение задней частью)) в большинстве случаев не вина водителя\n",
    "                   'vehicle_age', # Старый автомобиль может быть менее надеждым\n",
    "                   'weather_1' # Может снижать сцепление колес\n",
    "                   ]\n",
    "\n",
    "df = df[columms]\n",
    "df.head()"
   ]
  },
  {
   "cell_type": "markdown",
   "id": "6e8fd858",
   "metadata": {},
   "source": [
    "<br>"
   ]
  },
  {
   "cell_type": "code",
   "execution_count": 17,
   "id": "1738b04f",
   "metadata": {},
   "outputs": [
    {
     "data": {
      "image/png": "[encoded data removed]",
      "text/plain": [
       "<Figure size 432x504 with 1 Axes>"
      ]
     },
     "metadata": {
      "needs_background": "light"
     },
     "output_type": "display_data"
    }
   ],
   "source": [
    "plt.figure(figsize = (6, 7))\n",
    "plt.title('Распределние таргета')\n",
    "sns.barplot(data = df['at_fault'].value_counts().to_frame().reset_index(), x = 'index', y = 'at_fault')\n",
    "plt.xlabel('at_fault')\n",
    "plt.ylabel('count')\n",
    "plt.show()"
   ]
  },
  {
   "cell_type": "markdown",
   "id": "6dc1d922",
   "metadata": {},
   "source": [
    "**Классы сблансированы.**"
   ]
  },
  {
   "cell_type": "markdown",
   "id": "f96fe570",
   "metadata": {},
   "source": [
    "<br>"
   ]
  },
  {
   "cell_type": "code",
   "execution_count": 18,
   "id": "35323839",
   "metadata": {},
   "outputs": [
    {
     "data": {
      "text/plain": [
       "collision_time                 0.001565\n",
       "cellphone_in_use               0.079487\n",
       "motor_vehicle_involved_with    0.002880\n",
       "party_drug_physical            0.949207\n",
       "party_sobriety                 0.015503\n",
       "primary_collision_factor       0.001973\n",
       "road_condition_1               0.004427\n",
       "road_surface                   0.006187\n",
       "type_of_collision              0.005476\n",
       "vehicle_age                    0.030117\n",
       "weather_1                      0.002987\n",
       "dtype: float64"
      ]
     },
     "execution_count": 18,
     "metadata": {},
     "output_type": "execute_result"
    }
   ],
   "source": [
    "none_coef = df.isna().sum() / len(df)\n",
    "none_coef[none_coef > 0]"
   ]
  },
  {
   "cell_type": "markdown",
   "id": "a7add836",
   "metadata": {},
   "source": [
    "- **collision_time** - не возможно заменить значение, строки с пропусокм\n",
    "- **cellphone_in_use** - заемна при помощи использование предсказательных моделей\n",
    "- **motor_vehicle_involved_with** - количетсво пропусков минимальное, удаление не приведет к ухудшению обобщаюшей способности моделей\n",
    "- **party_drug_physical** - заменим пропуски на \"Not Stated\"\n",
    "- **party_sobriety** - заменим пропуски на \"Not Stated\"\n",
    "- **primary_collision_factor** - заменим пропуски на \"Not Stated\"\n",
    "- **road_condition_1** - заменим пропуски на \"Not Stated\"\n",
    "- **road_surface** - заменим пропуски на \"Not Stated\"\n",
    "- **type_of_collision** - заменим пропуски на \"Not Stated\"\n",
    "- **vehicle_age** - заемна при помощи использование предсказательных моделей\n",
    "- **weather_1** - заменим пропуски на \"Not Stated\""
   ]
  },
  {
   "cell_type": "code",
   "execution_count": 19,
   "id": "a3faca89",
   "metadata": {},
   "outputs": [],
   "source": [
    "na_drop_col = ['collision_time', 'motor_vehicle_involved_with',]\n",
    "df = df.dropna(subset = na_drop_col)\n",
    "\n",
    "fillna_col = ['party_drug_physical', 'party_sobriety',\n",
    "                   'primary_collision_factor',  'road_condition_1', \n",
    "                    'road_surface', 'type_of_collision', \n",
    "                    'weather_1']\n",
    "\n",
    "df.loc[:, fillna_col] = df[fillna_col].fillna('Not Stated')"
   ]
  },
  {
   "cell_type": "markdown",
   "id": "a28ed0e6",
   "metadata": {},
   "source": [
    "<br>"
   ]
  },
  {
   "cell_type": "markdown",
   "id": "4e91e372",
   "metadata": {},
   "source": [
    "**Создадим дополнительные признаки из даты и времени аварии**"
   ]
  },
  {
   "cell_type": "markdown",
   "id": "25f4a1cd",
   "metadata": {},
   "source": [
    "<br>"
   ]
  },
  {
   "cell_type": "code",
   "execution_count": 20,
   "id": "081317af",
   "metadata": {},
   "outputs": [],
   "source": [
    "df['collision_date'] = pd.to_datetime(df['collision_date'])\n",
    "df['collision_time'] = pd.to_timedelta(df['collision_time'].astype(str))\n",
    "df['collision_datetime'] = df['collision_date'] + df['collision_time'] \n",
    "\n",
    "\n",
    "df['season'] = df['collision_datetime'].dt.month.apply(lambda x: 'Winter' if 1 <= x <= 2 else\n",
    "                                                        'Spring' if 3 <= x <= 5 else\n",
    "                                                        'Summer' if 6 <= x <= 8 else\n",
    "                                                        'Autumn' if 9 <= x <= 11 else 'Winter')\n",
    "\n",
    "df['hour'] = df['collision_datetime'].dt.hour\n",
    "df['time_of_day'] = df['hour'].apply(lambda x: 'Night' if 0 <= x <= 5 else\n",
    "                                             'Morning' if 6 <= x <= 11 else\n",
    "                                             'Afternoon' if 12 <= x <= 17 else 'Evening')"
   ]
  },
  {
   "cell_type": "code",
   "execution_count": 21,
   "id": "81681a75",
   "metadata": {},
   "outputs": [],
   "source": [
    "df = df.drop(['collision_date', 'collision_time', 'hour', 'collision_datetime'], axis = 1)"
   ]
  },
  {
   "cell_type": "markdown",
   "id": "bba1e42d",
   "metadata": {},
   "source": [
    "<br>"
   ]
  },
  {
   "cell_type": "markdown",
   "id": "e47f5c22",
   "metadata": {},
   "source": [
    "**Заполним пропуски**\n",
    "\n",
    "Будем считать что возможность проставлять пропуски будет отсутсвовать, в признаках vehicle_age и cellphone_in_use."
   ]
  },
  {
   "cell_type": "markdown",
   "id": "8bb876f2",
   "metadata": {},
   "source": [
    "<br>"
   ]
  },
  {
   "cell_type": "code",
   "execution_count": 22,
   "id": "9e327aae",
   "metadata": {
    "scrolled": false
   },
   "outputs": [],
   "source": [
    "categ_columns = df.select_dtypes('object').columns.tolist()\n",
    "\n",
    "with_none = df[df['vehicle_age'].isna()].reset_index(drop=True)\n",
    "y_with_none = with_none['vehicle_age']\n",
    "X_with_none = with_none.drop('vehicle_age', axis = 1)\n",
    "\n",
    "without_none = df[~df['vehicle_age'].isna()].reset_index(drop=True)\n",
    "y_without_none = without_none['vehicle_age']\n",
    "X_without_none = without_none.drop('vehicle_age', axis = 1)\n",
    "\n",
    "imputer_age = CatBoostRegressor(random_seed=1234)\n",
    "imputer_age.fit(X_without_none, y_without_none, cat_features = categ_columns, verbose = False)\n",
    "\n",
    "with_none.loc[:, 'vehicle_age'] = np.round(imputer_age.predict(X_with_none))\n",
    "\n",
    "df = pd.concat([with_none, without_none]).reset_index(drop=True)"
   ]
  },
  {
   "cell_type": "code",
   "execution_count": 23,
   "id": "5b538c8d",
   "metadata": {},
   "outputs": [],
   "source": [
    "del with_none, without_none, X_without_none, y_without_none, X_with_none, y_with_none, imputer_age"
   ]
  },
  {
   "cell_type": "code",
   "execution_count": 24,
   "id": "feaf27a0",
   "metadata": {
    "scrolled": false
   },
   "outputs": [],
   "source": [
    "categ_columns = df.select_dtypes('object').columns.tolist()\n",
    "\n",
    "with_none = df[df['cellphone_in_use'].isna()].reset_index(drop=True)\n",
    "y_with_none = with_none['cellphone_in_use']\n",
    "X_with_none = with_none.drop('cellphone_in_use', axis = 1)\n",
    "\n",
    "without_none = df[~df['cellphone_in_use'].isna()].reset_index(drop=True)\n",
    "y_without_none = without_none['cellphone_in_use']\n",
    "X_without_none = without_none.drop('cellphone_in_use', axis = 1)\n",
    "\n",
    "imputer_age = CatBoostClassifier(random_seed=1234)\n",
    "imputer_age.fit(X_without_none, y_without_none, cat_features = categ_columns, verbose = False)\n",
    "\n",
    "with_none.loc[:, 'cellphone_in_use'] = np.round(imputer_age.predict(X_with_none))\n",
    "\n",
    "df = pd.concat([with_none, without_none]).reset_index(drop=True)"
   ]
  },
  {
   "cell_type": "code",
   "execution_count": 25,
   "id": "6c7a54dc",
   "metadata": {},
   "outputs": [],
   "source": [
    "del with_none, without_none, X_without_none, y_without_none, X_with_none, y_with_none, imputer_age"
   ]
  },
  {
   "cell_type": "markdown",
   "id": "edcdee1f",
   "metadata": {},
   "source": [
    "<br>"
   ]
  },
  {
   "cell_type": "code",
   "execution_count": 26,
   "id": "b60a2f65",
   "metadata": {},
   "outputs": [],
   "source": [
    "train, test = train_test_split(df, random_state = 1234, test_size = 0.30)\n",
    "\n",
    "X_train = train.drop('at_fault', axis = 1)\n",
    "y_train = train['at_fault']\n",
    "X_test = test.drop('at_fault', axis = 1)\n",
    "y_test = test['at_fault']"
   ]
  },
  {
   "cell_type": "code",
   "execution_count": 27,
   "id": "4835b185",
   "metadata": {},
   "outputs": [],
   "source": [
    "encoder = CatBoostEncoder(return_df = True, verbose = 0)\n",
    "encoder.fit(X_train, y_train)\n",
    "X_test = encoder.transform(X_test)\n",
    "X_train = encoder.transform(X_train)"
   ]
  },
  {
   "cell_type": "code",
   "execution_count": 28,
   "id": "0da63d8f",
   "metadata": {},
   "outputs": [],
   "source": [
    "scaler = MinMaxScaler()\n",
    "X_train = pd.DataFrame((scaler.fit_transform(X = X_train)), columns = X_train.columns)\n",
    "X_test = pd.DataFrame((scaler.transform(X = X_test)), columns = X_test.columns)"
   ]
  },
  {
   "cell_type": "code",
   "execution_count": 29,
   "id": "486a7a4b",
   "metadata": {},
   "outputs": [],
   "source": [
    "X_test, X_eval, y_test, y_eval = train_test_split(X_test, y_test, random_state = 1234, test_size = 0.30)"
   ]
  },
  {
   "cell_type": "markdown",
   "id": "ce991967",
   "metadata": {},
   "source": [
    "<br>"
   ]
  },
  {
   "cell_type": "markdown",
   "id": "3869ddea",
   "metadata": {},
   "source": [
    "### Создание моделей"
   ]
  },
  {
   "cell_type": "markdown",
   "id": "c0cbf6e9",
   "metadata": {},
   "source": [
    "**Основной метрикой будет полнота (recall)**, потому что в данной задаче определение наличия аварий с виной водителя является более важным, чем предсказание некоторых случаев ошибочно (false positives) или сделание пропусков (false negatives). При **более высокой полноте** модель **будет лучше выявлять действительно положительные случаи**, что позволит **предотвратить потенциальные аварии** на дороге. Конечно, важно также стремиться к **высокой точности(precision)**, но в данном контексте, ошибки классификации положительных случаев (false negatives) являются более критическими, чем ошибки классификации отрицательных случаев (false positives)."
   ]
  },
  {
   "cell_type": "code",
   "execution_count": 30,
   "id": "61a526dd",
   "metadata": {},
   "outputs": [],
   "source": [
    "results = {}"
   ]
  },
  {
   "cell_type": "markdown",
   "id": "11cb9b2c",
   "metadata": {},
   "source": [
    "<br>"
   ]
  },
  {
   "cell_type": "markdown",
   "id": "b8b9c28c",
   "metadata": {},
   "source": [
    "#### LightGBM"
   ]
  },
  {
   "cell_type": "code",
   "execution_count": 31,
   "id": "00680b4c",
   "metadata": {
    "scrolled": true
   },
   "outputs": [],
   "source": [
    "# def objective(trial: optuna.trial.Trial):\n",
    "#     param = {\n",
    "#         'boosting_type': trial.suggest_categorical('boosting_type', ['gbdt']),\n",
    "#         'objective': trial.suggest_categorical('objective', ['binary']),\n",
    "#         'learning_rate': trial.suggest_float('learning_rate', 0.01, 0.3, log =True),\n",
    "#         'max_depth': trial.suggest_int('max_depth', 5, 20),\n",
    "#         'num_leaves': trial.suggest_int('num_leaves', 10, 30),\n",
    "#         'random_state': trial.suggest_categorical('random_state', [1234]),\n",
    "#         'verbose': trial.suggest_categorical('verbose', [0]),\n",
    "#         'n_estimators':trial.suggest_int('n_estimators', 100, 1000),\n",
    "#         'metrics': 'binary_logloss',\n",
    "#     }\n",
    "\n",
    "#     model = LGBMClassifier(**param)\n",
    "    \n",
    "#     model.fit(X_train, y_train,\n",
    "#                    eval_set = [(X_eval, y_eval)],\n",
    "#                    callbacks= [lgb.early_stopping(stopping_rounds=10)])\n",
    "    \n",
    "#     y_pred = model.predict_proba(X_eval)[:, 1]\n",
    "\n",
    "#     recall = roc_auc_score(y_eval, y_pred) \n",
    "#     return recall\n",
    "\n",
    "\n",
    "# studies = optuna.create_study(direction='maximize')\n",
    "# studies.optimize(objective, n_trials=100)\n",
    "\n",
    "# best_params = studies.best_params\n",
    "# best_metric = studies.best_value\n",
    "\n",
    "# print('Best metric:', best_metric)\n",
    "# print(\"Best Params:\", best_params)"
   ]
  },
  {
   "cell_type": "code",
   "execution_count": 32,
   "id": "d7161114",
   "metadata": {},
   "outputs": [],
   "source": [
    "best_params = {'boosting_type': 'gbdt',\n",
    "                         'objective': 'binary',\n",
    "                         'learning_rate': 0.2804969744499482,\n",
    "                         'max_depth': 7,\n",
    "                         'num_leaves': 24,\n",
    "                         'random_state': 1234,\n",
    "                         'verbose': 0,\n",
    "                         'n_estimators': 699}"
   ]
  },
  {
   "cell_type": "code",
   "execution_count": 33,
   "id": "e38d0c2b",
   "metadata": {},
   "outputs": [
    {
     "name": "stdout",
     "output_type": "stream",
     "text": [
      "[LightGBM] [Warning] Auto-choosing row-wise multi-threading, the overhead of testing was 0.001906 seconds.\n",
      "You can set `force_row_wise=true` to remove the overhead.\n",
      "And if memory is not enough, you can set `force_col_wise=true`.\n",
      "Training until validation scores don't improve for 50 rounds\n",
      "Early stopping, best iteration is:\n",
      "[35]\tvalid_0's binary_logloss: 0.51995\n",
      "roc_auc 0.7877189186397139\n",
      "recall 0.8037825059101655\n",
      "precision 0.6361085126286249\n",
      "accuracy 0.6696428571428571\n"
     ]
    }
   ],
   "source": [
    "lgbm = LGBMClassifier(**best_params)\n",
    "    \n",
    "lgbm.fit(X_train, y_train,\n",
    "            eval_set=[(X_eval, y_eval)],\n",
    "            callbacks = [lgb.early_stopping(stopping_rounds = 50)],)\n",
    "    \n",
    "y_pred = lgbm.predict_proba(X_eval)[:, 1]\n",
    "roc_auc = roc_auc_score(y_eval, y_pred)\n",
    "y_pred = (y_pred >= 0.37).astype(int)\n",
    "\n",
    "recall = recall_score(y_eval, y_pred)\n",
    "precision = precision_score(y_eval, y_pred)\n",
    "accuracy = accuracy_score(y_eval, y_pred)\n",
    "\n",
    "print('roc_auc', roc_auc)\n",
    "print('recall', recall)\n",
    "print('precision', precision)\n",
    "print('accuracy', accuracy)"
   ]
  },
  {
   "cell_type": "code",
   "execution_count": 34,
   "id": "d92e8d7a",
   "metadata": {},
   "outputs": [],
   "source": [
    "results['lightgbm'] = [roc_auc, recall, precision, accuracy]"
   ]
  },
  {
   "cell_type": "markdown",
   "id": "0035978b",
   "metadata": {},
   "source": [
    "<br>"
   ]
  },
  {
   "cell_type": "markdown",
   "id": "9134e571",
   "metadata": {},
   "source": [
    "#### CatBoost"
   ]
  },
  {
   "cell_type": "code",
   "execution_count": 35,
   "id": "2374b401",
   "metadata": {
    "scrolled": true
   },
   "outputs": [],
   "source": [
    "# def objective(trial):\n",
    "#     param = {\n",
    "#         'eval_metric': trial.suggest_categorical('eval_metric', ['AUC']),\n",
    "#         'subsample': trial.suggest_float('subsample', 0.1, 1.0),\n",
    "#         'learning_rate': trial.suggest_float('learning_rate', 0.01, 0.2),\n",
    "#         'depth': trial.suggest_int('depth', 4, 15),\n",
    "#         'min_child_samples': trial.suggest_int('min_child_samples', 1, 20),\n",
    "#         'n_estimators': trial.suggest_int('n_estimators', 200, 2000),\n",
    "#         'random_state': trial.suggest_categorical('random_state', [1234]),\n",
    "#         'objective':  trial.suggest_categorical('objective', ['CrossEntropy']),\n",
    "#     }\n",
    "    \n",
    "#     model = CatBoostClassifier(**param)\n",
    "    \n",
    "#     model.fit(X_train, y_train, eval_set=[(X_eval, y_eval)], early_stopping_rounds=50, verbose=False)\n",
    "    \n",
    "#     y_pred = model.predict_proba(X_eval)[:, 1]\n",
    "\n",
    "#     recall = roc_auc_score(y_eval, y_pred) \n",
    "#     return recall\n",
    "\n",
    "# studies = optuna.create_study(direction='maximize')\n",
    "# studies.optimize(objective, n_trials=150)\n",
    "\n",
    "# best_params = studies.best_params\n",
    "# best_metric = studies.best_value\n",
    "\n",
    "# print('Best metric:', best_metric)\n",
    "# print(\"Best Params:\", best_params)"
   ]
  },
  {
   "cell_type": "code",
   "execution_count": 36,
   "id": "40db2901",
   "metadata": {},
   "outputs": [],
   "source": [
    "best_params =  {'eval_metric': 'AUC',\n",
    "                         'subsample': 0.892349614376933,\n",
    "                         'learning_rate': 0.14814953991476207,\n",
    "                         'depth': 9,\n",
    "                         'min_child_samples': 11,\n",
    "                         'n_estimators': 1458,\n",
    "                         'random_state': 1234,\n",
    "                         'objective': 'CrossEntropy'}"
   ]
  },
  {
   "cell_type": "code",
   "execution_count": 37,
   "id": "bbdf91e9",
   "metadata": {},
   "outputs": [
    {
     "name": "stdout",
     "output_type": "stream",
     "text": [
      "roc_auc 0.78512619376524\n",
      "recall 0.7852639873916469\n",
      "precision 0.6359285258455648\n",
      "accuracy 0.6654761904761904\n"
     ]
    }
   ],
   "source": [
    "catboost = CatBoostClassifier(**best_params)\n",
    "catboost.fit(X_train, y_train, eval_set=[(X_eval, y_eval)], early_stopping_rounds=50, verbose=False)\n",
    "\n",
    "y_pred = catboost.predict_proba(X_eval)[:, 1]\n",
    "roc_auc = roc_auc_score(y_eval, y_pred)\n",
    "y_pred = (y_pred >= 0.375).astype(int)\n",
    "\n",
    "recall = recall_score(y_eval, y_pred)\n",
    "precision = precision_score(y_eval, y_pred)\n",
    "accuracy = accuracy_score(y_eval, y_pred)\n",
    "\n",
    "print('roc_auc', roc_auc)\n",
    "print('recall', recall)\n",
    "print('precision', precision)\n",
    "print('accuracy', accuracy)"
   ]
  },
  {
   "cell_type": "code",
   "execution_count": 38,
   "id": "29ff1ad1",
   "metadata": {},
   "outputs": [],
   "source": [
    "results['catboost'] = [roc_auc, recall, precision, accuracy]"
   ]
  },
  {
   "cell_type": "markdown",
   "id": "d77a9f36",
   "metadata": {},
   "source": [
    "<br>"
   ]
  },
  {
   "cell_type": "markdown",
   "id": "fdb0eba9",
   "metadata": {},
   "source": [
    "#### PyTorch"
   ]
  },
  {
   "cell_type": "code",
   "execution_count": 39,
   "id": "650d90ce",
   "metadata": {},
   "outputs": [],
   "source": [
    "X_train_net = torch.FloatTensor(X_train.values)\n",
    "X_test_net = torch.FloatTensor(X_test.values)\n",
    "X_eval_net = torch.FloatTensor(X_eval.values)\n",
    "y_train_net = torch.FloatTensor(y_train.values)\n",
    "y_test_net = torch.FloatTensor(y_test.values)\n",
    "y_eval_net = torch.FloatTensor(y_eval.values)"
   ]
  },
  {
   "cell_type": "code",
   "execution_count": 40,
   "id": "d02f6cdd",
   "metadata": {},
   "outputs": [],
   "source": [
    "class NeuralNetwork(nn.Module):\n",
    "    def __init__(self, input_size, output_size, hidden_sizes, \n",
    "                        use_batchnorm=None, dropout_prob=None, \n",
    "                        weight_init='kaiming_uniform'):\n",
    "        \n",
    "        super(NeuralNetwork, self).__init__()\n",
    "        self.layers = nn.ModuleList()\n",
    "        \n",
    "        self.use_batchnorm = [False] * len(hidden_sizes) if use_batchnorm is None else use_batchnorm\n",
    "        self.dropout_prob = [0.0] * len(hidden_sizes) if dropout_prob is None else dropout_prob\n",
    "\n",
    "        self.layers.append(nn.Linear(input_size, hidden_sizes[0]))\n",
    "        if self.use_batchnorm[0]:\n",
    "            self.layers.append(nn.BatchNorm1d(hidden_sizes[0]))\n",
    "        if self.dropout_prob[0] > 0:\n",
    "            self.layers.append(nn.Dropout(self.dropout_prob[0]))\n",
    "\n",
    "        for i in range(1, len(hidden_sizes)):\n",
    "            self.layers.append(nn.Linear(hidden_sizes[i-1], hidden_sizes[i]))\n",
    "            if self.use_batchnorm[i]:\n",
    "                self.layers.append(nn.BatchNorm1d(hidden_sizes[i]))\n",
    "            if self.dropout_prob[i] > 0:\n",
    "                self.layers.append(nn.Dropout(self.dropout_prob[i]))\n",
    "\n",
    "        self.layers.append(nn.Linear(hidden_sizes[-1], output_size))\n",
    "        \n",
    "        for layer in self.layers:\n",
    "            if isinstance(layer, nn.Linear):\n",
    "                if weight_init == 'kaiming_uniform':\n",
    "                    nn.init.kaiming_uniform_(layer.weight, mode='fan_in', nonlinearity='relu')\n",
    "                elif weight_init == 'kaiming_normal':\n",
    "                    nn.init.kaiming_normal_(layer.weight, mode='fan_in', nonlinearity='relu')\n",
    "                else:\n",
    "                    break\n",
    "\n",
    "    def forward(self, x):\n",
    "        for layer in self.layers:\n",
    "            x = layer(x)\n",
    "            if isinstance(layer, nn.ReLU):\n",
    "                x = F.relu(x)\n",
    "                \n",
    "        x = torch.sigmoid(x)\n",
    "        \n",
    "        return x"
   ]
  },
  {
   "cell_type": "code",
   "execution_count": 41,
   "id": "a8b37b9c",
   "metadata": {},
   "outputs": [],
   "source": [
    "def fit(net, loss, optimizer, epochs, l1_lambda=0.00, l2_lambda=0.00, early_stopping_patience = 10):\n",
    "    losses_and_metrics = {'loss': [], 'metric': []}\n",
    "    best_roc_auc = 0.0\n",
    "    epochs_without_improvement = 0\n",
    "    \n",
    "    dataset = torch.utils.data.TensorDataset(X_train_net, y_train_net)\n",
    "    dataloader = torch.utils.data.DataLoader(dataset, batch_size=128, shuffle=True)\n",
    "\n",
    "    for epoch in range(epochs):\n",
    "        net.train()\n",
    "        for batch_X, batch_y in dataloader:\n",
    "            optimizer.zero_grad()\n",
    "\n",
    "            pred = net(batch_X)\n",
    "            \n",
    "            loss_val = loss(pred.flatten(), batch_y.view(-1))\n",
    "        \n",
    "            if l1_lambda > 0:\n",
    "                l1_loss = sum(p.abs().sum() for p in net.parameters())\n",
    "                loss_val = loss_val + l1_lambda * l1_loss\n",
    "        \n",
    "            if l2_lambda > 0:\n",
    "                l2_loss = sum(p.pow(2.0).sum() for p in net.parameters())\n",
    "                loss_val = loss_val + l2_lambda * l2_loss\n",
    "\n",
    "            loss_val.backward()\n",
    "            optimizer.step()\n",
    "            \n",
    "            \n",
    "        net.eval()\n",
    "        with torch.no_grad():\n",
    "\n",
    "            eval_preds = net(X_eval_net).flatten()\n",
    "            loss_val = loss(eval_preds, y_eval_net).detach().item()\n",
    "            losses_and_metrics['loss'].append(loss_val)\n",
    "            \n",
    "            eval_preds = eval_preds.detach().numpy()\n",
    "            roc_auc = roc_auc_score(y_eval_net.flatten().numpy(), eval_preds)\n",
    "            losses_and_metrics['metric'].append(roc_auc)\n",
    "            \n",
    "        print(f\"Epoch: {epoch}, metric: {roc_auc}, loss: {loss_val}\")\n",
    "        \n",
    "        if best_roc_auc == roc_auc == 0.5:\n",
    "            break\n",
    "        \n",
    "        if roc_auc > best_roc_auc:\n",
    "            best_roc_auc = roc_auc\n",
    "            epochs_without_improvement = 0\n",
    "        else:\n",
    "            epochs_without_improvement += 1\n",
    "\n",
    "\n",
    "        if epochs_without_improvement >= early_stopping_patience:\n",
    "            print(f\"Stop after {epoch}\")\n",
    "            break\n",
    "\n",
    "    net.eval()\n",
    "    with torch.no_grad():\n",
    "        test_preds = net(X_test_net)\n",
    "\n",
    "    return net, losses_and_metrics, test_preds.detach().numpy().flatten()"
   ]
  },
  {
   "cell_type": "code",
   "execution_count": 42,
   "id": "b8054ede",
   "metadata": {},
   "outputs": [],
   "source": [
    "def visualising(value):\n",
    "    \n",
    "    x_values = range(len(value['loss']))\n",
    "\n",
    "    plt.figure(figsize = (20, 5))\n",
    "    plt.title('График потерь и метрики')\n",
    "    sns.lineplot(x=x_values, y=value['loss'], label='Loss')\n",
    "    sns.lineplot(x=x_values, y=value['metric'], label='Metric')\n",
    "    plt.xlabel('Эпоха')\n",
    "    plt.ylabel('Значения')\n",
    "    plt.show()"
   ]
  },
  {
   "cell_type": "code",
   "execution_count": 43,
   "id": "cf7926f7",
   "metadata": {},
   "outputs": [],
   "source": [
    "best_hidden_sizes = []\n",
    "best_use_batchnorm = []\n",
    "best_dropout_prob = []\n",
    "\n",
    "def objective(trial):\n",
    "    input_size = X_train.shape[1]\n",
    "    output_size = 1\n",
    "    \n",
    "    hidden_sizes = [2 ** trial.suggest_int('hidden_size_{}'.format(i), 1, 8) for i in range(trial.suggest_int('num_layers', 2, 5))]\n",
    "    \n",
    "    optimizate = trial.suggest_categorical('optimizate', ['batch', 'dropout', 'none'])\n",
    "    \n",
    "    if optimizate == \"batch\":\n",
    "        use_batchnorm = [trial.suggest_categorical('use_batchnorm_{}'.format(i), [True, False]) for i in range(len(hidden_sizes))]\n",
    "        dropout_prob = [0.0 for i in range(len(hidden_sizes))]\n",
    "    elif optimizate == \"dropout\":\n",
    "        use_batchnorm = [False for i in range(len(hidden_sizes))]\n",
    "        dropout_prob = [trial.suggest_float('dropout_prob_{}'.format(i), 0.5, 0.70) for i in range(len(hidden_sizes))]\n",
    "    else:\n",
    "        dropout_prob = [0.0 for i in range(len(hidden_sizes))]\n",
    "        use_batchnorm = [False for i in range(len(hidden_sizes))]\n",
    "        \n",
    "    weight_init = trial.suggest_categorical('weight_init', ['kaiming_uniform', 'kaiming_normal', 'simple'])\n",
    "\n",
    "    net = NeuralNetwork(input_size, output_size, hidden_sizes, use_batchnorm, dropout_prob, weight_init)\n",
    "    \n",
    "    learning_rate = trial.suggest_categorical('learning_rate', [0.01, 0.025, 0.05, 0.1])\n",
    "    \n",
    "    l1_lambda=trial.suggest_float('l1_lambda', 0.0, 0.1)\n",
    "    l2_lambda=trial.suggest_float('l2_lambda', 0.0, 0.1)\n",
    "    \n",
    "    loss = nn.BCELoss()\n",
    "    optimizer = torch.optim.Adam(net.parameters(), lr=learning_rate)\n",
    "\n",
    "    epochs = trial.suggest_int('epochs', 30, 100)\n",
    "\n",
    "    net, losses_and_metrics, test_preds = fit(net, loss, optimizer, epochs, l1_lambda = l1_lambda, l2_lambda = l2_lambda)\n",
    "    \n",
    "    global best_hidden_sizes, best_use_batchnorm, best_dropout_prob\n",
    "    if len(best_hidden_sizes) == 0 or losses_and_metrics['metric'][-1] < min(losses_and_metrics['metric']):\n",
    "        \n",
    "        best_hidden_sizes = hidden_sizes\n",
    "        best_use_batchnorm = use_batchnorm\n",
    "        best_dropout_prob = dropout_prob\n",
    "    \n",
    "    return losses_and_metrics['metric'][-1]"
   ]
  },
  {
   "cell_type": "code",
   "execution_count": 44,
   "id": "3fe7101b",
   "metadata": {
    "scrolled": true
   },
   "outputs": [],
   "source": [
    "# study = optuna.create_study(direction='maximize')\n",
    "# study.optimize(objective, n_trials=30)\n",
    "\n",
    "# best_params = study.best_params\n",
    "# best_metric = study.best_value\n",
    "\n",
    "# print('Best metric:', best_metric)\n",
    "# print(\"Best Params:\", best_params)"
   ]
  },
  {
   "cell_type": "code",
   "execution_count": 45,
   "id": "86fe916d",
   "metadata": {},
   "outputs": [],
   "source": [
    "best_params = {'num_layers': 5,\n",
    " 'hidden_size_0': 4,\n",
    " 'hidden_size_1': 2,\n",
    " 'hidden_size_2': 3,\n",
    " 'hidden_size_3': 4,\n",
    " 'hidden_size_4': 7,\n",
    " 'optimizate': 'none',\n",
    " 'weight_init': 'kaiming_normal',\n",
    " 'learning_rate': 0.01,\n",
    " 'l1_lambda': 0.0064112590992094765,\n",
    " 'l2_lambda': 0.0006250090440580114,\n",
    " 'epochs': 74}\n",
    "\n",
    "net_params = {}\n",
    "\n",
    "for key in ['weight_init', 'learning_rate', 'epochs', 'l1_lambda', 'l2_lambda']:\n",
    "    net_params[key] = best_params[key]\n",
    "\n",
    "best_hidden_sizes = [128, 256]\n",
    "best_use_batchnorm = [False, False]\n",
    "best_dropout_prob = [0.0, 0.0]"
   ]
  },
  {
   "cell_type": "code",
   "execution_count": 46,
   "id": "245c6c57",
   "metadata": {},
   "outputs": [
    {
     "name": "stdout",
     "output_type": "stream",
     "text": [
      "Epoch: 0, metric: 0.36457256574566976, loss: 0.6975200772285461\n",
      "Epoch: 1, metric: 0.6595172246757363, loss: 0.696900486946106\n",
      "Epoch: 2, metric: 0.389601636263881, loss: 0.6970404386520386\n",
      "Epoch: 3, metric: 0.38632947070239787, loss: 0.6964169144630432\n",
      "Epoch: 4, metric: 0.33394686929731227, loss: 0.6971996426582336\n",
      "Epoch: 5, metric: 0.3631625826210584, loss: 0.6971511840820312\n",
      "Epoch: 6, metric: 0.6449166907608664, loss: 0.6964616775512695\n",
      "Epoch: 7, metric: 0.44600615803653376, loss: 0.6972616314888\n",
      "Epoch: 8, metric: 0.6477677590000497, loss: 0.6962803602218628\n",
      "Epoch: 9, metric: 0.6823074243520865, loss: 0.6969742178916931\n",
      "Epoch: 10, metric: 0.29806580267700733, loss: 0.6965959072113037\n",
      "Epoch: 11, metric: 0.4161935227231926, loss: 0.69638991355896\n",
      "Epoch: 12, metric: 0.4793961521090456, loss: 0.6968855857849121\n",
      "Epoch: 13, metric: 0.6588590435768014, loss: 0.6970053315162659\n",
      "Epoch: 14, metric: 0.6430817520924158, loss: 0.6971290111541748\n",
      "Epoch: 15, metric: 0.49454022282567955, loss: 0.6966944336891174\n",
      "Epoch: 16, metric: 0.2763889755020255, loss: 0.6970434784889221\n",
      "Epoch: 17, metric: 0.43097184978573483, loss: 0.697045624256134\n",
      "Epoch: 18, metric: 0.635739713981376, loss: 0.6970562934875488\n",
      "Epoch: 19, metric: 0.6477631133863596, loss: 0.6960515975952148\n",
      "Stop after 19\n"
     ]
    }
   ],
   "source": [
    "input_size = X_train.shape[1]\n",
    "output_size = 1\n",
    "\n",
    "net = NeuralNetwork(input_size, output_size, best_hidden_sizes, best_use_batchnorm, best_dropout_prob, net_params['weight_init'])\n",
    "learning_rate = net_params['learning_rate']\n",
    "loss = nn.BCEWithLogitsLoss()\n",
    "optimizer = torch.optim.Adam(net.parameters(), lr=learning_rate)\n",
    "\n",
    "net, losses_and_metrics, test_preds = fit(net, loss, optimizer, net_params['epochs'], l1_lambda = net_params['l1_lambda'])"
   ]
  },
  {
   "cell_type": "code",
   "execution_count": 47,
   "id": "c18f82b9",
   "metadata": {},
   "outputs": [
    {
     "data": {
      "image/png": "[encoded data removed]",
      "text/plain": [
       "<Figure size 1440x360 with 1 Axes>"
      ]
     },
     "metadata": {
      "needs_background": "light"
     },
     "output_type": "display_data"
    }
   ],
   "source": [
    "visualising(losses_and_metrics)"
   ]
  },
  {
   "cell_type": "markdown",
   "id": "093a44a2",
   "metadata": {},
   "source": [
    "Нейронные сети из-за обучения на GPU имеют некоторую случайность. Из-за этого результаты каждый раз разнятся, поэтому сохраним модель.\n",
    "Так-же у нас подаются разные batch-и."
   ]
  },
  {
   "cell_type": "code",
   "execution_count": 48,
   "id": "c66efd6c",
   "metadata": {},
   "outputs": [
    {
     "name": "stdout",
     "output_type": "stream",
     "text": [
      "roc_auc 0.6477631133863596\n",
      "recall 0.0\n",
      "precision 0.0\n",
      "accuracy 0.49642857142857144\n"
     ]
    }
   ],
   "source": [
    "net.eval()\n",
    "y_pred = net(X_eval_net).flatten().detach().numpy()\n",
    "roc_auc = roc_auc_score(y_eval, y_pred)\n",
    "\n",
    "y_pred = (y_pred >= 0.496).astype(int)\n",
    "\n",
    "recall = recall_score(y_eval, y_pred)\n",
    "precision = precision_score(y_eval, y_pred)\n",
    "accuracy = accuracy_score(y_eval, y_pred)\n",
    "\n",
    "print('roc_auc', roc_auc)\n",
    "print('recall', recall)\n",
    "print('precision', precision)\n",
    "print('accuracy', accuracy)"
   ]
  },
  {
   "cell_type": "code",
   "execution_count": 49,
   "id": "ed1bd6e6",
   "metadata": {},
   "outputs": [],
   "source": [
    "results['torch'] = [roc_auc, recall, precision, accuracy]"
   ]
  },
  {
   "cell_type": "markdown",
   "id": "006c5477",
   "metadata": {},
   "source": [
    "<br>"
   ]
  },
  {
   "cell_type": "markdown",
   "id": "51a40271",
   "metadata": {},
   "source": [
    "#### Выводы"
   ]
  },
  {
   "cell_type": "code",
   "execution_count": 50,
   "id": "7e2b7b58",
   "metadata": {
    "scrolled": true
   },
   "outputs": [
    {
     "data": {
      "text/html": [
       "<div>\n",
       "<style scoped>\n",
       "    .dataframe tbody tr th:only-of-type {\n",
       "        vertical-align: middle;\n",
       "    }\n",
       "\n",
       "    .dataframe tbody tr th {\n",
       "        vertical-align: top;\n",
       "    }\n",
       "\n",
       "    .dataframe thead th {\n",
       "        text-align: right;\n",
       "    }\n",
       "</style>\n",
       "<table border=\"1\" class=\"dataframe\">\n",
       "  <thead>\n",
       "    <tr style=\"text-align: right;\">\n",
       "      <th></th>\n",
       "      <th>roc_auc</th>\n",
       "      <th>recall</th>\n",
       "      <th>precision</th>\n",
       "      <th>accuracy</th>\n",
       "    </tr>\n",
       "  </thead>\n",
       "  <tbody>\n",
       "    <tr>\n",
       "      <th>lightgbm</th>\n",
       "      <td>0.787719</td>\n",
       "      <td>0.803783</td>\n",
       "      <td>0.636109</td>\n",
       "      <td>0.669643</td>\n",
       "    </tr>\n",
       "    <tr>\n",
       "      <th>catboost</th>\n",
       "      <td>0.785126</td>\n",
       "      <td>0.785264</td>\n",
       "      <td>0.635929</td>\n",
       "      <td>0.665476</td>\n",
       "    </tr>\n",
       "    <tr>\n",
       "      <th>torch</th>\n",
       "      <td>0.647763</td>\n",
       "      <td>0.000000</td>\n",
       "      <td>0.000000</td>\n",
       "      <td>0.496429</td>\n",
       "    </tr>\n",
       "  </tbody>\n",
       "</table>\n",
       "</div>"
      ],
      "text/plain": [
       "           roc_auc    recall  precision  accuracy\n",
       "lightgbm  0.787719  0.803783   0.636109  0.669643\n",
       "catboost  0.785126  0.785264   0.635929  0.665476\n",
       "torch     0.647763  0.000000   0.000000  0.496429"
      ]
     },
     "execution_count": 50,
     "metadata": {},
     "output_type": "execute_result"
    }
   ],
   "source": [
    "pd.DataFrame(results, index = ['roc_auc', 'recall', 'precision', 'accuracy']).T"
   ]
  },
  {
   "cell_type": "markdown",
   "id": "9fdf0e98",
   "metadata": {},
   "source": [
    "**CatBoost** обладает наилучшей полнотой и также демонстрирует приемлемое качество по ROC AUC, что делает его подходящим для нашей задачи. Torch  в рамках практикума не целесобразен, невозможности сохранения результата."
   ]
  },
  {
   "cell_type": "markdown",
   "id": "2e5ab300",
   "metadata": {},
   "source": [
    "<br>"
   ]
  },
  {
   "cell_type": "markdown",
   "id": "6a67b7ec",
   "metadata": {},
   "source": [
    "#### Проверка лучшей модели в работе."
   ]
  },
  {
   "cell_type": "code",
   "execution_count": 51,
   "id": "9a6acf43",
   "metadata": {},
   "outputs": [
    {
     "data": {
      "image/png": "[encoded data removed]",
      "text/plain": [
       "<Figure size 432x288 with 1 Axes>"
      ]
     },
     "metadata": {
      "needs_background": "light"
     },
     "output_type": "display_data"
    },
    {
     "name": "stdout",
     "output_type": "stream",
     "text": [
      "\n",
      "roc_auc 0.7774176612876983\n",
      "recall 0.7898904802021904\n",
      "precision 0.6335991350182457\n",
      "accuracy 0.6634353741496599\n"
     ]
    }
   ],
   "source": [
    "y_pred = catboost.predict_proba(X_test)[:, 1]\n",
    "roc_auc = roc_auc_score(y_test, y_pred)\n",
    "y_pred = (y_pred >= 0.375).astype(int)\n",
    "\n",
    "recall = recall_score(y_test, y_pred)\n",
    "precision = precision_score(y_test, y_pred)\n",
    "accuracy = accuracy_score(y_test, y_pred)\n",
    "\n",
    "cm = confusion_matrix(y_test, y_pred)\n",
    "\n",
    "sns.heatmap(cm, annot=True, fmt='d', cmap='Blues', cbar=False,\n",
    "            xticklabels=['Отрицательный', 'Положительный'],\n",
    "            yticklabels=['Отрицательный', 'Положительный'])\n",
    "\n",
    "plt.xlabel('Предсказанный класс')\n",
    "plt.ylabel('Истинный класс')\n",
    "plt.title('Матрица ошибок')\n",
    "plt.show()\n",
    "\n",
    "print()\n",
    "print('roc_auc', roc_auc)\n",
    "print('recall', recall)\n",
    "print('precision', precision)\n",
    "print('accuracy', accuracy)"
   ]
  },
  {
   "cell_type": "markdown",
   "id": "885d30e4",
   "metadata": {},
   "source": [
    "**Модель демонстрирует обнадеживающие результаты** с высокой способностью разделять классы и правильно определять аварии с виной водителя. Однако, **есть потенциал для улучшения**, особенно в области точности. Низкая точность может привести к возникновению большего числа ложноположительных результатов, что может быть нежелательным в контексте задачи определения виновности в авариях."
   ]
  },
  {
   "cell_type": "markdown",
   "id": "25c1ad2c",
   "metadata": {},
   "source": [
    "<br>"
   ]
  },
  {
   "cell_type": "markdown",
   "id": "2ea5ccea",
   "metadata": {},
   "source": [
    "## Проведите анализ важности факторов ДТП"
   ]
  },
  {
   "cell_type": "code",
   "execution_count": 52,
   "id": "9d58d11b",
   "metadata": {},
   "outputs": [
    {
     "data": {
      "image/png": "[encoded data removed]",
      "text/plain": [
       "<Figure size 864x432 with 1 Axes>"
      ]
     },
     "metadata": {
      "needs_background": "light"
     },
     "output_type": "display_data"
    }
   ],
   "source": [
    "importance = catboost.get_feature_importance(prettified=True)\n",
    "\n",
    "plt.figure(figsize=(12, 6))\n",
    "sns.barplot(data = importance, y='Feature Id', x='Importances', palette='viridis')\n",
    "\n",
    "# Добавление значений важности на график\n",
    "for i, v in enumerate(importance['Importances'].tolist()):\n",
    "    plt.text(v + 0.005, i, f'{v:.1f}', color='black', fontsize=12)\n",
    "\n",
    "plt.xlabel('Важность признаков')\n",
    "plt.ylabel('Признаки')\n",
    "plt.title('Значимость признаков')\n",
    "plt.show()"
   ]
  },
  {
   "cell_type": "markdown",
   "id": "f8b488bb",
   "metadata": {},
   "source": [
    "<br>"
   ]
  },
  {
   "cell_type": "markdown",
   "id": "8c337dba",
   "metadata": {},
   "source": [
    "**PRIMARY_COLL_FACTOR (Основной фактор аварии):** имеет наибольшую важность среди всех признаков.\n",
    "\n",
    "**PARTY_SOBRIETY (Трезвость участника):** имеет существенную важность. "
   ]
  },
  {
   "cell_type": "markdown",
   "id": "e7435d43",
   "metadata": {},
   "source": [
    "<br>"
   ]
  },
  {
   "cell_type": "code",
   "execution_count": 53,
   "id": "ba5e7599",
   "metadata": {
    "scrolled": false
   },
   "outputs": [
    {
     "data": {
      "image/png": "[encoded data removed]",
      "text/plain": [
       "<Figure size 1080x914.4 with 4 Axes>"
      ]
     },
     "metadata": {
      "needs_background": "light"
     },
     "output_type": "display_data"
    }
   ],
   "source": [
    "grouped = df.groupby(['primary_collision_factor','party_sobriety', 'at_fault'])['cellphone_in_use'].count().to_frame().reset_index()\n",
    "grouped.rename(columns={'cellphone_in_use': 'count'}, inplace=True)\n",
    "\n",
    "fig, axes = plt.subplots(2, 2, figsize=(15, 12.7), sharex=False, sharey=True)\n",
    "\n",
    "# Первый barplot для at_fault=1\n",
    "sns.barplot(data=grouped[grouped['at_fault'] == 0].sort_values('party_sobriety'), x='primary_collision_factor', y='count', hue='party_sobriety', ax=axes[0][0])\n",
    "axes[0][0].set_xlabel('Основной фактор аварии')\n",
    "axes[0][0].set_ylabel('Количество случаев')\n",
    "axes[0][0].set_title('Количество случаев для различных факторов аварии (не виновен)')\n",
    "axes[0][0].legend(title='Трезвость участников', loc='upper left')\n",
    "axes[0][0].tick_params(axis='x', rotation=45)\n",
    "\n",
    "# Второй barplot для at_fault=0\n",
    "sns.barplot(data=grouped[grouped['at_fault'] == 1].sort_values('party_sobriety'), x='primary_collision_factor', y='count', hue='party_sobriety', ax=axes[0][1])\n",
    "axes[0][1].set_xlabel('Основной фактор аварии')\n",
    "axes[0][1].set_ylabel('Количество случаев')\n",
    "axes[0][1].set_title('Количество случаев для различных факторов аварии (виновен)')\n",
    "axes[0][1].legend(title='Трезвость участников', loc='upper left')\n",
    "axes[0][1].tick_params(axis='x', rotation=45)\n",
    "\n",
    "\n",
    "sns.barplot(data=grouped[(grouped['at_fault'] == 0) & (grouped['party_sobriety'] != 'had not been drinking')].sort_values('party_sobriety'),\n",
    "                                         x='primary_collision_factor', y='count', hue='party_sobriety', ax=axes[1][0])\n",
    "axes[1][0].set_xlabel('Основной фактор аварии')\n",
    "axes[1][0].set_ylabel('Количество случаев')\n",
    "axes[1][0].set_title('Без трезвых')\n",
    "axes[1][0].legend(title='Трезвость участников', loc='upper left')\n",
    "axes[1][0].tick_params(axis='x', rotation=45)\n",
    "\n",
    "# Второй barplot для at_fault=0\n",
    "sns.barplot(data=grouped[(grouped['at_fault'] == 1) & (grouped['party_sobriety'] != 'had not been drinking')].sort_values('party_sobriety'), \n",
    "                                         x='primary_collision_factor', y='count', hue='party_sobriety', ax=axes[1][1])\n",
    "axes[1][1].set_xlabel('Основной фактор аварии')\n",
    "axes[1][1].set_ylabel('Количество случаев')\n",
    "axes[1][1].set_title('Без трезвых')\n",
    "axes[1][1].legend(title='Трезвость участников', loc='upper left')\n",
    "axes[1][1].tick_params(axis='x', rotation=45)\n",
    "\n",
    "plt.subplots_adjust(hspace=0.7)\n",
    "plt.show()"
   ]
  },
  {
   "cell_type": "markdown",
   "id": "b564d24b",
   "metadata": {},
   "source": [
    "**Вывод**: При анализе двух факторов: \"primary_collision_factor\" и \"party_sobriety\", можно определить виновных и невиновных участников аварий. Наблюдается, что наибольшее количество невиновных (больше на 20% по сравнению с числом виновных) - это не пьяные водители, попавшие в аварию из-за \"Нарушения правил ПДД\". С другой стороны, другие категории трезвости водителей чаще всего являются виновными, и только малая часть из них оказывается невиновной."
   ]
  },
  {
   "cell_type": "markdown",
   "id": "398dcecf",
   "metadata": {},
   "source": [
    "**Предложения**:\n",
    "1. **Оборудовать автомобиль анализатором алкогольного опьянения**. Для повышения безопасности на дорогах следует рассмотреть возможность обязательного наличия анализаторов алкогольного опьянения в автомобилях. При сажании за руль такого транспортного средства, проведение теста на алкогольное опьянение должно стать необходимым требованием. Для обеспечения аутентичности теста, можно добавить камеру, направленную на водительское место, которая фиксирует, что тест совершается самим водителем.\n",
    "2. **Интегрировать в приложения каршеринга тест за знание правил ПДД**. Для повышения безопасности и снижения аварийности среди пользователей каршеринговых услуг, рекомендуется внедрить систему, требующую успешного прохождения теста на знание правил ПДД. Прохождение такого теста должно стать обязательным условием для допуска пользователя к управлению автомобилем. Для подтверждения, что тест проходит именно зарегистрированный владелец аккаунта, в настоящее время может быть непросто. Офлайн тест с документом - один из способов решения этой проблемы, но, конечно, это может снизить приток пользователей в сервис. Несмотря на это, такой подход значительно увеличит безопасность на дорогах."
   ]
  },
  {
   "cell_type": "markdown",
   "id": "2456681a",
   "metadata": {},
   "source": [
    "## Выводы"
   ]
  },
  {
   "cell_type": "markdown",
   "id": "e10b4826",
   "metadata": {},
   "source": [
    "**Модель CatBoost** продемонстрировала удовлетворительные результаты с отличной способностью разделять классы и точно определять виновных в авариях. Однако, **всегда есть возможность для дальнейшего совершенствования**. Основной аспект, на который стоит обратить внимание, это дополнительное **повышение точности модели**. "
   ]
  },
  {
   "cell_type": "markdown",
   "id": "e8e2c310",
   "metadata": {},
   "source": [
    "Я уверен, что с**оздание адекватной системы оценки риска при выдаче автомобилей возможно**, однако существуют определенные **трудности**, которые необходимо преодолеть. Одной из главных сложностей является **точное определение состояния водителя**, включая его алкогольное и другое влияние. Это **действительно возможно, но требует огромных усилий** и использования передовых технологий. Кроме того, важно уделить внимание **соблюдению законодательства и нормативов в области защиты персональных данных и приватности водителей**. Это касается как хранения и обработки личной информации, так и использования камер и датчиков для сбора данных о водителях."
   ]
  },
  {
   "cell_type": "markdown",
   "id": "610cbc67",
   "metadata": {},
   "source": [
    "**Для совершенствования модели, необходимо добавить данные о реальном водительском опыте, истории нарушений правил дорожного движения и количестве аварий**. Однако, при сборе такой информации возникают определенные **сложности** и ограничения, которые могут затруднить процесс и сделать его менее точным. Например **водительский стаж, указанный в водительских правах, не всегда является абсолютно точным определением стажа вождения**. "
   ]
  }
 ],
 "metadata": {
  "ExecuteTimeLog": [
   {
    "duration": 12,
    "start_time": "2023-07-30T06:04:46.301Z"
   },
   {
    "duration": 918,
    "start_time": "2023-07-30T06:04:49.915Z"
   },
   {
    "duration": 1351,
    "start_time": "2023-07-30T06:04:58.281Z"
   },
   {
    "duration": 15719,
    "start_time": "2023-07-30T06:05:06.431Z"
   },
   {
    "duration": 3,
    "start_time": "2023-07-30T06:05:56.353Z"
   },
   {
    "duration": 395,
    "start_time": "2023-07-30T06:06:08.091Z"
   },
   {
    "duration": 153,
    "start_time": "2023-07-30T06:06:13.361Z"
   },
   {
    "duration": 9804,
    "start_time": "2023-07-30T06:06:31.725Z"
   },
   {
    "duration": 2423,
    "start_time": "2023-07-30T06:07:27.451Z"
   },
   {
    "duration": 3044,
    "start_time": "2023-07-30T06:07:51.391Z"
   },
   {
    "duration": 46,
    "start_time": "2023-07-30T06:08:20.345Z"
   },
   {
    "duration": 7,
    "start_time": "2023-07-30T06:08:25.577Z"
   },
   {
    "duration": 1899,
    "start_time": "2023-07-30T06:08:28.975Z"
   },
   {
    "duration": 4,
    "start_time": "2023-07-30T06:08:30.876Z"
   },
   {
    "duration": 9173,
    "start_time": "2023-07-30T06:08:30.882Z"
   },
   {
    "duration": 3369,
    "start_time": "2023-07-30T06:08:40.058Z"
   },
   {
    "duration": 12481,
    "start_time": "2023-07-30T06:08:45.776Z"
   },
   {
    "duration": 10409,
    "start_time": "2023-07-30T06:09:03.266Z"
   },
   {
    "duration": 2872,
    "start_time": "2023-07-30T06:09:25.358Z"
   },
   {
    "duration": 372,
    "start_time": "2023-07-30T06:20:08.485Z"
   },
   {
    "duration": 316,
    "start_time": "2023-07-30T06:20:15.031Z"
   },
   {
    "duration": 317,
    "start_time": "2023-07-30T06:20:23.261Z"
   },
   {
    "duration": 321,
    "start_time": "2023-07-30T06:21:17.741Z"
   },
   {
    "duration": 332,
    "start_time": "2023-07-30T06:21:30.711Z"
   },
   {
    "duration": 407,
    "start_time": "2023-07-30T06:21:41.946Z"
   },
   {
    "duration": 76,
    "start_time": "2023-07-30T06:21:46.290Z"
   },
   {
    "duration": 96,
    "start_time": "2023-07-30T06:21:47.808Z"
   },
   {
    "duration": 314,
    "start_time": "2023-07-30T06:21:49.011Z"
   },
   {
    "duration": 89,
    "start_time": "2023-07-30T06:21:50.512Z"
   },
   {
    "duration": 22,
    "start_time": "2023-07-30T06:21:57.694Z"
   },
   {
    "duration": 9,
    "start_time": "2023-07-30T06:22:11.175Z"
   },
   {
    "duration": 322,
    "start_time": "2023-07-30T06:22:17.859Z"
   },
   {
    "duration": 311,
    "start_time": "2023-07-30T06:22:20.841Z"
   },
   {
    "duration": 9,
    "start_time": "2023-07-30T06:22:21.686Z"
   },
   {
    "duration": 314,
    "start_time": "2023-07-30T06:22:32.951Z"
   },
   {
    "duration": 316,
    "start_time": "2023-07-30T06:22:38.786Z"
   },
   {
    "duration": 96,
    "start_time": "2023-07-30T06:22:47.976Z"
   },
   {
    "duration": 309,
    "start_time": "2023-07-30T06:23:00.662Z"
   },
   {
    "duration": 13,
    "start_time": "2023-07-30T06:23:10.641Z"
   },
   {
    "duration": 9,
    "start_time": "2023-07-30T06:23:18.407Z"
   },
   {
    "duration": 16,
    "start_time": "2023-07-30T06:23:29.534Z"
   },
   {
    "duration": 11,
    "start_time": "2023-07-30T06:23:38.241Z"
   },
   {
    "duration": 5,
    "start_time": "2023-07-30T06:23:40.167Z"
   },
   {
    "duration": 9,
    "start_time": "2023-07-30T06:23:45.189Z"
   },
   {
    "duration": 19,
    "start_time": "2023-07-30T06:24:04.520Z"
   },
   {
    "duration": 128,
    "start_time": "2023-07-30T06:24:13.733Z"
   },
   {
    "duration": 130,
    "start_time": "2023-07-30T06:24:38.510Z"
   },
   {
    "duration": 160,
    "start_time": "2023-07-30T06:24:54.594Z"
   },
   {
    "duration": 114,
    "start_time": "2023-07-30T06:24:58.542Z"
   },
   {
    "duration": 116,
    "start_time": "2023-07-30T06:25:09.568Z"
   },
   {
    "duration": 155,
    "start_time": "2023-07-30T06:25:12.167Z"
   },
   {
    "duration": 124,
    "start_time": "2023-07-30T06:26:06.421Z"
   },
   {
    "duration": 149,
    "start_time": "2023-07-30T06:26:08.876Z"
   },
   {
    "duration": 232,
    "start_time": "2023-07-30T06:26:12.413Z"
   },
   {
    "duration": 681,
    "start_time": "2023-07-30T06:26:27.785Z"
   },
   {
    "duration": 164,
    "start_time": "2023-07-30T06:26:45.483Z"
   },
   {
    "duration": 118,
    "start_time": "2023-07-30T06:26:47.805Z"
   },
   {
    "duration": 124,
    "start_time": "2023-07-30T06:26:54.889Z"
   },
   {
    "duration": 656,
    "start_time": "2023-07-30T06:27:03.609Z"
   },
   {
    "duration": 740,
    "start_time": "2023-07-30T06:27:12.006Z"
   },
   {
    "duration": 805,
    "start_time": "2023-07-30T06:27:19.435Z"
   },
   {
    "duration": 726,
    "start_time": "2023-07-30T06:27:32.055Z"
   },
   {
    "duration": 880,
    "start_time": "2023-07-30T06:29:03.155Z"
   },
   {
    "duration": 152,
    "start_time": "2023-07-30T06:29:56.212Z"
   },
   {
    "duration": 446,
    "start_time": "2023-07-30T06:29:58.220Z"
   },
   {
    "duration": 465,
    "start_time": "2023-07-30T06:30:01.402Z"
   },
   {
    "duration": 1310,
    "start_time": "2023-07-30T06:30:01.870Z"
   },
   {
    "duration": 16,
    "start_time": "2023-07-30T06:30:10.785Z"
   },
   {
    "duration": 160,
    "start_time": "2023-07-30T06:30:32.011Z"
   },
   {
    "duration": 20,
    "start_time": "2023-07-30T06:30:33.495Z"
   },
   {
    "duration": 377,
    "start_time": "2023-07-30T06:30:40.250Z"
   },
   {
    "duration": 13,
    "start_time": "2023-07-30T06:30:42.167Z"
   },
   {
    "duration": 5,
    "start_time": "2023-07-30T06:31:10.920Z"
   },
   {
    "duration": 5,
    "start_time": "2023-07-30T06:31:27.719Z"
   },
   {
    "duration": 6,
    "start_time": "2023-07-30T06:31:43.021Z"
   },
   {
    "duration": 10,
    "start_time": "2023-07-30T06:31:48.402Z"
   },
   {
    "duration": 8,
    "start_time": "2023-07-30T06:31:54.436Z"
   },
   {
    "duration": 186,
    "start_time": "2023-07-30T06:31:58.145Z"
   },
   {
    "duration": 14,
    "start_time": "2023-07-30T06:32:04.662Z"
   },
   {
    "duration": 17,
    "start_time": "2023-07-30T06:32:14.536Z"
   },
   {
    "duration": 207,
    "start_time": "2023-07-30T06:32:17.920Z"
   },
   {
    "duration": 5466,
    "start_time": "2023-07-30T06:32:36.643Z"
   },
   {
    "duration": 13,
    "start_time": "2023-07-30T06:32:57.810Z"
   },
   {
    "duration": 94,
    "start_time": "2023-07-30T06:33:16.594Z"
   },
   {
    "duration": 206,
    "start_time": "2023-07-30T06:33:21.985Z"
   },
   {
    "duration": 20,
    "start_time": "2023-07-30T06:35:22.568Z"
   },
   {
    "duration": 213,
    "start_time": "2023-07-30T06:35:38.041Z"
   },
   {
    "duration": 14,
    "start_time": "2023-07-30T06:35:38.882Z"
   },
   {
    "duration": 319,
    "start_time": "2023-07-30T06:35:46.890Z"
   },
   {
    "duration": 23,
    "start_time": "2023-07-30T06:35:48.491Z"
   },
   {
    "duration": 148,
    "start_time": "2023-07-30T06:36:06.845Z"
   },
   {
    "duration": 11,
    "start_time": "2023-07-30T06:37:21.151Z"
   },
   {
    "duration": 12,
    "start_time": "2023-07-30T06:37:26.744Z"
   },
   {
    "duration": 12,
    "start_time": "2023-07-30T06:37:31.554Z"
   },
   {
    "duration": 15,
    "start_time": "2023-07-30T06:37:42.791Z"
   },
   {
    "duration": 18,
    "start_time": "2023-07-30T06:37:48.107Z"
   },
   {
    "duration": 310,
    "start_time": "2023-07-30T06:37:59.399Z"
   },
   {
    "duration": 14,
    "start_time": "2023-07-30T06:37:59.756Z"
   },
   {
    "duration": 16,
    "start_time": "2023-07-30T06:38:09.050Z"
   },
   {
    "duration": 22,
    "start_time": "2023-07-30T06:38:16.597Z"
   },
   {
    "duration": 312,
    "start_time": "2023-07-30T06:41:26.977Z"
   },
   {
    "duration": 467,
    "start_time": "2023-07-30T06:41:33.341Z"
   },
   {
    "duration": 476,
    "start_time": "2023-07-30T06:41:49.601Z"
   },
   {
    "duration": 535,
    "start_time": "2023-07-30T06:43:42.324Z"
   },
   {
    "duration": 496,
    "start_time": "2023-07-30T06:43:48.766Z"
   },
   {
    "duration": 493,
    "start_time": "2023-07-30T06:43:56.507Z"
   },
   {
    "duration": 212,
    "start_time": "2023-07-30T06:47:53.069Z"
   },
   {
    "duration": 504,
    "start_time": "2023-07-30T06:47:54.637Z"
   },
   {
    "duration": 282,
    "start_time": "2023-07-30T06:48:02.345Z"
   },
   {
    "duration": 290,
    "start_time": "2023-07-30T06:48:04.842Z"
   },
   {
    "duration": 334,
    "start_time": "2023-07-30T06:48:10.813Z"
   },
   {
    "duration": 376,
    "start_time": "2023-07-30T06:48:12.011Z"
   },
   {
    "duration": 299,
    "start_time": "2023-07-30T06:48:57.824Z"
   },
   {
    "duration": 24,
    "start_time": "2023-07-30T06:49:03.157Z"
   },
   {
    "duration": 192,
    "start_time": "2023-07-30T06:49:09.817Z"
   },
   {
    "duration": 13,
    "start_time": "2023-07-30T06:52:08.979Z"
   },
   {
    "duration": 23,
    "start_time": "2023-07-30T06:52:10.692Z"
   },
   {
    "duration": 617,
    "start_time": "2023-07-30T06:52:12.584Z"
   },
   {
    "duration": 402,
    "start_time": "2023-07-30T06:52:13.204Z"
   },
   {
    "duration": 200,
    "start_time": "2023-07-30T06:52:13.608Z"
   },
   {
    "duration": 660,
    "start_time": "2023-07-30T06:53:47.538Z"
   },
   {
    "duration": 351,
    "start_time": "2023-07-30T06:53:49.838Z"
   },
   {
    "duration": 460,
    "start_time": "2023-07-30T06:53:57.218Z"
   },
   {
    "duration": 140,
    "start_time": "2023-07-30T07:03:58.423Z"
   },
   {
    "duration": 3418,
    "start_time": "2023-07-30T07:06:28.047Z"
   },
   {
    "duration": 44,
    "start_time": "2023-07-30T07:07:10.519Z"
   },
   {
    "duration": 1750,
    "start_time": "2023-07-30T07:07:21.213Z"
   },
   {
    "duration": 3,
    "start_time": "2023-07-30T07:07:22.964Z"
   },
   {
    "duration": 10274,
    "start_time": "2023-07-30T07:07:22.968Z"
   },
   {
    "duration": 226,
    "start_time": "2023-07-30T07:07:33.244Z"
   },
   {
    "duration": 52,
    "start_time": "2023-07-30T07:07:33.471Z"
   },
   {
    "duration": 45,
    "start_time": "2023-07-30T07:07:33.524Z"
   },
   {
    "duration": 42,
    "start_time": "2023-07-30T07:07:33.570Z"
   },
   {
    "duration": 318,
    "start_time": "2023-07-30T07:07:33.614Z"
   },
   {
    "duration": 487,
    "start_time": "2023-07-30T07:07:33.934Z"
   },
   {
    "duration": 637,
    "start_time": "2023-07-30T07:07:34.423Z"
   },
   {
    "duration": 334,
    "start_time": "2023-07-30T07:07:35.061Z"
   },
   {
    "duration": 456,
    "start_time": "2023-07-30T07:07:35.399Z"
   },
   {
    "duration": 3,
    "start_time": "2023-07-30T07:07:35.856Z"
   },
   {
    "duration": 78,
    "start_time": "2023-07-30T07:38:17.825Z"
   },
   {
    "duration": 316,
    "start_time": "2023-07-30T13:19:27.050Z"
   },
   {
    "duration": 275,
    "start_time": "2023-07-30T13:20:14.962Z"
   },
   {
    "duration": 125,
    "start_time": "2023-07-30T13:20:29.546Z"
   },
   {
    "duration": 5,
    "start_time": "2023-07-30T13:20:31.451Z"
   },
   {
    "duration": 143,
    "start_time": "2023-07-30T13:20:39.500Z"
   },
   {
    "duration": 5,
    "start_time": "2023-07-30T13:20:40.700Z"
   },
   {
    "duration": 4293,
    "start_time": "2023-07-30T13:21:46.286Z"
   },
   {
    "duration": 5,
    "start_time": "2023-07-30T13:21:51.376Z"
   },
   {
    "duration": 4076,
    "start_time": "2023-07-30T13:21:56.371Z"
   },
   {
    "duration": 6,
    "start_time": "2023-07-30T13:22:00.448Z"
   },
   {
    "duration": 4050,
    "start_time": "2023-07-30T13:22:03.142Z"
   },
   {
    "duration": 6,
    "start_time": "2023-07-30T13:22:08.386Z"
   },
   {
    "duration": 5965,
    "start_time": "2023-07-30T13:23:54.602Z"
   },
   {
    "duration": 7,
    "start_time": "2023-07-30T13:24:00.569Z"
   },
   {
    "duration": 6282,
    "start_time": "2023-07-30T13:24:36.051Z"
   },
   {
    "duration": 8,
    "start_time": "2023-07-30T13:24:58.663Z"
   },
   {
    "duration": 137,
    "start_time": "2023-07-30T13:30:39.199Z"
   },
   {
    "duration": 152,
    "start_time": "2023-07-30T13:30:59.408Z"
   },
   {
    "duration": 8136,
    "start_time": "2023-07-30T13:31:07.088Z"
   },
   {
    "duration": 9,
    "start_time": "2023-07-30T13:31:15.226Z"
   },
   {
    "duration": 138,
    "start_time": "2023-07-30T13:31:22.652Z"
   },
   {
    "duration": 209,
    "start_time": "2023-07-30T13:31:30.277Z"
   },
   {
    "duration": 161,
    "start_time": "2023-07-30T13:31:33.772Z"
   },
   {
    "duration": 9127,
    "start_time": "2023-07-30T13:31:42.805Z"
   },
   {
    "duration": 11,
    "start_time": "2023-07-30T13:31:51.934Z"
   },
   {
    "duration": 8716,
    "start_time": "2023-07-30T13:32:12.489Z"
   },
   {
    "duration": 11,
    "start_time": "2023-07-30T13:33:07.799Z"
   },
   {
    "duration": 13103,
    "start_time": "2023-07-30T13:33:24.057Z"
   },
   {
    "duration": 12,
    "start_time": "2023-07-30T13:33:37.161Z"
   },
   {
    "duration": 9989,
    "start_time": "2023-07-30T13:33:57.510Z"
   },
   {
    "duration": 11,
    "start_time": "2023-07-30T13:34:26.161Z"
   },
   {
    "duration": 8124,
    "start_time": "2023-07-30T13:34:47.565Z"
   },
   {
    "duration": 9,
    "start_time": "2023-07-30T13:34:55.691Z"
   },
   {
    "duration": 15092,
    "start_time": "2023-07-30T13:38:20.890Z"
   },
   {
    "duration": 11,
    "start_time": "2023-07-30T13:38:35.984Z"
   },
   {
    "duration": 360,
    "start_time": "2023-07-30T13:40:09.111Z"
   },
   {
    "duration": 304,
    "start_time": "2023-07-30T13:40:27.795Z"
   },
   {
    "duration": 269,
    "start_time": "2023-07-30T13:41:08.803Z"
   },
   {
    "duration": 288,
    "start_time": "2023-07-30T13:41:11.100Z"
   },
   {
    "duration": 293,
    "start_time": "2023-07-30T13:41:15.606Z"
   },
   {
    "duration": 277,
    "start_time": "2023-07-30T13:41:19.465Z"
   },
   {
    "duration": 353,
    "start_time": "2023-07-30T13:41:22.879Z"
   },
   {
    "duration": 80,
    "start_time": "2023-07-30T13:41:28.911Z"
   },
   {
    "duration": 268,
    "start_time": "2023-07-30T13:41:33.865Z"
   },
   {
    "duration": 268,
    "start_time": "2023-07-30T13:41:37.503Z"
   },
   {
    "duration": 275,
    "start_time": "2023-07-30T13:41:39.904Z"
   },
   {
    "duration": 295,
    "start_time": "2023-07-30T13:41:43.354Z"
   },
   {
    "duration": 291,
    "start_time": "2023-07-30T13:41:59.185Z"
   },
   {
    "duration": 292,
    "start_time": "2023-07-30T13:43:06.578Z"
   },
   {
    "duration": 8442,
    "start_time": "2023-07-30T13:43:27.677Z"
   },
   {
    "duration": 8357,
    "start_time": "2023-07-30T13:44:00.982Z"
   },
   {
    "duration": 9,
    "start_time": "2023-07-30T13:58:32.951Z"
   },
   {
    "duration": 98,
    "start_time": "2023-07-30T13:58:47.491Z"
   },
   {
    "duration": 286,
    "start_time": "2023-07-30T14:05:04.510Z"
   },
   {
    "duration": 227,
    "start_time": "2023-07-30T14:13:02.893Z"
   },
   {
    "duration": 18336,
    "start_time": "2023-07-30T14:13:09.091Z"
   },
   {
    "duration": 15,
    "start_time": "2023-07-30T14:13:27.429Z"
   },
   {
    "duration": 0,
    "start_time": "2023-07-30T14:13:27.445Z"
   },
   {
    "duration": 9,
    "start_time": "2023-07-30T14:13:29.963Z"
   },
   {
    "duration": 8,
    "start_time": "2023-07-30T14:13:48.075Z"
   },
   {
    "duration": 277,
    "start_time": "2023-07-30T14:13:57.005Z"
   },
   {
    "duration": 7,
    "start_time": "2023-07-30T14:14:27.314Z"
   },
   {
    "duration": 1879,
    "start_time": "2023-07-31T03:18:37.216Z"
   },
   {
    "duration": 3,
    "start_time": "2023-07-31T03:18:39.097Z"
   },
   {
    "duration": 9690,
    "start_time": "2023-07-31T03:18:39.102Z"
   },
   {
    "duration": 242,
    "start_time": "2023-07-31T03:18:48.794Z"
   },
   {
    "duration": 54,
    "start_time": "2023-07-31T03:18:49.038Z"
   },
   {
    "duration": 46,
    "start_time": "2023-07-31T03:18:49.094Z"
   },
   {
    "duration": 44,
    "start_time": "2023-07-31T03:18:49.141Z"
   },
   {
    "duration": 365,
    "start_time": "2023-07-31T03:18:49.187Z"
   },
   {
    "duration": 554,
    "start_time": "2023-07-31T03:18:49.553Z"
   },
   {
    "duration": 648,
    "start_time": "2023-07-31T03:18:50.109Z"
   },
   {
    "duration": 361,
    "start_time": "2023-07-31T03:18:50.758Z"
   },
   {
    "duration": 493,
    "start_time": "2023-07-31T03:18:51.121Z"
   },
   {
    "duration": 3,
    "start_time": "2023-07-31T03:18:51.615Z"
   },
   {
    "duration": 271,
    "start_time": "2023-07-31T03:23:08.889Z"
   },
   {
    "duration": 141,
    "start_time": "2023-07-31T03:23:43.409Z"
   },
   {
    "duration": 137,
    "start_time": "2023-07-31T03:24:36.654Z"
   },
   {
    "duration": 10193,
    "start_time": "2023-07-31T03:25:43.796Z"
   },
   {
    "duration": 22,
    "start_time": "2023-07-31T03:25:56.634Z"
   },
   {
    "duration": 16,
    "start_time": "2023-07-31T03:26:07.935Z"
   },
   {
    "duration": 10,
    "start_time": "2023-07-31T03:26:10.764Z"
   },
   {
    "duration": 257,
    "start_time": "2023-07-31T03:26:15.514Z"
   },
   {
    "duration": 1070,
    "start_time": "2023-07-31T03:28:01.534Z"
   },
   {
    "duration": 36,
    "start_time": "2023-07-31T03:28:02.606Z"
   },
   {
    "duration": 22,
    "start_time": "2023-07-31T03:28:06.784Z"
   },
   {
    "duration": 5,
    "start_time": "2023-07-31T03:28:13.984Z"
   },
   {
    "duration": 24,
    "start_time": "2023-07-31T03:28:33.958Z"
   },
   {
    "duration": 23,
    "start_time": "2023-07-31T03:31:08.755Z"
   },
   {
    "duration": 11161,
    "start_time": "2023-07-31T03:33:31.613Z"
   },
   {
    "duration": 510,
    "start_time": "2023-07-31T03:33:42.776Z"
   },
   {
    "duration": 11,
    "start_time": "2023-07-31T03:33:52.624Z"
   },
   {
    "duration": 68,
    "start_time": "2023-07-31T03:33:58.193Z"
   },
   {
    "duration": 11037,
    "start_time": "2023-07-31T03:37:05.644Z"
   },
   {
    "duration": 542,
    "start_time": "2023-07-31T03:37:16.683Z"
   },
   {
    "duration": 626,
    "start_time": "2023-07-31T03:37:43.594Z"
   },
   {
    "duration": 550,
    "start_time": "2023-07-31T03:37:55.284Z"
   },
   {
    "duration": 4,
    "start_time": "2023-07-31T03:39:25.745Z"
   },
   {
    "duration": 12,
    "start_time": "2023-07-31T03:39:37.413Z"
   },
   {
    "duration": 4,
    "start_time": "2023-07-31T03:39:40.868Z"
   },
   {
    "duration": 3,
    "start_time": "2023-07-31T04:30:32.653Z"
   },
   {
    "duration": 66,
    "start_time": "2023-07-31T04:30:45.159Z"
   },
   {
    "duration": 95,
    "start_time": "2023-07-31T04:30:50.814Z"
   },
   {
    "duration": 98,
    "start_time": "2023-07-31T04:30:53.237Z"
   },
   {
    "duration": 232,
    "start_time": "2023-07-31T04:31:31.832Z"
   },
   {
    "duration": 232,
    "start_time": "2023-07-31T04:31:37.101Z"
   },
   {
    "duration": 234,
    "start_time": "2023-07-31T04:32:18.842Z"
   },
   {
    "duration": 81,
    "start_time": "2023-07-31T04:40:19.659Z"
   },
   {
    "duration": 9030,
    "start_time": "2023-07-31T04:40:21.872Z"
   },
   {
    "duration": 71,
    "start_time": "2023-07-31T04:40:30.904Z"
   },
   {
    "duration": 245,
    "start_time": "2023-07-31T04:40:30.977Z"
   },
   {
    "duration": 353,
    "start_time": "2023-07-31T04:42:25.135Z"
   },
   {
    "duration": 24,
    "start_time": "2023-07-31T04:42:28.932Z"
   },
   {
    "duration": 226,
    "start_time": "2023-07-31T04:42:38.747Z"
   },
   {
    "duration": 405,
    "start_time": "2023-07-31T04:43:43.050Z"
   },
   {
    "duration": 242,
    "start_time": "2023-07-31T04:43:46.472Z"
   },
   {
    "duration": 22,
    "start_time": "2023-07-31T04:44:50.059Z"
   },
   {
    "duration": 10,
    "start_time": "2023-07-31T04:45:05.602Z"
   },
   {
    "duration": 43,
    "start_time": "2023-07-31T04:45:08.242Z"
   },
   {
    "duration": 55,
    "start_time": "2023-07-31T04:45:21.687Z"
   },
   {
    "duration": 18,
    "start_time": "2023-07-31T04:45:32.580Z"
   },
   {
    "duration": 48,
    "start_time": "2023-07-31T04:45:41.472Z"
   },
   {
    "duration": 58,
    "start_time": "2023-07-31T04:45:46.674Z"
   },
   {
    "duration": 53,
    "start_time": "2023-07-31T04:45:54.231Z"
   },
   {
    "duration": 10599,
    "start_time": "2023-07-31T04:46:49.995Z"
   },
   {
    "duration": 77,
    "start_time": "2023-07-31T04:47:00.599Z"
   },
   {
    "duration": 245,
    "start_time": "2023-07-31T04:47:00.677Z"
   },
   {
    "duration": 11907,
    "start_time": "2023-07-31T04:53:01.962Z"
   },
   {
    "duration": 86,
    "start_time": "2023-07-31T04:53:13.871Z"
   },
   {
    "duration": 247,
    "start_time": "2023-07-31T04:53:13.959Z"
   },
   {
    "duration": 490,
    "start_time": "2023-07-31T04:53:14.208Z"
   },
   {
    "duration": 21,
    "start_time": "2023-07-31T04:53:14.699Z"
   },
   {
    "duration": 392,
    "start_time": "2023-07-31T04:53:40.537Z"
   },
   {
    "duration": 416,
    "start_time": "2023-07-31T04:53:44.800Z"
   },
   {
    "duration": 501,
    "start_time": "2023-07-31T04:54:08.662Z"
   },
   {
    "duration": 229,
    "start_time": "2023-07-31T04:54:26.263Z"
   },
   {
    "duration": 170,
    "start_time": "2023-07-31T04:55:33.550Z"
   },
   {
    "duration": 1820,
    "start_time": "2023-07-31T04:56:23.615Z"
   },
   {
    "duration": 4,
    "start_time": "2023-07-31T04:56:25.437Z"
   },
   {
    "duration": 11391,
    "start_time": "2023-07-31T04:56:25.443Z"
   },
   {
    "duration": 246,
    "start_time": "2023-07-31T04:56:36.835Z"
   },
   {
    "duration": 53,
    "start_time": "2023-07-31T04:56:37.083Z"
   },
   {
    "duration": 46,
    "start_time": "2023-07-31T04:56:37.137Z"
   },
   {
    "duration": 44,
    "start_time": "2023-07-31T04:56:37.185Z"
   },
   {
    "duration": 323,
    "start_time": "2023-07-31T04:56:37.230Z"
   },
   {
    "duration": 518,
    "start_time": "2023-07-31T04:56:37.554Z"
   },
   {
    "duration": 641,
    "start_time": "2023-07-31T04:56:38.074Z"
   },
   {
    "duration": 334,
    "start_time": "2023-07-31T04:56:38.716Z"
   },
   {
    "duration": 447,
    "start_time": "2023-07-31T04:56:39.052Z"
   },
   {
    "duration": 3,
    "start_time": "2023-07-31T04:56:39.501Z"
   },
   {
    "duration": 9359,
    "start_time": "2023-07-31T04:56:39.506Z"
   },
   {
    "duration": 73,
    "start_time": "2023-07-31T04:56:48.866Z"
   },
   {
    "duration": 238,
    "start_time": "2023-07-31T04:56:48.941Z"
   },
   {
    "duration": 482,
    "start_time": "2023-07-31T04:56:49.180Z"
   },
   {
    "duration": 110246,
    "start_time": "2023-07-31T04:56:49.664Z"
   },
   {
    "duration": 392,
    "start_time": "2023-07-31T04:59:00.737Z"
   },
   {
    "duration": 134769,
    "start_time": "2023-07-31T04:59:12.114Z"
   },
   {
    "duration": 871,
    "start_time": "2023-07-31T05:01:41.157Z"
   },
   {
    "duration": 132,
    "start_time": "2023-07-31T05:02:00.396Z"
   },
   {
    "duration": 2009,
    "start_time": "2023-07-31T05:02:56.720Z"
   },
   {
    "duration": 3,
    "start_time": "2023-07-31T05:02:58.731Z"
   },
   {
    "duration": 24314,
    "start_time": "2023-07-31T05:02:58.735Z"
   },
   {
    "duration": 242,
    "start_time": "2023-07-31T05:03:23.050Z"
   },
   {
    "duration": 53,
    "start_time": "2023-07-31T05:03:23.294Z"
   },
   {
    "duration": 46,
    "start_time": "2023-07-31T05:03:23.349Z"
   },
   {
    "duration": 44,
    "start_time": "2023-07-31T05:03:23.396Z"
   },
   {
    "duration": 323,
    "start_time": "2023-07-31T05:03:23.441Z"
   },
   {
    "duration": 504,
    "start_time": "2023-07-31T05:03:23.766Z"
   },
   {
    "duration": 643,
    "start_time": "2023-07-31T05:03:24.271Z"
   },
   {
    "duration": 331,
    "start_time": "2023-07-31T05:03:24.915Z"
   },
   {
    "duration": 464,
    "start_time": "2023-07-31T05:03:25.248Z"
   },
   {
    "duration": 2,
    "start_time": "2023-07-31T05:03:25.713Z"
   },
   {
    "duration": 9381,
    "start_time": "2023-07-31T05:03:25.717Z"
   },
   {
    "duration": 67,
    "start_time": "2023-07-31T05:03:35.099Z"
   },
   {
    "duration": 239,
    "start_time": "2023-07-31T05:03:35.167Z"
   },
   {
    "duration": 476,
    "start_time": "2023-07-31T05:03:35.408Z"
   },
   {
    "duration": 841,
    "start_time": "2023-07-31T05:03:35.885Z"
   },
   {
    "duration": 94,
    "start_time": "2023-07-31T05:03:58.850Z"
   },
   {
    "duration": 893,
    "start_time": "2023-07-31T05:04:14.516Z"
   },
   {
    "duration": 6,
    "start_time": "2023-07-31T05:07:08.636Z"
   },
   {
    "duration": 6,
    "start_time": "2023-07-31T05:07:13.493Z"
   },
   {
    "duration": 212,
    "start_time": "2023-07-31T05:07:27.472Z"
   },
   {
    "duration": 3,
    "start_time": "2023-07-31T05:26:12.988Z"
   },
   {
    "duration": 3931,
    "start_time": "2023-07-31T05:28:37.619Z"
   },
   {
    "duration": 2667,
    "start_time": "2023-07-31T05:28:43.553Z"
   },
   {
    "duration": 2455,
    "start_time": "2023-07-31T05:28:48.543Z"
   },
   {
    "duration": 19,
    "start_time": "2023-07-31T05:28:52.240Z"
   },
   {
    "duration": 200,
    "start_time": "2023-07-31T05:29:01.640Z"
   },
   {
    "duration": 8,
    "start_time": "2023-07-31T05:31:03.447Z"
   },
   {
    "duration": 8958,
    "start_time": "2023-07-31T05:31:08.247Z"
   },
   {
    "duration": 0,
    "start_time": "2023-07-31T05:31:17.207Z"
   },
   {
    "duration": 147,
    "start_time": "2023-07-31T05:31:53.439Z"
   },
   {
    "duration": 17,
    "start_time": "2023-07-31T05:32:58.286Z"
   },
   {
    "duration": 18,
    "start_time": "2023-07-31T05:36:41.286Z"
   },
   {
    "duration": 38,
    "start_time": "2023-07-31T05:38:04.439Z"
   },
   {
    "duration": 34,
    "start_time": "2023-07-31T05:38:41.340Z"
   },
   {
    "duration": 24,
    "start_time": "2023-07-31T05:39:07.993Z"
   },
   {
    "duration": 18,
    "start_time": "2023-07-31T05:39:14.552Z"
   },
   {
    "duration": 32,
    "start_time": "2023-07-31T05:39:39.806Z"
   },
   {
    "duration": 5,
    "start_time": "2023-07-31T05:39:56.347Z"
   },
   {
    "duration": 5,
    "start_time": "2023-07-31T05:40:01.198Z"
   },
   {
    "duration": 34,
    "start_time": "2023-07-31T05:40:24.147Z"
   },
   {
    "duration": 50,
    "start_time": "2023-07-31T05:40:28.813Z"
   },
   {
    "duration": 964,
    "start_time": "2023-07-31T05:41:22.181Z"
   },
   {
    "duration": 5,
    "start_time": "2023-07-31T05:41:37.166Z"
   },
   {
    "duration": 143,
    "start_time": "2023-07-31T05:42:02.459Z"
   },
   {
    "duration": 54,
    "start_time": "2023-07-31T05:42:11.543Z"
   },
   {
    "duration": 10183,
    "start_time": "2023-07-31T05:42:56.243Z"
   },
   {
    "duration": 60,
    "start_time": "2023-07-31T05:43:06.427Z"
   },
   {
    "duration": 226,
    "start_time": "2023-07-31T05:43:06.489Z"
   },
   {
    "duration": 498,
    "start_time": "2023-07-31T05:43:06.717Z"
   },
   {
    "duration": 869,
    "start_time": "2023-07-31T05:43:07.217Z"
   },
   {
    "duration": 111,
    "start_time": "2023-07-31T05:43:08.088Z"
   },
   {
    "duration": 7,
    "start_time": "2023-07-31T05:43:08.201Z"
   },
   {
    "duration": 73,
    "start_time": "2023-07-31T05:43:48.586Z"
   },
   {
    "duration": 5,
    "start_time": "2023-07-31T05:43:52.447Z"
   },
   {
    "duration": 4660,
    "start_time": "2023-07-31T05:44:35.375Z"
   },
   {
    "duration": 139,
    "start_time": "2023-07-31T05:45:18.515Z"
   },
   {
    "duration": 22,
    "start_time": "2023-07-31T05:45:29.196Z"
   },
   {
    "duration": 3232,
    "start_time": "2023-07-31T05:45:35.221Z"
   },
   {
    "duration": 429,
    "start_time": "2023-07-31T05:46:08.961Z"
   },
   {
    "duration": 28,
    "start_time": "2023-07-31T05:46:13.492Z"
   },
   {
    "duration": 44,
    "start_time": "2023-07-31T05:47:15.844Z"
   },
   {
    "duration": 582,
    "start_time": "2023-07-31T05:47:37.974Z"
   },
   {
    "duration": 87,
    "start_time": "2023-07-31T05:47:51.179Z"
   },
   {
    "duration": 24,
    "start_time": "2023-07-31T05:47:57.146Z"
   },
   {
    "duration": 179,
    "start_time": "2023-07-31T05:48:10.575Z"
   },
   {
    "duration": 48,
    "start_time": "2023-07-31T05:48:17.645Z"
   },
   {
    "duration": 12960,
    "start_time": "2023-07-31T05:48:55.349Z"
   },
   {
    "duration": 9,
    "start_time": "2023-07-31T05:49:29.748Z"
   },
   {
    "duration": 18,
    "start_time": "2023-07-31T05:49:31.903Z"
   },
   {
    "duration": 9,
    "start_time": "2023-07-31T05:50:55.649Z"
   },
   {
    "duration": 4,
    "start_time": "2023-07-31T05:50:57.882Z"
   },
   {
    "duration": 18,
    "start_time": "2023-07-31T05:51:04.151Z"
   },
   {
    "duration": 10,
    "start_time": "2023-07-31T05:51:23.748Z"
   },
   {
    "duration": 48,
    "start_time": "2023-07-31T05:51:38.179Z"
   },
   {
    "duration": 119,
    "start_time": "2023-07-31T05:51:55.344Z"
   },
   {
    "duration": 196,
    "start_time": "2023-07-31T05:51:57.914Z"
   },
   {
    "duration": 200,
    "start_time": "2023-07-31T05:52:20.848Z"
   },
   {
    "duration": 0,
    "start_time": "2023-07-31T05:53:00.206Z"
   },
   {
    "duration": 185713,
    "start_time": "2023-07-31T05:53:03.052Z"
   },
   {
    "duration": 640,
    "start_time": "2023-07-31T05:56:08.767Z"
   },
   {
    "duration": 652,
    "start_time": "2023-07-31T05:56:51.287Z"
   },
   {
    "duration": 682,
    "start_time": "2023-07-31T05:57:12.873Z"
   },
   {
    "duration": 18,
    "start_time": "2023-07-31T05:57:25.649Z"
   },
   {
    "duration": 129,
    "start_time": "2023-07-31T05:58:22.857Z"
   },
   {
    "duration": 155,
    "start_time": "2023-07-31T05:58:43.998Z"
   },
   {
    "duration": 180,
    "start_time": "2023-07-31T05:58:48.967Z"
   },
   {
    "duration": 188373,
    "start_time": "2023-07-31T05:59:14.408Z"
   },
   {
    "duration": 23,
    "start_time": "2023-07-31T06:02:22.783Z"
   },
   {
    "duration": 4,
    "start_time": "2023-07-31T06:02:47.586Z"
   },
   {
    "duration": 9,
    "start_time": "2023-07-31T06:03:02.690Z"
   },
   {
    "duration": 9,
    "start_time": "2023-07-31T06:03:05.158Z"
   },
   {
    "duration": 66,
    "start_time": "2023-07-31T06:03:25.755Z"
   },
   {
    "duration": 56,
    "start_time": "2023-07-31T06:03:28.746Z"
   },
   {
    "duration": 18,
    "start_time": "2023-07-31T06:03:32.064Z"
   },
   {
    "duration": 51,
    "start_time": "2023-07-31T06:03:36.455Z"
   },
   {
    "duration": 421850,
    "start_time": "2023-07-31T06:05:01.784Z"
   },
   {
    "duration": 51,
    "start_time": "2023-07-31T06:12:03.635Z"
   },
   {
    "duration": 28,
    "start_time": "2023-07-31T06:12:03.688Z"
   },
   {
    "duration": 9,
    "start_time": "2023-07-31T06:12:24.654Z"
   },
   {
    "duration": 5,
    "start_time": "2023-07-31T06:12:32.142Z"
   },
   {
    "duration": 4,
    "start_time": "2023-07-31T06:12:35.545Z"
   },
   {
    "duration": 18,
    "start_time": "2023-07-31T06:12:37.390Z"
   },
   {
    "duration": 3,
    "start_time": "2023-07-31T06:12:46.446Z"
   },
   {
    "duration": 224,
    "start_time": "2023-07-31T06:12:48.510Z"
   },
   {
    "duration": 917,
    "start_time": "2023-07-31T06:20:10.612Z"
   },
   {
    "duration": 33,
    "start_time": "2023-07-31T06:20:22.175Z"
   },
   {
    "duration": 910,
    "start_time": "2023-07-31T06:20:36.447Z"
   },
   {
    "duration": 922,
    "start_time": "2023-07-31T06:20:59.148Z"
   },
   {
    "duration": 926,
    "start_time": "2023-07-31T06:21:03.865Z"
   },
   {
    "duration": 1015,
    "start_time": "2023-07-31T06:21:21.284Z"
   },
   {
    "duration": 1065,
    "start_time": "2023-07-31T06:21:39.517Z"
   },
   {
    "duration": 105,
    "start_time": "2023-07-31T06:21:45.628Z"
   },
   {
    "duration": 85,
    "start_time": "2023-07-31T06:22:07.507Z"
   },
   {
    "duration": 162,
    "start_time": "2023-07-31T06:22:49.848Z"
   },
   {
    "duration": 92,
    "start_time": "2023-07-31T06:22:57.156Z"
   },
   {
    "duration": 12839,
    "start_time": "2023-07-31T06:23:04.447Z"
   },
   {
    "duration": 70,
    "start_time": "2023-07-31T06:23:17.288Z"
   },
   {
    "duration": 228,
    "start_time": "2023-07-31T06:23:17.359Z"
   },
   {
    "duration": 456,
    "start_time": "2023-07-31T06:23:17.589Z"
   },
   {
    "duration": 993,
    "start_time": "2023-07-31T06:23:18.047Z"
   },
   {
    "duration": 101,
    "start_time": "2023-07-31T06:23:19.042Z"
   },
   {
    "duration": 859,
    "start_time": "2023-07-31T06:23:22.909Z"
   },
   {
    "duration": 1879,
    "start_time": "2023-07-31T06:24:20.266Z"
   },
   {
    "duration": 3,
    "start_time": "2023-07-31T06:24:22.147Z"
   },
   {
    "duration": 14278,
    "start_time": "2023-07-31T06:24:22.151Z"
   },
   {
    "duration": 246,
    "start_time": "2023-07-31T06:24:36.432Z"
   },
   {
    "duration": 61,
    "start_time": "2023-07-31T06:24:36.680Z"
   },
   {
    "duration": 52,
    "start_time": "2023-07-31T06:24:36.744Z"
   },
   {
    "duration": 63,
    "start_time": "2023-07-31T06:24:36.798Z"
   },
   {
    "duration": 309,
    "start_time": "2023-07-31T06:24:36.863Z"
   },
   {
    "duration": 525,
    "start_time": "2023-07-31T06:24:37.174Z"
   },
   {
    "duration": 648,
    "start_time": "2023-07-31T06:24:37.703Z"
   },
   {
    "duration": 337,
    "start_time": "2023-07-31T06:24:38.352Z"
   },
   {
    "duration": 461,
    "start_time": "2023-07-31T06:24:38.690Z"
   },
   {
    "duration": 3,
    "start_time": "2023-07-31T06:24:39.152Z"
   },
   {
    "duration": 12823,
    "start_time": "2023-07-31T06:24:39.156Z"
   },
   {
    "duration": 78,
    "start_time": "2023-07-31T06:24:51.980Z"
   },
   {
    "duration": 221,
    "start_time": "2023-07-31T06:24:52.060Z"
   },
   {
    "duration": 540,
    "start_time": "2023-07-31T06:24:52.282Z"
   },
   {
    "duration": 660,
    "start_time": "2023-07-31T06:24:52.824Z"
   },
   {
    "duration": 223,
    "start_time": "2023-07-31T06:24:53.486Z"
   },
   {
    "duration": 194202,
    "start_time": "2023-07-31T06:24:53.710Z"
   },
   {
    "duration": 46,
    "start_time": "2023-07-31T06:28:07.913Z"
   },
   {
    "duration": 417298,
    "start_time": "2023-07-31T06:28:07.960Z"
   },
   {
    "duration": 58,
    "start_time": "2023-07-31T06:35:05.259Z"
   },
   {
    "duration": 141,
    "start_time": "2023-07-31T06:35:07.799Z"
   },
   {
    "duration": 12,
    "start_time": "2023-07-31T06:35:41.801Z"
   },
   {
    "duration": 10,
    "start_time": "2023-07-31T06:36:03.819Z"
   },
   {
    "duration": 1219,
    "start_time": "2023-07-31T06:37:19.048Z"
   },
   {
    "duration": 29,
    "start_time": "2023-07-31T06:53:00.976Z"
   },
   {
    "duration": 13,
    "start_time": "2023-07-31T06:53:15.540Z"
   },
   {
    "duration": 96,
    "start_time": "2023-07-31T06:53:27.982Z"
   },
   {
    "duration": 60974,
    "start_time": "2023-07-31T06:53:35.287Z"
   },
   {
    "duration": 1634,
    "start_time": "2023-07-31T06:56:31.598Z"
   },
   {
    "duration": 4,
    "start_time": "2023-07-31T07:00:42.104Z"
   },
   {
    "duration": 2392,
    "start_time": "2023-07-31T07:06:02.812Z"
   },
   {
    "duration": 27,
    "start_time": "2023-07-31T07:06:26.515Z"
   },
   {
    "duration": 4,
    "start_time": "2023-07-31T07:06:28.106Z"
   },
   {
    "duration": 39,
    "start_time": "2023-07-31T07:09:18.845Z"
   },
   {
    "duration": 24,
    "start_time": "2023-07-31T07:09:23.710Z"
   },
   {
    "duration": 23,
    "start_time": "2023-07-31T07:14:48.094Z"
   },
   {
    "duration": 378,
    "start_time": "2023-07-31T07:15:18.716Z"
   },
   {
    "duration": 2249,
    "start_time": "2023-07-31T07:16:00.446Z"
   },
   {
    "duration": 18,
    "start_time": "2023-07-31T09:04:29.860Z"
   },
   {
    "duration": 766,
    "start_time": "2023-07-31T09:04:37.260Z"
   },
   {
    "duration": 821,
    "start_time": "2023-07-31T09:05:03.165Z"
   },
   {
    "duration": 1962,
    "start_time": "2023-07-31T09:05:12.630Z"
   },
   {
    "duration": 33,
    "start_time": "2023-07-31T09:05:19.786Z"
   },
   {
    "duration": 186,
    "start_time": "2023-07-31T09:06:57.919Z"
   },
   {
    "duration": 163,
    "start_time": "2023-07-31T09:07:01.652Z"
   },
   {
    "duration": 13,
    "start_time": "2023-07-31T09:07:10.557Z"
   },
   {
    "duration": 10,
    "start_time": "2023-07-31T09:09:37.855Z"
   },
   {
    "duration": 12,
    "start_time": "2023-07-31T09:09:39.913Z"
   },
   {
    "duration": 18,
    "start_time": "2023-07-31T09:09:42.256Z"
   },
   {
    "duration": 8,
    "start_time": "2023-07-31T09:09:54.111Z"
   },
   {
    "duration": 96,
    "start_time": "2023-07-31T09:10:10.457Z"
   },
   {
    "duration": 126,
    "start_time": "2023-07-31T09:10:23.056Z"
   },
   {
    "duration": 106,
    "start_time": "2023-07-31T09:10:27.958Z"
   },
   {
    "duration": 239,
    "start_time": "2023-07-31T09:10:30.076Z"
   },
   {
    "duration": 104,
    "start_time": "2023-07-31T09:10:34.485Z"
   },
   {
    "duration": 120,
    "start_time": "2023-07-31T09:10:48.372Z"
   },
   {
    "duration": 108,
    "start_time": "2023-07-31T09:11:04.964Z"
   },
   {
    "duration": 20,
    "start_time": "2023-07-31T09:11:12.820Z"
   },
   {
    "duration": 8,
    "start_time": "2023-07-31T09:11:18.881Z"
   },
   {
    "duration": 7,
    "start_time": "2023-07-31T09:11:23.854Z"
   },
   {
    "duration": 12,
    "start_time": "2023-07-31T09:11:29.385Z"
   },
   {
    "duration": 17,
    "start_time": "2023-07-31T09:11:58.817Z"
   },
   {
    "duration": 10,
    "start_time": "2023-07-31T09:12:10.910Z"
   },
   {
    "duration": 90,
    "start_time": "2023-07-31T09:12:17.354Z"
   },
   {
    "duration": 143,
    "start_time": "2023-07-31T09:12:51.486Z"
   },
   {
    "duration": 121,
    "start_time": "2023-07-31T09:13:05.067Z"
   },
   {
    "duration": 102,
    "start_time": "2023-07-31T09:13:10.842Z"
   },
   {
    "duration": 105,
    "start_time": "2023-07-31T09:13:24.898Z"
   },
   {
    "duration": 98,
    "start_time": "2023-07-31T09:13:31.558Z"
   },
   {
    "duration": 98,
    "start_time": "2023-07-31T09:13:36.206Z"
   },
   {
    "duration": 106,
    "start_time": "2023-07-31T09:13:40.810Z"
   },
   {
    "duration": 124,
    "start_time": "2023-07-31T09:14:10.195Z"
   },
   {
    "duration": 107,
    "start_time": "2023-07-31T09:14:17.025Z"
   },
   {
    "duration": 117,
    "start_time": "2023-07-31T09:14:39.861Z"
   },
   {
    "duration": 7,
    "start_time": "2023-07-31T09:15:32.885Z"
   },
   {
    "duration": 1051,
    "start_time": "2023-07-31T09:32:34.164Z"
   },
   {
    "duration": 1022,
    "start_time": "2023-07-31T09:32:39.543Z"
   },
   {
    "duration": 1323,
    "start_time": "2023-07-31T09:32:48.561Z"
   },
   {
    "duration": 2279,
    "start_time": "2023-07-31T09:33:00.287Z"
   },
   {
    "duration": 949,
    "start_time": "2023-07-31T09:33:08.701Z"
   },
   {
    "duration": 3827,
    "start_time": "2023-07-31T09:33:11.188Z"
   },
   {
    "duration": 160,
    "start_time": "2023-07-31T09:40:41.314Z"
   },
   {
    "duration": 41,
    "start_time": "2023-07-31T09:42:48.398Z"
   },
   {
    "duration": 29,
    "start_time": "2023-07-31T09:42:53.729Z"
   },
   {
    "duration": 12,
    "start_time": "2023-07-31T09:43:01.177Z"
   },
   {
    "duration": 6,
    "start_time": "2023-07-31T09:43:14.594Z"
   },
   {
    "duration": 26,
    "start_time": "2023-07-31T09:43:20.325Z"
   },
   {
    "duration": 2971,
    "start_time": "2023-07-31T09:43:33.658Z"
   },
   {
    "duration": 3,
    "start_time": "2023-07-31T09:53:26.517Z"
   },
   {
    "duration": 97,
    "start_time": "2023-07-31T09:55:18.612Z"
   },
   {
    "duration": 39,
    "start_time": "2023-07-31T09:55:22.979Z"
   },
   {
    "duration": 35,
    "start_time": "2023-07-31T09:55:28.156Z"
   },
   {
    "duration": 41,
    "start_time": "2023-07-31T09:55:31.360Z"
   },
   {
    "duration": 2434,
    "start_time": "2023-07-31T09:55:45.393Z"
   },
   {
    "duration": 0,
    "start_time": "2023-07-31T09:57:51.034Z"
   },
   {
    "duration": 89,
    "start_time": "2023-07-31T10:02:32.922Z"
   },
   {
    "duration": 22091,
    "start_time": "2023-07-31T10:05:26.724Z"
   },
   {
    "duration": 76511,
    "start_time": "2023-07-31T10:05:52.513Z"
   },
   {
    "duration": 28,
    "start_time": "2023-07-31T10:07:18.952Z"
   },
   {
    "duration": 64931,
    "start_time": "2023-07-31T10:07:25.978Z"
   },
   {
    "duration": 3,
    "start_time": "2023-07-31T10:09:44.652Z"
   },
   {
    "duration": 1593,
    "start_time": "2023-07-31T10:09:57.915Z"
   },
   {
    "duration": 3,
    "start_time": "2023-07-31T10:10:13.620Z"
   },
   {
    "duration": 54342,
    "start_time": "2023-07-31T10:10:44.464Z"
   },
   {
    "duration": 1350,
    "start_time": "2023-07-31T10:12:00.472Z"
   },
   {
    "duration": 3,
    "start_time": "2023-07-31T10:12:03.661Z"
   },
   {
    "duration": 81211,
    "start_time": "2023-07-31T10:12:21.095Z"
   },
   {
    "duration": 3,
    "start_time": "2023-07-31T10:13:42.308Z"
   },
   {
    "duration": 2061,
    "start_time": "2023-07-31T10:13:46.752Z"
   },
   {
    "duration": 4,
    "start_time": "2023-07-31T10:13:50.784Z"
   },
   {
    "duration": 4,
    "start_time": "2023-07-31T10:14:26.723Z"
   },
   {
    "duration": 3,
    "start_time": "2023-07-31T10:14:53.766Z"
   },
   {
    "duration": 58031,
    "start_time": "2023-07-31T10:14:57.786Z"
   },
   {
    "duration": 1515,
    "start_time": "2023-07-31T10:15:58.309Z"
   },
   {
    "duration": 4,
    "start_time": "2023-07-31T10:16:02.455Z"
   },
   {
    "duration": 4,
    "start_time": "2023-07-31T10:18:20.179Z"
   },
   {
    "duration": 3,
    "start_time": "2023-07-31T10:19:21.273Z"
   },
   {
    "duration": 65244,
    "start_time": "2023-07-31T10:19:21.966Z"
   },
   {
    "duration": 1708,
    "start_time": "2023-07-31T10:20:27.212Z"
   },
   {
    "duration": 1709,
    "start_time": "2023-07-31T10:20:32.412Z"
   },
   {
    "duration": 2,
    "start_time": "2023-07-31T10:20:43.680Z"
   },
   {
    "duration": 59813,
    "start_time": "2023-07-31T10:20:44.599Z"
   },
   {
    "duration": 1711,
    "start_time": "2023-07-31T10:21:44.414Z"
   },
   {
    "duration": 1530,
    "start_time": "2023-07-31T10:21:52.684Z"
   },
   {
    "duration": 4,
    "start_time": "2023-07-31T10:23:04.860Z"
   },
   {
    "duration": 74961,
    "start_time": "2023-07-31T10:23:05.455Z"
   },
   {
    "duration": 3008,
    "start_time": "2023-07-31T10:24:20.418Z"
   },
   {
    "duration": 3438,
    "start_time": "2023-07-31T10:24:35.062Z"
   },
   {
    "duration": 3,
    "start_time": "2023-07-31T10:24:41.950Z"
   },
   {
    "duration": 95326,
    "start_time": "2023-07-31T10:24:42.599Z"
   },
   {
    "duration": 3581,
    "start_time": "2023-07-31T10:26:17.927Z"
   },
   {
    "duration": 4,
    "start_time": "2023-07-31T10:27:29.483Z"
   },
   {
    "duration": 50965,
    "start_time": "2023-07-31T10:27:30.260Z"
   },
   {
    "duration": 29,
    "start_time": "2023-07-31T10:31:48.517Z"
   },
   {
    "duration": 26042,
    "start_time": "2023-07-31T10:32:07.520Z"
   },
   {
    "duration": 31872,
    "start_time": "2023-07-31T10:32:51.681Z"
   },
   {
    "duration": 0,
    "start_time": "2023-07-31T10:33:23.556Z"
   },
   {
    "duration": 20775,
    "start_time": "2023-07-31T10:33:30.456Z"
   },
   {
    "duration": 5095,
    "start_time": "2023-07-31T10:34:06.915Z"
   },
   {
    "duration": 88616,
    "start_time": "2023-07-31T10:34:30.101Z"
   },
   {
    "duration": 1374,
    "start_time": "2023-07-31T10:36:05.153Z"
   },
   {
    "duration": 11426,
    "start_time": "2023-07-31T10:37:24.491Z"
   },
   {
    "duration": 11568,
    "start_time": "2023-07-31T10:38:03.054Z"
   },
   {
    "duration": 13562,
    "start_time": "2023-07-31T10:38:35.954Z"
   },
   {
    "duration": 10971,
    "start_time": "2023-07-31T10:39:02.145Z"
   },
   {
    "duration": 14640,
    "start_time": "2023-07-31T10:39:46.360Z"
   },
   {
    "duration": 4086,
    "start_time": "2023-07-31T10:40:08.216Z"
   },
   {
    "duration": 10400,
    "start_time": "2023-07-31T10:40:54.212Z"
   },
   {
    "duration": 105,
    "start_time": "2023-07-31T10:41:44.415Z"
   },
   {
    "duration": 10177,
    "start_time": "2023-07-31T10:41:49.649Z"
   },
   {
    "duration": 2383,
    "start_time": "2023-07-31T10:42:09.716Z"
   },
   {
    "duration": 2169,
    "start_time": "2023-07-31T10:42:12.102Z"
   },
   {
    "duration": 4,
    "start_time": "2023-07-31T10:42:14.272Z"
   },
   {
    "duration": 23117,
    "start_time": "2023-07-31T10:42:14.278Z"
   },
   {
    "duration": 256,
    "start_time": "2023-07-31T10:42:37.396Z"
   },
   {
    "duration": 57,
    "start_time": "2023-07-31T10:42:37.653Z"
   },
   {
    "duration": 47,
    "start_time": "2023-07-31T10:42:37.712Z"
   },
   {
    "duration": 46,
    "start_time": "2023-07-31T10:42:37.760Z"
   },
   {
    "duration": 338,
    "start_time": "2023-07-31T10:42:37.809Z"
   },
   {
    "duration": 656,
    "start_time": "2023-07-31T10:42:38.150Z"
   },
   {
    "duration": 648,
    "start_time": "2023-07-31T10:42:38.808Z"
   },
   {
    "duration": 383,
    "start_time": "2023-07-31T10:42:39.457Z"
   },
   {
    "duration": 501,
    "start_time": "2023-07-31T10:42:39.841Z"
   },
   {
    "duration": 4,
    "start_time": "2023-07-31T10:42:40.344Z"
   },
   {
    "duration": 12369,
    "start_time": "2023-07-31T10:42:40.349Z"
   },
   {
    "duration": 67,
    "start_time": "2023-07-31T10:42:52.720Z"
   },
   {
    "duration": 138,
    "start_time": "2023-07-31T10:42:52.789Z"
   },
   {
    "duration": 226,
    "start_time": "2023-07-31T10:42:52.929Z"
   },
   {
    "duration": 534,
    "start_time": "2023-07-31T10:42:53.157Z"
   },
   {
    "duration": 657,
    "start_time": "2023-07-31T10:42:53.695Z"
   },
   {
    "duration": 225,
    "start_time": "2023-07-31T10:42:54.354Z"
   },
   {
    "duration": 199827,
    "start_time": "2023-07-31T10:42:54.580Z"
   },
   {
    "duration": 52,
    "start_time": "2023-07-31T10:46:14.409Z"
   },
   {
    "duration": 443656,
    "start_time": "2023-07-31T10:46:14.462Z"
   },
   {
    "duration": 66,
    "start_time": "2023-07-31T10:53:38.120Z"
   },
   {
    "duration": 305,
    "start_time": "2023-07-31T10:53:38.187Z"
   },
   {
    "duration": 4341,
    "start_time": "2023-07-31T10:53:38.494Z"
   },
   {
    "duration": 11,
    "start_time": "2023-07-31T10:53:42.838Z"
   },
   {
    "duration": 24,
    "start_time": "2023-07-31T10:53:42.850Z"
   },
   {
    "duration": 316852,
    "start_time": "2023-07-31T10:53:42.876Z"
   },
   {
    "duration": 0,
    "start_time": "2023-07-31T10:58:59.729Z"
   },
   {
    "duration": 0,
    "start_time": "2023-07-31T10:58:59.730Z"
   },
   {
    "duration": 291797,
    "start_time": "2023-07-31T11:07:47.461Z"
   },
   {
    "duration": 6,
    "start_time": "2023-07-31T11:18:06.953Z"
   },
   {
    "duration": 44,
    "start_time": "2023-07-31T11:18:14.805Z"
   },
   {
    "duration": 30,
    "start_time": "2023-07-31T11:19:02.850Z"
   },
   {
    "duration": 32,
    "start_time": "2023-07-31T11:20:26.645Z"
   },
   {
    "duration": 4224,
    "start_time": "2023-07-31T11:21:04.988Z"
   },
   {
    "duration": 4699,
    "start_time": "2023-07-31T11:21:48.759Z"
   },
   {
    "duration": 39761,
    "start_time": "2023-07-31T11:22:16.554Z"
   },
   {
    "duration": 20802,
    "start_time": "2023-07-31T11:24:38.327Z"
   },
   {
    "duration": 5623,
    "start_time": "2023-07-31T11:25:04.847Z"
   },
   {
    "duration": 2919,
    "start_time": "2023-07-31T11:28:10.646Z"
   },
   {
    "duration": 3097,
    "start_time": "2023-07-31T11:29:01.841Z"
   },
   {
    "duration": 4044,
    "start_time": "2023-07-31T11:29:08.992Z"
   },
   {
    "duration": 4031,
    "start_time": "2023-07-31T11:29:51.715Z"
   },
   {
    "duration": 46,
    "start_time": "2023-07-31T11:32:11.959Z"
   },
   {
    "duration": 60,
    "start_time": "2023-07-31T11:32:29.883Z"
   },
   {
    "duration": 28,
    "start_time": "2023-07-31T11:32:44.734Z"
   },
   {
    "duration": 55,
    "start_time": "2023-07-31T11:32:52.602Z"
   },
   {
    "duration": 299,
    "start_time": "2023-07-31T11:34:18.265Z"
   },
   {
    "duration": 77,
    "start_time": "2023-07-31T11:34:35.239Z"
   },
   {
    "duration": 78,
    "start_time": "2023-07-31T11:35:18.895Z"
   },
   {
    "duration": 322,
    "start_time": "2023-07-31T11:37:42.876Z"
   },
   {
    "duration": 125,
    "start_time": "2023-07-31T11:37:47.557Z"
   },
   {
    "duration": 68,
    "start_time": "2023-07-31T11:38:02.226Z"
   },
   {
    "duration": 92,
    "start_time": "2023-07-31T11:38:10.895Z"
   },
   {
    "duration": 122,
    "start_time": "2023-07-31T11:38:15.332Z"
   },
   {
    "duration": 41,
    "start_time": "2023-07-31T11:38:30.644Z"
   },
   {
    "duration": 81,
    "start_time": "2023-07-31T11:38:44.102Z"
   },
   {
    "duration": 0,
    "start_time": "2023-07-31T11:42:16.950Z"
   },
   {
    "duration": 0,
    "start_time": "2023-07-31T11:43:13.960Z"
   },
   {
    "duration": 163617,
    "start_time": "2023-07-31T11:43:25.438Z"
   },
   {
    "duration": 5,
    "start_time": "2023-07-31T11:46:21.896Z"
   },
   {
    "duration": 30925,
    "start_time": "2023-07-31T11:46:22.851Z"
   },
   {
    "duration": 156661,
    "start_time": "2023-07-31T11:46:56.640Z"
   },
   {
    "duration": 22,
    "start_time": "2023-07-31T11:50:13.046Z"
   },
   {
    "duration": 15676,
    "start_time": "2023-07-31T11:50:42.385Z"
   },
   {
    "duration": 0,
    "start_time": "2023-07-31T11:53:05.834Z"
   },
   {
    "duration": 164659,
    "start_time": "2023-07-31T11:53:08.148Z"
   },
   {
    "duration": 7566,
    "start_time": "2023-07-31T11:56:55.675Z"
   },
   {
    "duration": 0,
    "start_time": "2023-07-31T12:06:32.050Z"
   },
   {
    "duration": 63134,
    "start_time": "2023-07-31T12:07:17.669Z"
   },
   {
    "duration": 51695,
    "start_time": "2023-07-31T12:08:29.718Z"
   },
   {
    "duration": 1703,
    "start_time": "2023-07-31T12:10:04.140Z"
   },
   {
    "duration": 65645,
    "start_time": "2023-07-31T12:10:25.679Z"
   },
   {
    "duration": 7784,
    "start_time": "2023-07-31T12:11:46.036Z"
   },
   {
    "duration": 114,
    "start_time": "2023-07-31T12:13:06.390Z"
   },
   {
    "duration": 113247,
    "start_time": "2023-07-31T12:13:41.690Z"
   },
   {
    "duration": 17238,
    "start_time": "2023-07-31T12:15:42.124Z"
   },
   {
    "duration": 891584,
    "start_time": "2023-07-31T12:16:30.642Z"
   },
   {
    "duration": 2388,
    "start_time": "2023-07-31T12:50:26.130Z"
   },
   {
    "duration": 4452,
    "start_time": "2023-07-31T12:54:18.871Z"
   },
   {
    "duration": 4,
    "start_time": "2023-07-31T12:54:34.640Z"
   },
   {
    "duration": 37376,
    "start_time": "2023-07-31T12:55:01.854Z"
   },
   {
    "duration": 44115,
    "start_time": "2023-07-31T12:55:54.489Z"
   },
   {
    "duration": 3,
    "start_time": "2023-07-31T12:57:17.932Z"
   },
   {
    "duration": 1963,
    "start_time": "2023-07-31T12:57:18.761Z"
   },
   {
    "duration": 4,
    "start_time": "2023-07-31T12:57:20.726Z"
   },
   {
    "duration": 4,
    "start_time": "2023-07-31T12:57:36.774Z"
   },
   {
    "duration": 2083,
    "start_time": "2023-07-31T12:57:38.440Z"
   },
   {
    "duration": 10009,
    "start_time": "2023-07-31T12:59:24.696Z"
   },
   {
    "duration": 68644,
    "start_time": "2023-07-31T12:59:36.982Z"
   },
   {
    "duration": 0,
    "start_time": "2023-07-31T13:01:40.626Z"
   },
   {
    "duration": 0,
    "start_time": "2023-07-31T13:01:40.627Z"
   },
   {
    "duration": 0,
    "start_time": "2023-07-31T13:01:40.628Z"
   },
   {
    "duration": 0,
    "start_time": "2023-07-31T13:01:40.629Z"
   },
   {
    "duration": 3,
    "start_time": "2023-07-31T13:01:46.345Z"
   },
   {
    "duration": 2181,
    "start_time": "2023-07-31T13:01:46.544Z"
   },
   {
    "duration": 2663,
    "start_time": "2023-07-31T13:02:00.065Z"
   },
   {
    "duration": 4185,
    "start_time": "2023-07-31T13:02:09.441Z"
   },
   {
    "duration": 4931,
    "start_time": "2023-07-31T13:02:26.689Z"
   },
   {
    "duration": 2651,
    "start_time": "2023-07-31T13:02:42.069Z"
   },
   {
    "duration": 5,
    "start_time": "2023-07-31T13:04:21.887Z"
   },
   {
    "duration": 42062,
    "start_time": "2023-07-31T13:05:21.491Z"
   },
   {
    "duration": 33,
    "start_time": "2023-07-31T13:07:36.937Z"
   },
   {
    "duration": 26,
    "start_time": "2023-07-31T13:08:24.276Z"
   },
   {
    "duration": 65957,
    "start_time": "2023-07-31T13:09:29.721Z"
   },
   {
    "duration": 15784,
    "start_time": "2023-07-31T13:22:13.134Z"
   },
   {
    "duration": 5265,
    "start_time": "2023-07-31T13:23:12.259Z"
   },
   {
    "duration": 22786,
    "start_time": "2023-07-31T13:23:26.944Z"
   },
   {
    "duration": 25,
    "start_time": "2023-07-31T13:24:33.037Z"
   },
   {
    "duration": 340,
    "start_time": "2023-07-31T13:25:05.082Z"
   },
   {
    "duration": 26,
    "start_time": "2023-07-31T13:25:06.451Z"
   },
   {
    "duration": 5,
    "start_time": "2023-07-31T13:25:15.042Z"
   },
   {
    "duration": 26,
    "start_time": "2023-07-31T13:25:21.567Z"
   },
   {
    "duration": 24,
    "start_time": "2023-07-31T13:25:35.853Z"
   },
   {
    "duration": 24,
    "start_time": "2023-07-31T13:25:39.533Z"
   },
   {
    "duration": 50,
    "start_time": "2023-07-31T13:25:58.150Z"
   },
   {
    "duration": 28,
    "start_time": "2023-07-31T13:26:28.575Z"
   },
   {
    "duration": 24,
    "start_time": "2023-07-31T13:26:40.647Z"
   },
   {
    "duration": 28,
    "start_time": "2023-07-31T13:26:49.949Z"
   },
   {
    "duration": 77054,
    "start_time": "2023-07-31T13:27:38.658Z"
   },
   {
    "duration": 4,
    "start_time": "2023-07-31T13:29:02.046Z"
   },
   {
    "duration": 91454,
    "start_time": "2023-07-31T13:30:05.429Z"
   },
   {
    "duration": 3218,
    "start_time": "2023-07-31T13:31:36.885Z"
   },
   {
    "duration": 4,
    "start_time": "2023-07-31T13:31:40.104Z"
   },
   {
    "duration": 14,
    "start_time": "2023-07-31T13:32:02.230Z"
   },
   {
    "duration": 3,
    "start_time": "2023-07-31T13:32:24.329Z"
   },
   {
    "duration": 3,
    "start_time": "2023-07-31T13:32:31.884Z"
   },
   {
    "duration": 3610,
    "start_time": "2023-07-31T13:32:34.191Z"
   },
   {
    "duration": 21,
    "start_time": "2023-07-31T13:33:17.101Z"
   },
   {
    "duration": 21,
    "start_time": "2023-07-31T13:33:23.344Z"
   },
   {
    "duration": 23,
    "start_time": "2023-07-31T13:33:27.933Z"
   },
   {
    "duration": 22,
    "start_time": "2023-07-31T13:33:33.450Z"
   },
   {
    "duration": 23,
    "start_time": "2023-07-31T13:33:36.896Z"
   },
   {
    "duration": 25,
    "start_time": "2023-07-31T13:33:43.764Z"
   },
   {
    "duration": 22,
    "start_time": "2023-07-31T13:33:49.941Z"
   },
   {
    "duration": 23,
    "start_time": "2023-07-31T13:33:53.079Z"
   },
   {
    "duration": 23,
    "start_time": "2023-07-31T13:33:58.404Z"
   },
   {
    "duration": 27,
    "start_time": "2023-07-31T13:34:02.291Z"
   },
   {
    "duration": 23,
    "start_time": "2023-07-31T13:34:25.589Z"
   },
   {
    "duration": 26,
    "start_time": "2023-07-31T13:34:32.437Z"
   },
   {
    "duration": 37292,
    "start_time": "2023-07-31T13:34:59.694Z"
   },
   {
    "duration": 2341,
    "start_time": "2023-07-31T13:44:41.943Z"
   },
   {
    "duration": 6801,
    "start_time": "2023-07-31T13:44:44.288Z"
   },
   {
    "duration": 5,
    "start_time": "2023-07-31T13:44:51.090Z"
   },
   {
    "duration": 28966,
    "start_time": "2023-07-31T13:44:51.097Z"
   },
   {
    "duration": 242,
    "start_time": "2023-07-31T13:45:20.064Z"
   },
   {
    "duration": 64,
    "start_time": "2023-07-31T13:45:20.308Z"
   },
   {
    "duration": 58,
    "start_time": "2023-07-31T13:45:20.374Z"
   },
   {
    "duration": 48,
    "start_time": "2023-07-31T13:45:20.434Z"
   },
   {
    "duration": 317,
    "start_time": "2023-07-31T13:45:20.484Z"
   },
   {
    "duration": 648,
    "start_time": "2023-07-31T13:45:20.810Z"
   },
   {
    "duration": 638,
    "start_time": "2023-07-31T13:45:21.460Z"
   },
   {
    "duration": 365,
    "start_time": "2023-07-31T13:45:22.106Z"
   },
   {
    "duration": 556,
    "start_time": "2023-07-31T13:45:22.473Z"
   },
   {
    "duration": 4,
    "start_time": "2023-07-31T13:45:23.032Z"
   },
   {
    "duration": 10057,
    "start_time": "2023-07-31T13:45:23.037Z"
   },
   {
    "duration": 76,
    "start_time": "2023-07-31T13:45:33.096Z"
   },
   {
    "duration": 120,
    "start_time": "2023-07-31T13:45:33.174Z"
   },
   {
    "duration": 235,
    "start_time": "2023-07-31T13:45:33.299Z"
   },
   {
    "duration": 550,
    "start_time": "2023-07-31T13:45:33.539Z"
   },
   {
    "duration": 835,
    "start_time": "2023-07-31T13:45:34.091Z"
   },
   {
    "duration": 239,
    "start_time": "2023-07-31T13:45:34.927Z"
   },
   {
    "duration": 227508,
    "start_time": "2023-07-31T13:45:35.168Z"
   },
   {
    "duration": 68,
    "start_time": "2023-07-31T13:49:22.678Z"
   },
   {
    "duration": 494325,
    "start_time": "2023-07-31T13:49:22.748Z"
   },
   {
    "duration": 81,
    "start_time": "2023-07-31T13:57:37.075Z"
   },
   {
    "duration": 412,
    "start_time": "2023-07-31T13:57:37.158Z"
   },
   {
    "duration": 5194,
    "start_time": "2023-07-31T13:57:37.572Z"
   },
   {
    "duration": 12,
    "start_time": "2023-07-31T13:57:42.768Z"
   },
   {
    "duration": 39,
    "start_time": "2023-07-31T13:57:42.783Z"
   },
   {
    "duration": 20,
    "start_time": "2023-07-31T13:57:42.824Z"
   },
   {
    "duration": 8393,
    "start_time": "2023-07-31T13:57:42.846Z"
   },
   {
    "duration": 1210597,
    "start_time": "2023-07-31T13:57:51.240Z"
   },
   {
    "duration": 4,
    "start_time": "2023-07-31T14:18:01.838Z"
   },
   {
    "duration": 48,
    "start_time": "2023-07-31T14:18:01.844Z"
   },
   {
    "duration": 7284,
    "start_time": "2023-07-31T14:18:01.893Z"
   },
   {
    "duration": 31,
    "start_time": "2023-07-31T14:19:18.892Z"
   },
   {
    "duration": 112,
    "start_time": "2023-07-31T14:19:22.827Z"
   },
   {
    "duration": 507,
    "start_time": "2023-07-31T14:19:25.134Z"
   },
   {
    "duration": 30,
    "start_time": "2023-07-31T14:19:29.874Z"
   },
   {
    "duration": 33,
    "start_time": "2023-07-31T14:19:36.305Z"
   },
   {
    "duration": 6,
    "start_time": "2023-07-31T14:20:35.095Z"
   },
   {
    "duration": 29,
    "start_time": "2023-07-31T14:21:11.667Z"
   },
   {
    "duration": 7465,
    "start_time": "2023-07-31T14:24:47.700Z"
   },
   {
    "duration": 7504,
    "start_time": "2023-07-31T14:25:29.485Z"
   },
   {
    "duration": 6988,
    "start_time": "2023-07-31T14:25:50.891Z"
   },
   {
    "duration": 3,
    "start_time": "2023-07-31T14:26:51.334Z"
   },
   {
    "duration": 4,
    "start_time": "2023-07-31T14:26:53.648Z"
   },
   {
    "duration": 580,
    "start_time": "2023-07-31T14:26:57.473Z"
   },
   {
    "duration": 10,
    "start_time": "2023-07-31T14:27:05.995Z"
   },
   {
    "duration": 8956,
    "start_time": "2023-07-31T14:27:06.191Z"
   },
   {
    "duration": 61,
    "start_time": "2023-07-31T14:27:39.464Z"
   },
   {
    "duration": 40,
    "start_time": "2023-07-31T14:27:42.784Z"
   },
   {
    "duration": 30,
    "start_time": "2023-07-31T14:27:49.841Z"
   },
   {
    "duration": 31,
    "start_time": "2023-07-31T14:27:54.293Z"
   },
   {
    "duration": 28,
    "start_time": "2023-07-31T14:27:57.570Z"
   },
   {
    "duration": 214,
    "start_time": "2023-07-31T14:28:13.895Z"
   },
   {
    "duration": 46,
    "start_time": "2023-08-01T02:44:39.123Z"
   },
   {
    "duration": 4377,
    "start_time": "2023-08-01T02:44:47.726Z"
   },
   {
    "duration": 2260,
    "start_time": "2023-08-01T02:44:52.105Z"
   },
   {
    "duration": 4,
    "start_time": "2023-08-01T02:44:54.366Z"
   },
   {
    "duration": 15654,
    "start_time": "2023-08-01T02:44:54.372Z"
   },
   {
    "duration": 228,
    "start_time": "2023-08-01T02:45:10.027Z"
   },
   {
    "duration": 57,
    "start_time": "2023-08-01T02:45:10.257Z"
   },
   {
    "duration": 45,
    "start_time": "2023-08-01T02:45:10.316Z"
   },
   {
    "duration": 42,
    "start_time": "2023-08-01T02:45:10.363Z"
   },
   {
    "duration": 331,
    "start_time": "2023-08-01T02:45:10.406Z"
   },
   {
    "duration": 516,
    "start_time": "2023-08-01T02:45:10.739Z"
   },
   {
    "duration": 645,
    "start_time": "2023-08-01T02:45:11.256Z"
   },
   {
    "duration": 329,
    "start_time": "2023-08-01T02:45:11.902Z"
   },
   {
    "duration": 451,
    "start_time": "2023-08-01T02:45:12.233Z"
   },
   {
    "duration": 2,
    "start_time": "2023-08-01T02:45:12.686Z"
   },
   {
    "duration": 11022,
    "start_time": "2023-08-01T02:45:12.690Z"
   },
   {
    "duration": 66,
    "start_time": "2023-08-01T02:45:23.714Z"
   },
   {
    "duration": 107,
    "start_time": "2023-08-01T02:45:23.782Z"
   },
   {
    "duration": 215,
    "start_time": "2023-08-01T02:45:23.891Z"
   },
   {
    "duration": 477,
    "start_time": "2023-08-01T02:45:24.108Z"
   },
   {
    "duration": 632,
    "start_time": "2023-08-01T02:45:24.587Z"
   },
   {
    "duration": 229,
    "start_time": "2023-08-01T02:45:25.221Z"
   },
   {
    "duration": 182774,
    "start_time": "2023-08-01T02:45:25.452Z"
   },
   {
    "duration": 47,
    "start_time": "2023-08-01T02:48:28.227Z"
   },
   {
    "duration": 419269,
    "start_time": "2023-08-01T02:48:28.276Z"
   },
   {
    "duration": 56,
    "start_time": "2023-08-01T02:55:27.547Z"
   },
   {
    "duration": 282,
    "start_time": "2023-08-01T02:55:27.604Z"
   },
   {
    "duration": 4109,
    "start_time": "2023-08-01T02:55:27.887Z"
   },
   {
    "duration": 11,
    "start_time": "2023-08-01T02:55:31.999Z"
   },
   {
    "duration": 44,
    "start_time": "2023-08-01T02:55:32.011Z"
   },
   {
    "duration": 25,
    "start_time": "2023-08-01T02:55:32.056Z"
   },
   {
    "duration": 3539,
    "start_time": "2023-08-01T02:55:32.082Z"
   },
   {
    "duration": 108,
    "start_time": "2023-08-01T02:55:35.622Z"
   },
   {
    "duration": 3,
    "start_time": "2023-08-01T02:55:35.732Z"
   },
   {
    "duration": 3,
    "start_time": "2023-08-01T02:55:35.799Z"
   },
   {
    "duration": 13,
    "start_time": "2023-08-01T02:55:35.803Z"
   },
   {
    "duration": 5920,
    "start_time": "2023-08-01T02:55:35.817Z"
   },
   {
    "duration": 8,
    "start_time": "2023-08-01T03:34:55.157Z"
   },
   {
    "duration": 11,
    "start_time": "2023-08-01T03:40:39.107Z"
   },
   {
    "duration": 9,
    "start_time": "2023-08-01T03:40:39.479Z"
   },
   {
    "duration": 7,
    "start_time": "2023-08-01T03:40:40.417Z"
   },
   {
    "duration": 7,
    "start_time": "2023-08-01T03:51:27.533Z"
   },
   {
    "duration": 172,
    "start_time": "2023-08-01T03:51:28.648Z"
   },
   {
    "duration": 8,
    "start_time": "2023-08-01T03:51:52.685Z"
   },
   {
    "duration": 6,
    "start_time": "2023-08-01T03:51:52.995Z"
   },
   {
    "duration": 7,
    "start_time": "2023-08-01T03:51:53.317Z"
   },
   {
    "duration": 6,
    "start_time": "2023-08-01T03:51:53.671Z"
   },
   {
    "duration": 28,
    "start_time": "2023-08-01T03:52:03.827Z"
   },
   {
    "duration": 6,
    "start_time": "2023-08-01T03:52:32.978Z"
   },
   {
    "duration": 5,
    "start_time": "2023-08-01T03:52:33.328Z"
   },
   {
    "duration": 6,
    "start_time": "2023-08-01T03:52:33.655Z"
   },
   {
    "duration": 53,
    "start_time": "2023-08-01T03:52:34.924Z"
   },
   {
    "duration": 14,
    "start_time": "2023-08-01T03:55:00.178Z"
   },
   {
    "duration": 7,
    "start_time": "2023-08-01T03:55:40.696Z"
   },
   {
    "duration": 5,
    "start_time": "2023-08-01T03:55:41.199Z"
   },
   {
    "duration": 6,
    "start_time": "2023-08-01T03:55:42.065Z"
   },
   {
    "duration": 940,
    "start_time": "2023-08-01T03:55:43.377Z"
   },
   {
    "duration": 39,
    "start_time": "2023-08-01T03:56:06.039Z"
   },
   {
    "duration": 8,
    "start_time": "2023-08-01T03:58:30.646Z"
   },
   {
    "duration": 6,
    "start_time": "2023-08-01T03:58:31.010Z"
   },
   {
    "duration": 5,
    "start_time": "2023-08-01T03:58:31.418Z"
   },
   {
    "duration": 6,
    "start_time": "2023-08-01T03:58:31.787Z"
   },
   {
    "duration": 28438,
    "start_time": "2023-08-01T03:58:32.498Z"
   },
   {
    "duration": 19,
    "start_time": "2023-08-01T04:12:11.504Z"
   },
   {
    "duration": 5,
    "start_time": "2023-08-01T04:12:22.821Z"
   },
   {
    "duration": 22,
    "start_time": "2023-08-01T04:15:41.471Z"
   },
   {
    "duration": 4,
    "start_time": "2023-08-01T04:15:42.140Z"
   },
   {
    "duration": 7,
    "start_time": "2023-08-01T04:15:42.468Z"
   },
   {
    "duration": 22,
    "start_time": "2023-08-01T04:15:43.330Z"
   },
   {
    "duration": 5,
    "start_time": "2023-08-01T04:15:52.082Z"
   },
   {
    "duration": 8,
    "start_time": "2023-08-01T04:15:52.452Z"
   },
   {
    "duration": 7,
    "start_time": "2023-08-01T04:15:52.818Z"
   },
   {
    "duration": 5,
    "start_time": "2023-08-01T04:15:53.251Z"
   },
   {
    "duration": 8,
    "start_time": "2023-08-01T04:15:53.663Z"
   },
   {
    "duration": 22,
    "start_time": "2023-08-01T04:15:54.130Z"
   },
   {
    "duration": 8,
    "start_time": "2023-08-01T04:16:11.327Z"
   },
   {
    "duration": 50,
    "start_time": "2023-08-01T04:16:11.812Z"
   },
   {
    "duration": 7,
    "start_time": "2023-08-01T04:17:42.588Z"
   },
   {
    "duration": 5,
    "start_time": "2023-08-01T04:17:43.040Z"
   },
   {
    "duration": 7,
    "start_time": "2023-08-01T04:17:43.421Z"
   },
   {
    "duration": 106609,
    "start_time": "2023-08-01T04:17:43.960Z"
   },
   {
    "duration": 127620,
    "start_time": "2023-08-01T04:19:32.296Z"
   },
   {
    "duration": 8,
    "start_time": "2023-08-01T04:21:46.433Z"
   },
   {
    "duration": 5,
    "start_time": "2023-08-01T04:21:46.836Z"
   },
   {
    "duration": 11,
    "start_time": "2023-08-01T04:21:47.214Z"
   },
   {
    "duration": 7728,
    "start_time": "2023-08-01T04:21:47.615Z"
   },
   {
    "duration": 10,
    "start_time": "2023-08-01T04:22:25.193Z"
   },
   {
    "duration": 6,
    "start_time": "2023-08-01T04:22:25.630Z"
   },
   {
    "duration": 11,
    "start_time": "2023-08-01T04:22:25.939Z"
   },
   {
    "duration": 175410,
    "start_time": "2023-08-01T04:22:26.306Z"
   },
   {
    "duration": 0,
    "start_time": "2023-08-01T04:25:21.719Z"
   },
   {
    "duration": 10,
    "start_time": "2023-08-01T04:25:29.846Z"
   },
   {
    "duration": 7,
    "start_time": "2023-08-01T04:28:09.130Z"
   },
   {
    "duration": 18625,
    "start_time": "2023-08-01T04:28:09.616Z"
   },
   {
    "duration": 11,
    "start_time": "2023-08-01T04:28:33.609Z"
   },
   {
    "duration": 3966,
    "start_time": "2023-08-01T04:28:33.982Z"
   },
   {
    "duration": 8,
    "start_time": "2023-08-01T04:28:39.532Z"
   },
   {
    "duration": 32207,
    "start_time": "2023-08-01T04:28:41.631Z"
   },
   {
    "duration": 8,
    "start_time": "2023-08-01T04:29:17.037Z"
   },
   {
    "duration": 5,
    "start_time": "2023-08-01T04:29:17.682Z"
   },
   {
    "duration": 8,
    "start_time": "2023-08-01T04:29:18.039Z"
   },
   {
    "duration": 55555,
    "start_time": "2023-08-01T04:29:18.390Z"
   },
   {
    "duration": 369,
    "start_time": "2023-08-01T04:30:54.861Z"
   },
   {
    "duration": 5,
    "start_time": "2023-08-01T04:30:55.270Z"
   },
   {
    "duration": 7,
    "start_time": "2023-08-01T04:30:55.660Z"
   },
   {
    "duration": 6650,
    "start_time": "2023-08-01T04:30:56.083Z"
   },
   {
    "duration": 5,
    "start_time": "2023-08-01T04:31:07.590Z"
   },
   {
    "duration": 8,
    "start_time": "2023-08-01T04:31:07.929Z"
   },
   {
    "duration": 118,
    "start_time": "2023-08-01T04:31:08.261Z"
   },
   {
    "duration": 6,
    "start_time": "2023-08-01T04:31:08.652Z"
   },
   {
    "duration": 7,
    "start_time": "2023-08-01T04:31:09.160Z"
   },
   {
    "duration": 8,
    "start_time": "2023-08-01T04:31:23.288Z"
   },
   {
    "duration": 5,
    "start_time": "2023-08-01T04:31:23.631Z"
   },
   {
    "duration": 9,
    "start_time": "2023-08-01T04:31:24.012Z"
   },
   {
    "duration": 35546,
    "start_time": "2023-08-01T04:31:24.361Z"
   },
   {
    "duration": 6,
    "start_time": "2023-08-01T04:34:17.780Z"
   },
   {
    "duration": 11,
    "start_time": "2023-08-01T04:34:18.189Z"
   },
   {
    "duration": 7,
    "start_time": "2023-08-01T04:34:18.550Z"
   },
   {
    "duration": 5,
    "start_time": "2023-08-01T04:34:18.961Z"
   },
   {
    "duration": 7,
    "start_time": "2023-08-01T04:34:19.378Z"
   },
   {
    "duration": 70202,
    "start_time": "2023-08-01T04:34:20.013Z"
   },
   {
    "duration": 585161,
    "start_time": "2023-08-01T04:38:02.543Z"
   },
   {
    "duration": 313483,
    "start_time": "2023-08-01T05:05:00.675Z"
   },
   {
    "duration": 7,
    "start_time": "2023-08-01T05:10:20.528Z"
   },
   {
    "duration": 15,
    "start_time": "2023-08-01T05:10:20.797Z"
   },
   {
    "duration": 6,
    "start_time": "2023-08-01T05:10:21.072Z"
   },
   {
    "duration": 7,
    "start_time": "2023-08-01T05:10:21.433Z"
   },
   {
    "duration": 1392379,
    "start_time": "2023-08-01T05:10:21.853Z"
   },
   {
    "duration": 3,
    "start_time": "2023-08-01T05:48:03.674Z"
   },
   {
    "duration": 3,
    "start_time": "2023-08-01T05:48:12.644Z"
   },
   {
    "duration": 4,
    "start_time": "2023-08-01T05:48:18.434Z"
   },
   {
    "duration": 4,
    "start_time": "2023-08-01T05:48:23.721Z"
   },
   {
    "duration": 3,
    "start_time": "2023-08-01T05:50:41.403Z"
   },
   {
    "duration": 4,
    "start_time": "2023-08-01T05:50:47.594Z"
   },
   {
    "duration": 14,
    "start_time": "2023-08-01T05:50:55.895Z"
   },
   {
    "duration": 10,
    "start_time": "2023-08-01T05:51:00.924Z"
   },
   {
    "duration": 11,
    "start_time": "2023-08-01T05:51:22.735Z"
   },
   {
    "duration": 12,
    "start_time": "2023-08-01T05:52:45.614Z"
   },
   {
    "duration": 168,
    "start_time": "2023-08-01T05:52:52.844Z"
   },
   {
    "duration": 11,
    "start_time": "2023-08-01T05:52:55.052Z"
   },
   {
    "duration": 4,
    "start_time": "2023-08-01T05:52:58.925Z"
   },
   {
    "duration": 11,
    "start_time": "2023-08-01T05:53:36.484Z"
   },
   {
    "duration": 3,
    "start_time": "2023-08-01T05:54:28.800Z"
   },
   {
    "duration": 4,
    "start_time": "2023-08-01T05:54:34.345Z"
   },
   {
    "duration": 1,
    "start_time": "2023-08-01T05:55:31.565Z"
   },
   {
    "duration": 119,
    "start_time": "2023-08-01T05:55:43.514Z"
   },
   {
    "duration": 4,
    "start_time": "2023-08-01T05:57:00.026Z"
   },
   {
    "duration": 11,
    "start_time": "2023-08-01T05:57:02.214Z"
   },
   {
    "duration": 75735,
    "start_time": "2023-08-01T05:57:12.085Z"
   },
   {
    "duration": 8,
    "start_time": "2023-08-01T05:58:33.554Z"
   },
   {
    "duration": 17,
    "start_time": "2023-08-01T05:58:38.403Z"
   },
   {
    "duration": 11,
    "start_time": "2023-08-01T05:59:06.155Z"
   },
   {
    "duration": 5,
    "start_time": "2023-08-01T05:59:06.758Z"
   },
   {
    "duration": 3,
    "start_time": "2023-08-01T05:59:07.122Z"
   },
   {
    "duration": 3,
    "start_time": "2023-08-01T05:59:07.532Z"
   },
   {
    "duration": 4,
    "start_time": "2023-08-01T05:59:07.975Z"
   },
   {
    "duration": 87457,
    "start_time": "2023-08-01T05:59:08.355Z"
   },
   {
    "duration": 8,
    "start_time": "2023-08-01T06:00:47.218Z"
   },
   {
    "duration": 66601,
    "start_time": "2023-08-01T06:00:49.321Z"
   },
   {
    "duration": 152157,
    "start_time": "2023-08-01T06:02:18.242Z"
   },
   {
    "duration": 0,
    "start_time": "2023-08-01T06:04:50.400Z"
   },
   {
    "duration": 0,
    "start_time": "2023-08-01T06:04:50.402Z"
   },
   {
    "duration": 4,
    "start_time": "2023-08-01T06:05:09.285Z"
   },
   {
    "duration": 9,
    "start_time": "2023-08-01T06:06:09.530Z"
   },
   {
    "duration": 3,
    "start_time": "2023-08-01T06:06:10.995Z"
   },
   {
    "duration": 2,
    "start_time": "2023-08-01T06:06:11.343Z"
   },
   {
    "duration": 2,
    "start_time": "2023-08-01T06:06:11.886Z"
   },
   {
    "duration": 5,
    "start_time": "2023-08-01T06:06:12.296Z"
   },
   {
    "duration": 67544,
    "start_time": "2023-08-01T06:06:12.856Z"
   },
   {
    "duration": 10,
    "start_time": "2023-08-01T06:07:20.402Z"
   },
   {
    "duration": 7,
    "start_time": "2023-08-01T06:07:21.704Z"
   },
   {
    "duration": 7,
    "start_time": "2023-08-01T06:07:32.089Z"
   },
   {
    "duration": 62075,
    "start_time": "2023-08-01T06:07:38.136Z"
   },
   {
    "duration": 12,
    "start_time": "2023-08-01T06:11:14.902Z"
   },
   {
    "duration": 4,
    "start_time": "2023-08-01T06:11:20.664Z"
   },
   {
    "duration": 182,
    "start_time": "2023-08-01T06:11:23.345Z"
   },
   {
    "duration": 35,
    "start_time": "2023-08-01T06:13:24.727Z"
   },
   {
    "duration": 31,
    "start_time": "2023-08-01T06:13:29.216Z"
   },
   {
    "duration": 36,
    "start_time": "2023-08-01T06:13:32.427Z"
   },
   {
    "duration": 75,
    "start_time": "2023-08-01T06:13:35.926Z"
   },
   {
    "duration": 35,
    "start_time": "2023-08-01T06:13:39.364Z"
   },
   {
    "duration": 36,
    "start_time": "2023-08-01T06:13:42.815Z"
   },
   {
    "duration": 21,
    "start_time": "2023-08-01T06:28:38.797Z"
   },
   {
    "duration": 7,
    "start_time": "2023-08-01T06:28:43.283Z"
   },
   {
    "duration": 105,
    "start_time": "2023-08-01T06:28:45.024Z"
   },
   {
    "duration": 10,
    "start_time": "2023-08-01T06:29:08.219Z"
   },
   {
    "duration": 4,
    "start_time": "2023-08-01T06:29:08.764Z"
   },
   {
    "duration": 7,
    "start_time": "2023-08-01T06:29:09.019Z"
   },
   {
    "duration": 49529,
    "start_time": "2023-08-01T06:29:09.389Z"
   },
   {
    "duration": 13,
    "start_time": "2023-08-01T06:30:52.595Z"
   },
   {
    "duration": 4,
    "start_time": "2023-08-01T06:30:53.093Z"
   },
   {
    "duration": 8,
    "start_time": "2023-08-01T06:30:53.466Z"
   },
   {
    "duration": 8486,
    "start_time": "2023-08-01T06:30:53.954Z"
   },
   {
    "duration": 8,
    "start_time": "2023-08-01T06:32:25.446Z"
   },
   {
    "duration": 65360,
    "start_time": "2023-08-01T06:32:25.874Z"
   },
   {
    "duration": 7,
    "start_time": "2023-08-01T06:33:40.625Z"
   },
   {
    "duration": 15940,
    "start_time": "2023-08-01T06:33:40.974Z"
   },
   {
    "duration": 8,
    "start_time": "2023-08-01T06:34:06.982Z"
   },
   {
    "duration": 64882,
    "start_time": "2023-08-01T06:34:07.364Z"
   },
   {
    "duration": 9,
    "start_time": "2023-08-01T06:35:26.158Z"
   },
   {
    "duration": 76864,
    "start_time": "2023-08-01T06:35:26.559Z"
   },
   {
    "duration": 8,
    "start_time": "2023-08-01T06:37:29.461Z"
   },
   {
    "duration": 120143,
    "start_time": "2023-08-01T06:37:29.995Z"
   },
   {
    "duration": 12,
    "start_time": "2023-08-01T06:40:07.005Z"
   },
   {
    "duration": 17203,
    "start_time": "2023-08-01T06:40:07.335Z"
   },
   {
    "duration": 18,
    "start_time": "2023-08-01T06:40:40.853Z"
   },
   {
    "duration": 15,
    "start_time": "2023-08-01T06:40:47.194Z"
   },
   {
    "duration": 5,
    "start_time": "2023-08-01T06:40:51.063Z"
   },
   {
    "duration": 18,
    "start_time": "2023-08-01T06:40:54.209Z"
   },
   {
    "duration": 20,
    "start_time": "2023-08-01T06:41:02.545Z"
   },
   {
    "duration": 14,
    "start_time": "2023-08-01T06:41:10.362Z"
   },
   {
    "duration": 17,
    "start_time": "2023-08-01T06:42:03.679Z"
   },
   {
    "duration": 4,
    "start_time": "2023-08-01T06:42:10.215Z"
   },
   {
    "duration": 102189,
    "start_time": "2023-08-01T06:42:10.416Z"
   },
   {
    "duration": 8,
    "start_time": "2023-08-01T06:44:04.776Z"
   },
   {
    "duration": 32574,
    "start_time": "2023-08-01T06:44:05.351Z"
   },
   {
    "duration": 8,
    "start_time": "2023-08-01T06:44:39.735Z"
   },
   {
    "duration": 131528,
    "start_time": "2023-08-01T06:44:40.031Z"
   },
   {
    "duration": 8,
    "start_time": "2023-08-01T06:46:54.843Z"
   },
   {
    "duration": 394515,
    "start_time": "2023-08-01T06:46:55.421Z"
   },
   {
    "duration": 7,
    "start_time": "2023-08-01T06:53:33.035Z"
   },
   {
    "duration": 162679,
    "start_time": "2023-08-01T06:53:33.543Z"
   },
   {
    "duration": 9,
    "start_time": "2023-08-01T06:56:17.518Z"
   },
   {
    "duration": 98104,
    "start_time": "2023-08-01T06:56:17.735Z"
   },
   {
    "duration": 9,
    "start_time": "2023-08-01T06:59:55.940Z"
   },
   {
    "duration": 11,
    "start_time": "2023-08-01T07:00:44.943Z"
   },
   {
    "duration": 10,
    "start_time": "2023-08-01T07:01:02.072Z"
   },
   {
    "duration": 9,
    "start_time": "2023-08-01T07:01:07.864Z"
   },
   {
    "duration": 14,
    "start_time": "2023-08-01T07:01:16.224Z"
   },
   {
    "duration": 25,
    "start_time": "2023-08-01T07:01:39.543Z"
   },
   {
    "duration": 23,
    "start_time": "2023-08-01T07:01:53.630Z"
   },
   {
    "duration": 9,
    "start_time": "2023-08-01T07:02:07.657Z"
   },
   {
    "duration": 255,
    "start_time": "2023-08-01T07:02:12.857Z"
   },
   {
    "duration": 4981,
    "start_time": "2023-08-01T07:02:13.213Z"
   },
   {
    "duration": 39,
    "start_time": "2023-08-01T07:02:18.196Z"
   },
   {
    "duration": 10,
    "start_time": "2023-08-01T07:02:18.237Z"
   },
   {
    "duration": 273,
    "start_time": "2023-08-01T07:02:31.472Z"
   },
   {
    "duration": 4934,
    "start_time": "2023-08-01T07:02:31.763Z"
   },
   {
    "duration": 33,
    "start_time": "2023-08-01T07:02:36.699Z"
   },
   {
    "duration": 10,
    "start_time": "2023-08-01T07:02:36.734Z"
   },
   {
    "duration": 16,
    "start_time": "2023-08-01T07:02:50.397Z"
   },
   {
    "duration": 8,
    "start_time": "2023-08-01T07:02:50.876Z"
   },
   {
    "duration": 9,
    "start_time": "2023-08-01T07:02:51.210Z"
   },
   {
    "duration": 4,
    "start_time": "2023-08-01T07:02:51.618Z"
   },
   {
    "duration": 9,
    "start_time": "2023-08-01T07:02:51.980Z"
   },
   {
    "duration": 238949,
    "start_time": "2023-08-01T07:02:52.608Z"
   },
   {
    "duration": 8,
    "start_time": "2023-08-01T07:06:57.817Z"
   },
   {
    "duration": 23806,
    "start_time": "2023-08-01T07:06:59.234Z"
   },
   {
    "duration": 8,
    "start_time": "2023-08-01T07:07:36.637Z"
   },
   {
    "duration": 1678176,
    "start_time": "2023-08-01T07:07:37.033Z"
   },
   {
    "duration": 5,
    "start_time": "2023-08-01T07:36:26.482Z"
   },
   {
    "duration": 3,
    "start_time": "2023-08-01T07:37:23.581Z"
   },
   {
    "duration": 4,
    "start_time": "2023-08-01T07:37:33.516Z"
   },
   {
    "duration": 3,
    "start_time": "2023-08-01T07:37:43.225Z"
   },
   {
    "duration": 10,
    "start_time": "2023-08-01T07:38:00.219Z"
   },
   {
    "duration": 12,
    "start_time": "2023-08-01T07:38:03.514Z"
   },
   {
    "duration": 0,
    "start_time": "2023-08-01T07:38:21.951Z"
   },
   {
    "duration": 0,
    "start_time": "2023-08-01T07:38:21.953Z"
   },
   {
    "duration": 5,
    "start_time": "2023-08-01T07:38:23.513Z"
   },
   {
    "duration": 5911,
    "start_time": "2023-08-01T07:38:23.798Z"
   },
   {
    "duration": 241,
    "start_time": "2023-08-01T07:38:29.712Z"
   },
   {
    "duration": 14,
    "start_time": "2023-08-01T07:39:22.749Z"
   },
   {
    "duration": 12420,
    "start_time": "2023-08-01T07:39:35.710Z"
   },
   {
    "duration": 34049,
    "start_time": "2023-08-01T07:39:54.957Z"
   },
   {
    "duration": 7,
    "start_time": "2023-08-01T07:40:52.298Z"
   },
   {
    "duration": 44325,
    "start_time": "2023-08-01T07:40:52.585Z"
   },
   {
    "duration": 234,
    "start_time": "2023-08-01T07:41:36.918Z"
   },
   {
    "duration": 4,
    "start_time": "2023-08-01T07:41:53.964Z"
   },
   {
    "duration": 5045,
    "start_time": "2023-08-01T07:41:54.265Z"
   },
   {
    "duration": 3,
    "start_time": "2023-08-01T07:42:07.226Z"
   },
   {
    "duration": 74747,
    "start_time": "2023-08-01T07:42:07.669Z"
   },
   {
    "duration": 225,
    "start_time": "2023-08-01T07:43:31.159Z"
   },
   {
    "duration": 9,
    "start_time": "2023-08-01T07:43:46.714Z"
   },
   {
    "duration": 4425,
    "start_time": "2023-08-01T07:43:53.210Z"
   },
   {
    "duration": 4,
    "start_time": "2023-08-01T07:43:59.690Z"
   },
   {
    "duration": 102120,
    "start_time": "2023-08-01T07:43:59.982Z"
   },
   {
    "duration": 209,
    "start_time": "2023-08-01T07:45:50.654Z"
   },
   {
    "duration": 31,
    "start_time": "2023-08-01T08:09:47.812Z"
   },
   {
    "duration": 30,
    "start_time": "2023-08-01T08:10:15.435Z"
   },
   {
    "duration": 29,
    "start_time": "2023-08-01T08:10:25.367Z"
   },
   {
    "duration": 39,
    "start_time": "2023-08-01T08:10:34.874Z"
   },
   {
    "duration": 37,
    "start_time": "2023-08-01T08:10:41.708Z"
   },
   {
    "duration": 30,
    "start_time": "2023-08-01T08:10:57.615Z"
   },
   {
    "duration": 26,
    "start_time": "2023-08-01T08:11:07.235Z"
   },
   {
    "duration": 28,
    "start_time": "2023-08-01T08:11:21.926Z"
   },
   {
    "duration": 31,
    "start_time": "2023-08-01T08:11:28.274Z"
   },
   {
    "duration": 36,
    "start_time": "2023-08-01T08:11:30.912Z"
   },
   {
    "duration": 28,
    "start_time": "2023-08-01T08:11:33.634Z"
   },
   {
    "duration": 100,
    "start_time": "2023-08-01T08:11:36.106Z"
   },
   {
    "duration": 39,
    "start_time": "2023-08-01T08:17:07.363Z"
   },
   {
    "duration": 28,
    "start_time": "2023-08-01T08:17:10.162Z"
   },
   {
    "duration": 38,
    "start_time": "2023-08-01T08:17:15.583Z"
   },
   {
    "duration": 34,
    "start_time": "2023-08-01T08:17:18.779Z"
   },
   {
    "duration": 28,
    "start_time": "2023-08-01T08:17:27.645Z"
   },
   {
    "duration": 30,
    "start_time": "2023-08-01T08:17:33.452Z"
   },
   {
    "duration": 37,
    "start_time": "2023-08-01T08:17:39.274Z"
   },
   {
    "duration": 38,
    "start_time": "2023-08-01T08:17:44.533Z"
   },
   {
    "duration": 44,
    "start_time": "2023-08-01T08:17:51.306Z"
   },
   {
    "duration": 41,
    "start_time": "2023-08-01T08:17:53.892Z"
   },
   {
    "duration": 29,
    "start_time": "2023-08-01T08:17:58.849Z"
   },
   {
    "duration": 37,
    "start_time": "2023-08-01T08:18:02.272Z"
   },
   {
    "duration": 37,
    "start_time": "2023-08-01T08:18:04.792Z"
   },
   {
    "duration": 30,
    "start_time": "2023-08-01T08:18:11.317Z"
   },
   {
    "duration": 3086,
    "start_time": "2023-08-01T08:18:53.255Z"
   },
   {
    "duration": 2340,
    "start_time": "2023-08-01T08:18:56.343Z"
   },
   {
    "duration": 4,
    "start_time": "2023-08-01T08:18:58.685Z"
   },
   {
    "duration": 24881,
    "start_time": "2023-08-01T08:18:58.690Z"
   },
   {
    "duration": 218,
    "start_time": "2023-08-01T08:19:23.574Z"
   },
   {
    "duration": 54,
    "start_time": "2023-08-01T08:19:23.794Z"
   },
   {
    "duration": 44,
    "start_time": "2023-08-01T08:19:23.849Z"
   },
   {
    "duration": 43,
    "start_time": "2023-08-01T08:19:23.896Z"
   },
   {
    "duration": 330,
    "start_time": "2023-08-01T08:19:23.940Z"
   },
   {
    "duration": 639,
    "start_time": "2023-08-01T08:19:24.271Z"
   },
   {
    "duration": 673,
    "start_time": "2023-08-01T08:19:24.920Z"
   },
   {
    "duration": 414,
    "start_time": "2023-08-01T08:19:25.594Z"
   },
   {
    "duration": 605,
    "start_time": "2023-08-01T08:19:26.015Z"
   },
   {
    "duration": 2,
    "start_time": "2023-08-01T08:19:26.623Z"
   },
   {
    "duration": 12318,
    "start_time": "2023-08-01T08:19:26.627Z"
   },
   {
    "duration": 81,
    "start_time": "2023-08-01T08:19:38.946Z"
   },
   {
    "duration": 113,
    "start_time": "2023-08-01T08:19:39.028Z"
   },
   {
    "duration": 222,
    "start_time": "2023-08-01T08:19:39.143Z"
   },
   {
    "duration": 524,
    "start_time": "2023-08-01T08:19:39.366Z"
   },
   {
    "duration": 660,
    "start_time": "2023-08-01T08:19:39.891Z"
   },
   {
    "duration": 226,
    "start_time": "2023-08-01T08:19:40.552Z"
   },
   {
    "duration": 2429,
    "start_time": "2023-08-01T08:23:42.669Z"
   },
   {
    "duration": 2598,
    "start_time": "2023-08-01T08:23:45.103Z"
   },
   {
    "duration": 9,
    "start_time": "2023-08-01T08:23:47.712Z"
   },
   {
    "duration": 25654,
    "start_time": "2023-08-01T08:23:47.723Z"
   },
   {
    "duration": 265,
    "start_time": "2023-08-01T08:24:13.379Z"
   },
   {
    "duration": 85,
    "start_time": "2023-08-01T08:24:13.646Z"
   },
   {
    "duration": 55,
    "start_time": "2023-08-01T08:24:13.733Z"
   },
   {
    "duration": 55,
    "start_time": "2023-08-01T08:24:13.790Z"
   },
   {
    "duration": 335,
    "start_time": "2023-08-01T08:24:13.846Z"
   },
   {
    "duration": 696,
    "start_time": "2023-08-01T08:24:14.183Z"
   },
   {
    "duration": 663,
    "start_time": "2023-08-01T08:24:14.880Z"
   },
   {
    "duration": 464,
    "start_time": "2023-08-01T08:24:15.545Z"
   },
   {
    "duration": 678,
    "start_time": "2023-08-01T08:24:16.013Z"
   },
   {
    "duration": 5,
    "start_time": "2023-08-01T08:24:16.700Z"
   },
   {
    "duration": 11788,
    "start_time": "2023-08-01T08:24:16.707Z"
   },
   {
    "duration": 82,
    "start_time": "2023-08-01T08:24:28.497Z"
   },
   {
    "duration": 142,
    "start_time": "2023-08-01T08:24:28.581Z"
   },
   {
    "duration": 291,
    "start_time": "2023-08-01T08:24:28.726Z"
   },
   {
    "duration": 602,
    "start_time": "2023-08-01T08:24:29.018Z"
   },
   {
    "duration": 768,
    "start_time": "2023-08-01T08:24:29.622Z"
   },
   {
    "duration": 259,
    "start_time": "2023-08-01T08:24:30.392Z"
   },
   {
    "duration": 221251,
    "start_time": "2023-08-01T08:24:30.653Z"
   },
   {
    "duration": 55,
    "start_time": "2023-08-01T08:28:11.906Z"
   },
   {
    "duration": 475476,
    "start_time": "2023-08-01T08:28:11.963Z"
   },
   {
    "duration": 53,
    "start_time": "2023-08-01T08:36:07.440Z"
   },
   {
    "duration": 341,
    "start_time": "2023-08-01T08:36:07.494Z"
   },
   {
    "duration": 4727,
    "start_time": "2023-08-01T08:36:07.837Z"
   },
   {
    "duration": 33,
    "start_time": "2023-08-01T08:36:12.566Z"
   },
   {
    "duration": 24,
    "start_time": "2023-08-01T08:36:12.606Z"
   },
   {
    "duration": 7,
    "start_time": "2023-08-01T08:36:12.632Z"
   },
   {
    "duration": 11,
    "start_time": "2023-08-01T08:36:12.640Z"
   },
   {
    "duration": 6478,
    "start_time": "2023-08-01T08:36:12.652Z"
   },
   {
    "duration": 108,
    "start_time": "2023-08-01T08:36:19.132Z"
   },
   {
    "duration": 3,
    "start_time": "2023-08-01T08:36:19.241Z"
   },
   {
    "duration": 22,
    "start_time": "2023-08-01T08:36:19.299Z"
   },
   {
    "duration": 14,
    "start_time": "2023-08-01T08:36:19.322Z"
   },
   {
    "duration": 7549,
    "start_time": "2023-08-01T08:36:19.337Z"
   },
   {
    "duration": 6,
    "start_time": "2023-08-01T08:36:26.887Z"
   },
   {
    "duration": 35,
    "start_time": "2023-08-01T08:36:26.894Z"
   },
   {
    "duration": 15,
    "start_time": "2023-08-01T08:36:26.931Z"
   },
   {
    "duration": 13,
    "start_time": "2023-08-01T08:36:26.950Z"
   },
   {
    "duration": 7,
    "start_time": "2023-08-01T08:36:26.965Z"
   },
   {
    "duration": 12,
    "start_time": "2023-08-01T08:36:26.974Z"
   },
   {
    "duration": 8,
    "start_time": "2023-08-01T08:36:26.987Z"
   },
   {
    "duration": 98808,
    "start_time": "2023-08-01T08:36:26.996Z"
   },
   {
    "duration": 290,
    "start_time": "2023-08-01T08:38:05.806Z"
   },
   {
    "duration": 137,
    "start_time": "2023-08-01T08:38:06.098Z"
   },
   {
    "duration": 37,
    "start_time": "2023-08-01T09:24:32.195Z"
   },
   {
    "duration": 28,
    "start_time": "2023-08-01T09:24:39.352Z"
   },
   {
    "duration": 38,
    "start_time": "2023-08-01T09:24:41.695Z"
   },
   {
    "duration": 26,
    "start_time": "2023-08-01T09:24:44.636Z"
   },
   {
    "duration": 36,
    "start_time": "2023-08-01T09:24:48.485Z"
   },
   {
    "duration": 26,
    "start_time": "2023-08-01T09:24:52.452Z"
   },
   {
    "duration": 26,
    "start_time": "2023-08-01T09:24:56.343Z"
   },
   {
    "duration": 32,
    "start_time": "2023-08-01T09:24:59.383Z"
   },
   {
    "duration": 27,
    "start_time": "2023-08-01T09:25:01.537Z"
   },
   {
    "duration": 37,
    "start_time": "2023-08-01T09:25:04.400Z"
   },
   {
    "duration": 31,
    "start_time": "2023-08-01T09:25:09.477Z"
   },
   {
    "duration": 39,
    "start_time": "2023-08-01T09:25:13.770Z"
   },
   {
    "duration": 30,
    "start_time": "2023-08-01T09:25:17.358Z"
   },
   {
    "duration": 33,
    "start_time": "2023-08-01T09:25:20.380Z"
   },
   {
    "duration": 34,
    "start_time": "2023-08-01T09:25:25.075Z"
   },
   {
    "duration": 28,
    "start_time": "2023-08-01T09:25:30.543Z"
   },
   {
    "duration": 28,
    "start_time": "2023-08-01T09:25:33.343Z"
   },
   {
    "duration": 28,
    "start_time": "2023-08-01T09:25:36.450Z"
   },
   {
    "duration": 39,
    "start_time": "2023-08-01T09:25:43.887Z"
   },
   {
    "duration": 33,
    "start_time": "2023-08-01T09:25:49.918Z"
   },
   {
    "duration": 29,
    "start_time": "2023-08-01T09:25:52.344Z"
   },
   {
    "duration": 29,
    "start_time": "2023-08-01T09:28:57.460Z"
   },
   {
    "duration": 28,
    "start_time": "2023-08-01T09:29:02.747Z"
   },
   {
    "duration": 30,
    "start_time": "2023-08-01T09:29:06.769Z"
   },
   {
    "duration": 28,
    "start_time": "2023-08-01T09:29:09.447Z"
   },
   {
    "duration": 38,
    "start_time": "2023-08-01T09:29:13.297Z"
   },
   {
    "duration": 29,
    "start_time": "2023-08-01T09:29:18.416Z"
   },
   {
    "duration": 29,
    "start_time": "2023-08-01T09:29:21.639Z"
   },
   {
    "duration": 34,
    "start_time": "2023-08-01T09:29:24.514Z"
   },
   {
    "duration": 171,
    "start_time": "2023-08-01T09:30:22.886Z"
   },
   {
    "duration": 2,
    "start_time": "2023-08-01T09:30:26.769Z"
   },
   {
    "duration": 3,
    "start_time": "2023-08-01T09:30:46.336Z"
   },
   {
    "duration": 3,
    "start_time": "2023-08-01T09:30:59.315Z"
   },
   {
    "duration": 2,
    "start_time": "2023-08-01T09:31:14.314Z"
   },
   {
    "duration": 2,
    "start_time": "2023-08-01T09:31:35.266Z"
   },
   {
    "duration": 7,
    "start_time": "2023-08-01T09:31:35.607Z"
   },
   {
    "duration": 4385,
    "start_time": "2023-08-01T09:31:36.045Z"
   },
   {
    "duration": 191,
    "start_time": "2023-08-01T09:31:40.432Z"
   },
   {
    "duration": 2,
    "start_time": "2023-08-01T09:31:40.625Z"
   },
   {
    "duration": 35,
    "start_time": "2023-08-01T09:31:40.629Z"
   },
   {
    "duration": 35,
    "start_time": "2023-08-01T09:31:40.665Z"
   },
   {
    "duration": 16,
    "start_time": "2023-08-01T09:31:40.706Z"
   },
   {
    "duration": 7425,
    "start_time": "2023-08-01T09:31:40.723Z"
   },
   {
    "duration": 3,
    "start_time": "2023-08-01T09:31:48.150Z"
   },
   {
    "duration": 17,
    "start_time": "2023-08-01T09:31:48.155Z"
   },
   {
    "duration": 9,
    "start_time": "2023-08-01T09:31:48.174Z"
   },
   {
    "duration": 33,
    "start_time": "2023-08-01T09:31:48.200Z"
   },
   {
    "duration": 9,
    "start_time": "2023-08-01T09:31:48.235Z"
   },
   {
    "duration": 12,
    "start_time": "2023-08-01T09:31:48.245Z"
   },
   {
    "duration": 11,
    "start_time": "2023-08-01T09:31:48.258Z"
   },
   {
    "duration": 5,
    "start_time": "2023-08-01T09:31:48.270Z"
   },
   {
    "duration": 144356,
    "start_time": "2023-08-01T09:31:48.277Z"
   },
   {
    "duration": 283,
    "start_time": "2023-08-01T09:34:12.635Z"
   },
   {
    "duration": 29,
    "start_time": "2023-08-01T09:34:12.919Z"
   },
   {
    "duration": 18,
    "start_time": "2023-08-01T09:34:12.950Z"
   },
   {
    "duration": 40,
    "start_time": "2023-08-01T09:34:12.970Z"
   },
   {
    "duration": 28,
    "start_time": "2023-08-01T09:52:42.069Z"
   },
   {
    "duration": 32,
    "start_time": "2023-08-01T09:52:48.025Z"
   },
   {
    "duration": 36,
    "start_time": "2023-08-01T09:52:50.660Z"
   },
   {
    "duration": 41,
    "start_time": "2023-08-01T09:52:53.485Z"
   },
   {
    "duration": 44,
    "start_time": "2023-08-01T09:52:56.385Z"
   },
   {
    "duration": 30,
    "start_time": "2023-08-01T09:53:00.336Z"
   },
   {
    "duration": 30,
    "start_time": "2023-08-01T09:53:04.475Z"
   },
   {
    "duration": 36,
    "start_time": "2023-08-01T09:53:09.413Z"
   },
   {
    "duration": 38,
    "start_time": "2023-08-01T09:53:13.779Z"
   },
   {
    "duration": 37,
    "start_time": "2023-08-01T09:53:17.982Z"
   },
   {
    "duration": 34,
    "start_time": "2023-08-01T09:53:21.775Z"
   },
   {
    "duration": 139284,
    "start_time": "2023-08-01T09:56:34.845Z"
   },
   {
    "duration": 231,
    "start_time": "2023-08-01T09:58:54.199Z"
   },
   {
    "duration": 215,
    "start_time": "2023-08-01T10:01:16.519Z"
   },
   {
    "duration": 63,
    "start_time": "2023-08-01T10:01:40.470Z"
   },
   {
    "duration": 73,
    "start_time": "2023-08-01T10:06:10.593Z"
   },
   {
    "duration": 30,
    "start_time": "2023-08-01T12:01:42.660Z"
   },
   {
    "duration": 42,
    "start_time": "2023-08-01T12:01:47.331Z"
   },
   {
    "duration": 29,
    "start_time": "2023-08-01T12:01:56.241Z"
   },
   {
    "duration": 30,
    "start_time": "2023-08-01T12:02:01.061Z"
   },
   {
    "duration": 30,
    "start_time": "2023-08-01T12:02:07.270Z"
   },
   {
    "duration": 28,
    "start_time": "2023-08-01T12:02:11.205Z"
   },
   {
    "duration": 27,
    "start_time": "2023-08-01T12:02:13.776Z"
   },
   {
    "duration": 27,
    "start_time": "2023-08-01T12:02:17.594Z"
   },
   {
    "duration": 3,
    "start_time": "2023-08-01T12:02:21.888Z"
   },
   {
    "duration": 7,
    "start_time": "2023-08-01T12:02:22.742Z"
   },
   {
    "duration": 11672,
    "start_time": "2023-08-01T12:02:53.059Z"
   },
   {
    "duration": 10,
    "start_time": "2023-08-01T12:08:27.975Z"
   },
   {
    "duration": 71,
    "start_time": "2023-08-01T12:14:15.233Z"
   },
   {
    "duration": 9,
    "start_time": "2023-08-01T12:14:26.380Z"
   },
   {
    "duration": 59,
    "start_time": "2023-08-01T12:19:09.269Z"
   },
   {
    "duration": 58,
    "start_time": "2023-08-01T12:19:12.953Z"
   },
   {
    "duration": 63,
    "start_time": "2023-08-01T12:19:17.589Z"
   },
   {
    "duration": 71,
    "start_time": "2023-08-01T12:19:21.473Z"
   },
   {
    "duration": 60,
    "start_time": "2023-08-01T12:19:24.767Z"
   },
   {
    "duration": 7,
    "start_time": "2023-08-01T12:22:54.838Z"
   },
   {
    "duration": 29,
    "start_time": "2023-08-01T12:23:14.330Z"
   },
   {
    "duration": 162,
    "start_time": "2023-08-01T12:23:28.978Z"
   },
   {
    "duration": 170,
    "start_time": "2023-08-01T12:23:36.083Z"
   },
   {
    "duration": 11,
    "start_time": "2023-08-01T12:27:07.541Z"
   },
   {
    "duration": 182,
    "start_time": "2023-08-01T12:29:25.645Z"
   },
   {
    "duration": 301,
    "start_time": "2023-08-01T12:29:45.089Z"
   },
   {
    "duration": 225,
    "start_time": "2023-08-01T12:29:53.260Z"
   },
   {
    "duration": 212,
    "start_time": "2023-08-01T12:29:58.435Z"
   },
   {
    "duration": 216,
    "start_time": "2023-08-01T12:30:02.453Z"
   },
   {
    "duration": 235,
    "start_time": "2023-08-01T12:30:08.555Z"
   },
   {
    "duration": 215,
    "start_time": "2023-08-01T12:30:12.278Z"
   },
   {
    "duration": 9,
    "start_time": "2023-08-01T12:36:23.690Z"
   },
   {
    "duration": 15,
    "start_time": "2023-08-01T12:39:04.930Z"
   },
   {
    "duration": 565,
    "start_time": "2023-08-01T12:39:07.686Z"
   },
   {
    "duration": 628,
    "start_time": "2023-08-01T12:39:29.158Z"
   },
   {
    "duration": 891,
    "start_time": "2023-08-01T12:40:40.683Z"
   },
   {
    "duration": 315,
    "start_time": "2023-08-01T12:40:43.081Z"
   },
   {
    "duration": 60,
    "start_time": "2023-08-01T12:40:54.276Z"
   },
   {
    "duration": 73,
    "start_time": "2023-08-01T12:41:06.123Z"
   },
   {
    "duration": 18,
    "start_time": "2023-08-01T12:56:31.083Z"
   },
   {
    "duration": 16,
    "start_time": "2023-08-01T12:56:42.699Z"
   },
   {
    "duration": 127,
    "start_time": "2023-08-01T12:56:50.243Z"
   },
   {
    "duration": 115,
    "start_time": "2023-08-01T13:00:39.073Z"
   },
   {
    "duration": 122,
    "start_time": "2023-08-01T13:01:02.945Z"
   },
   {
    "duration": 146,
    "start_time": "2023-08-01T13:01:08.168Z"
   },
   {
    "duration": 11,
    "start_time": "2023-08-01T13:01:12.925Z"
   },
   {
    "duration": 780,
    "start_time": "2023-08-01T13:01:20.610Z"
   },
   {
    "duration": 801,
    "start_time": "2023-08-01T13:01:31.948Z"
   },
   {
    "duration": 733,
    "start_time": "2023-08-01T13:01:36.510Z"
   },
   {
    "duration": 1018,
    "start_time": "2023-08-01T13:02:18.106Z"
   },
   {
    "duration": 1025,
    "start_time": "2023-08-01T13:02:24.119Z"
   },
   {
    "duration": 833,
    "start_time": "2023-08-01T13:02:28.634Z"
   },
   {
    "duration": 864,
    "start_time": "2023-08-01T13:02:32.735Z"
   },
   {
    "duration": 1187,
    "start_time": "2023-08-01T13:02:38.166Z"
   },
   {
    "duration": 1138,
    "start_time": "2023-08-01T13:02:46.479Z"
   },
   {
    "duration": 1227,
    "start_time": "2023-08-01T13:02:53.768Z"
   },
   {
    "duration": 1069,
    "start_time": "2023-08-01T13:02:56.563Z"
   },
   {
    "duration": 1187,
    "start_time": "2023-08-01T13:03:00.016Z"
   },
   {
    "duration": 937,
    "start_time": "2023-08-01T13:03:05.340Z"
   },
   {
    "duration": 860,
    "start_time": "2023-08-01T13:03:08.469Z"
   },
   {
    "duration": 857,
    "start_time": "2023-08-01T13:03:12.705Z"
   },
   {
    "duration": 119,
    "start_time": "2023-08-01T13:03:18.406Z"
   },
   {
    "duration": 883,
    "start_time": "2023-08-01T13:03:21.449Z"
   },
   {
    "duration": 134,
    "start_time": "2023-08-01T13:04:01.899Z"
   },
   {
    "duration": 107,
    "start_time": "2023-08-01T13:04:05.619Z"
   },
   {
    "duration": 115,
    "start_time": "2023-08-01T13:04:08.479Z"
   },
   {
    "duration": 114,
    "start_time": "2023-08-01T13:04:12.679Z"
   },
   {
    "duration": 120,
    "start_time": "2023-08-01T13:04:17.720Z"
   },
   {
    "duration": 131,
    "start_time": "2023-08-01T13:04:37.697Z"
   },
   {
    "duration": 116,
    "start_time": "2023-08-01T13:04:44.058Z"
   },
   {
    "duration": 483,
    "start_time": "2023-08-01T13:04:50.076Z"
   },
   {
    "duration": 11,
    "start_time": "2023-08-01T13:05:00.323Z"
   },
   {
    "duration": 455,
    "start_time": "2023-08-01T13:05:41.114Z"
   },
   {
    "duration": 490,
    "start_time": "2023-08-01T13:05:44.693Z"
   },
   {
    "duration": 747,
    "start_time": "2023-08-01T13:06:10.299Z"
   },
   {
    "duration": 544,
    "start_time": "2023-08-01T13:06:50.211Z"
   },
   {
    "duration": 504,
    "start_time": "2023-08-01T13:07:01.827Z"
   },
   {
    "duration": 499,
    "start_time": "2023-08-01T13:07:08.709Z"
   },
   {
    "duration": 121,
    "start_time": "2023-08-01T13:08:54.906Z"
   },
   {
    "duration": 127,
    "start_time": "2023-08-01T13:09:01.137Z"
   },
   {
    "duration": 255,
    "start_time": "2023-08-01T13:09:15.744Z"
   },
   {
    "duration": 241,
    "start_time": "2023-08-01T13:09:22.873Z"
   },
   {
    "duration": 207,
    "start_time": "2023-08-01T13:10:56.171Z"
   },
   {
    "duration": 217,
    "start_time": "2023-08-01T13:11:09.044Z"
   },
   {
    "duration": 778,
    "start_time": "2023-08-01T13:11:17.626Z"
   },
   {
    "duration": 11,
    "start_time": "2023-08-01T13:12:00.944Z"
   },
   {
    "duration": 382,
    "start_time": "2023-08-01T13:12:28.759Z"
   },
   {
    "duration": 273,
    "start_time": "2023-08-01T13:14:08.794Z"
   },
   {
    "duration": 486,
    "start_time": "2023-08-01T13:14:17.006Z"
   },
   {
    "duration": 771,
    "start_time": "2023-08-01T13:14:37.679Z"
   },
   {
    "duration": 747,
    "start_time": "2023-08-01T13:14:50.171Z"
   },
   {
    "duration": 1001,
    "start_time": "2023-08-01T13:14:56.304Z"
   },
   {
    "duration": 630,
    "start_time": "2023-08-01T13:17:13.316Z"
   },
   {
    "duration": 777,
    "start_time": "2023-08-01T13:17:37.551Z"
   },
   {
    "duration": 98,
    "start_time": "2023-08-01T13:18:26.584Z"
   },
   {
    "duration": 782,
    "start_time": "2023-08-01T13:18:37.652Z"
   },
   {
    "duration": 788,
    "start_time": "2023-08-01T13:18:55.884Z"
   },
   {
    "duration": 851,
    "start_time": "2023-08-01T13:19:05.724Z"
   },
   {
    "duration": 765,
    "start_time": "2023-08-01T13:19:52.249Z"
   },
   {
    "duration": 421,
    "start_time": "2023-08-01T13:20:36.154Z"
   },
   {
    "duration": 890,
    "start_time": "2023-08-01T13:20:48.565Z"
   },
   {
    "duration": 1150,
    "start_time": "2023-08-01T13:20:54.071Z"
   },
   {
    "duration": 911,
    "start_time": "2023-08-01T13:21:01.231Z"
   },
   {
    "duration": 716,
    "start_time": "2023-08-01T13:21:09.527Z"
   },
   {
    "duration": 103,
    "start_time": "2023-08-01T13:22:36.731Z"
   },
   {
    "duration": 672,
    "start_time": "2023-08-01T13:22:50.677Z"
   },
   {
    "duration": 94,
    "start_time": "2023-08-01T13:23:20.492Z"
   },
   {
    "duration": 74,
    "start_time": "2023-08-01T13:23:58.491Z"
   },
   {
    "duration": 904,
    "start_time": "2023-08-01T13:24:16.257Z"
   },
   {
    "duration": 1179,
    "start_time": "2023-08-01T13:25:39.827Z"
   },
   {
    "duration": 1002,
    "start_time": "2023-08-01T13:25:52.047Z"
   },
   {
    "duration": 901,
    "start_time": "2023-08-01T13:26:00.156Z"
   },
   {
    "duration": 908,
    "start_time": "2023-08-01T13:26:06.606Z"
   },
   {
    "duration": 2221,
    "start_time": "2023-08-01T13:57:14.753Z"
   },
   {
    "duration": 2196,
    "start_time": "2023-08-01T13:57:16.976Z"
   },
   {
    "duration": 3,
    "start_time": "2023-08-01T13:57:19.174Z"
   },
   {
    "duration": 11319,
    "start_time": "2023-08-01T13:57:19.179Z"
   },
   {
    "duration": 228,
    "start_time": "2023-08-01T13:57:30.500Z"
   },
   {
    "duration": 53,
    "start_time": "2023-08-01T13:57:30.729Z"
   },
   {
    "duration": 46,
    "start_time": "2023-08-01T13:57:30.784Z"
   },
   {
    "duration": 42,
    "start_time": "2023-08-01T13:57:30.831Z"
   },
   {
    "duration": 337,
    "start_time": "2023-08-01T13:57:30.875Z"
   },
   {
    "duration": 589,
    "start_time": "2023-08-01T13:57:31.214Z"
   },
   {
    "duration": 676,
    "start_time": "2023-08-01T13:57:31.804Z"
   },
   {
    "duration": 327,
    "start_time": "2023-08-01T13:57:32.481Z"
   },
   {
    "duration": 432,
    "start_time": "2023-08-01T13:57:32.809Z"
   },
   {
    "duration": 3,
    "start_time": "2023-08-01T13:57:33.242Z"
   },
   {
    "duration": 12495,
    "start_time": "2023-08-01T13:57:33.246Z"
   },
   {
    "duration": 76,
    "start_time": "2023-08-01T13:57:45.742Z"
   },
   {
    "duration": 117,
    "start_time": "2023-08-01T13:57:45.819Z"
   },
   {
    "duration": 241,
    "start_time": "2023-08-01T13:57:45.937Z"
   },
   {
    "duration": 493,
    "start_time": "2023-08-01T13:57:46.180Z"
   },
   {
    "duration": 632,
    "start_time": "2023-08-01T13:57:46.675Z"
   },
   {
    "duration": 207,
    "start_time": "2023-08-01T13:57:47.308Z"
   },
   {
    "duration": 186329,
    "start_time": "2023-08-01T13:57:47.517Z"
   },
   {
    "duration": 46,
    "start_time": "2023-08-01T14:00:53.847Z"
   },
   {
    "duration": 427397,
    "start_time": "2023-08-01T14:00:53.900Z"
   },
   {
    "duration": 51,
    "start_time": "2023-08-01T14:08:01.299Z"
   },
   {
    "duration": 323,
    "start_time": "2023-08-01T14:08:01.351Z"
   },
   {
    "duration": 4424,
    "start_time": "2023-08-01T14:08:01.675Z"
   },
   {
    "duration": 33,
    "start_time": "2023-08-01T14:08:06.104Z"
   },
   {
    "duration": 11,
    "start_time": "2023-08-01T14:08:06.139Z"
   },
   {
    "duration": 3,
    "start_time": "2023-08-01T14:08:06.151Z"
   },
   {
    "duration": 8,
    "start_time": "2023-08-01T14:08:06.156Z"
   },
   {
    "duration": 9,
    "start_time": "2023-08-01T14:08:06.166Z"
   },
   {
    "duration": 2826,
    "start_time": "2023-08-01T14:08:06.177Z"
   },
   {
    "duration": 119,
    "start_time": "2023-08-01T14:08:09.005Z"
   },
   {
    "duration": 2,
    "start_time": "2023-08-01T14:08:09.126Z"
   },
   {
    "duration": 6,
    "start_time": "2023-08-01T14:08:09.129Z"
   },
   {
    "duration": 10,
    "start_time": "2023-08-01T14:08:09.136Z"
   },
   {
    "duration": 4,
    "start_time": "2023-08-01T14:08:09.147Z"
   },
   {
    "duration": 7345,
    "start_time": "2023-08-01T14:08:09.152Z"
   },
   {
    "duration": 2,
    "start_time": "2023-08-01T14:08:16.499Z"
   },
   {
    "duration": 190,
    "start_time": "2023-08-01T14:08:16.502Z"
   },
   {
    "duration": 22,
    "start_time": "2023-08-01T14:08:16.694Z"
   },
   {
    "duration": 34,
    "start_time": "2023-08-01T14:08:16.717Z"
   },
   {
    "duration": 33,
    "start_time": "2023-08-01T14:08:16.753Z"
   },
   {
    "duration": 21,
    "start_time": "2023-08-01T14:08:16.788Z"
   },
   {
    "duration": 33,
    "start_time": "2023-08-01T14:08:16.810Z"
   },
   {
    "duration": 37,
    "start_time": "2023-08-01T14:08:16.844Z"
   },
   {
    "duration": 111,
    "start_time": "2023-08-01T14:08:16.882Z"
   },
   {
    "duration": 32,
    "start_time": "2023-08-01T14:08:16.994Z"
   },
   {
    "duration": 3,
    "start_time": "2023-08-01T14:08:17.027Z"
   },
   {
    "duration": 18,
    "start_time": "2023-08-01T14:08:17.031Z"
   },
   {
    "duration": 241,
    "start_time": "2023-08-01T14:08:17.050Z"
   },
   {
    "duration": 240,
    "start_time": "2023-08-01T14:08:17.292Z"
   },
   {
    "duration": 981,
    "start_time": "2023-08-01T14:08:17.533Z"
   },
   {
    "duration": 4713,
    "start_time": "2023-08-02T05:53:59.223Z"
   },
   {
    "duration": 2534,
    "start_time": "2023-08-02T05:54:17.452Z"
   },
   {
    "duration": 3458,
    "start_time": "2023-08-02T05:54:19.988Z"
   },
   {
    "duration": 3,
    "start_time": "2023-08-02T05:54:23.449Z"
   },
   {
    "duration": 11679,
    "start_time": "2023-08-02T05:54:23.455Z"
   },
   {
    "duration": 51,
    "start_time": "2023-08-02T05:54:35.136Z"
   },
   {
    "duration": 23,
    "start_time": "2023-08-02T05:54:35.188Z"
   },
   {
    "duration": 27,
    "start_time": "2023-08-02T05:54:35.213Z"
   },
   {
    "duration": 15,
    "start_time": "2023-08-02T05:54:35.241Z"
   },
   {
    "duration": 295,
    "start_time": "2023-08-02T05:54:35.257Z"
   },
   {
    "duration": 736,
    "start_time": "2023-08-02T05:54:35.555Z"
   },
   {
    "duration": 599,
    "start_time": "2023-08-02T05:54:36.293Z"
   },
   {
    "duration": 395,
    "start_time": "2023-08-02T05:54:36.894Z"
   },
   {
    "duration": 543,
    "start_time": "2023-08-02T05:54:37.291Z"
   },
   {
    "duration": 3,
    "start_time": "2023-08-02T05:54:37.835Z"
   },
   {
    "duration": 14445,
    "start_time": "2023-08-02T05:54:37.840Z"
   },
   {
    "duration": 92,
    "start_time": "2023-08-02T05:54:52.287Z"
   },
   {
    "duration": 133,
    "start_time": "2023-08-02T05:54:52.381Z"
   },
   {
    "duration": 281,
    "start_time": "2023-08-02T05:54:52.516Z"
   },
   {
    "duration": 754,
    "start_time": "2023-08-02T05:54:52.798Z"
   },
   {
    "duration": 774,
    "start_time": "2023-08-02T05:54:53.554Z"
   },
   {
    "duration": 333,
    "start_time": "2023-08-02T05:54:54.330Z"
   },
   {
    "duration": 177426,
    "start_time": "2023-08-02T05:54:54.665Z"
   },
   {
    "duration": 85,
    "start_time": "2023-08-02T05:57:52.093Z"
   },
   {
    "duration": 417919,
    "start_time": "2023-08-02T05:57:52.180Z"
   },
   {
    "duration": 95,
    "start_time": "2023-08-02T06:04:50.101Z"
   },
   {
    "duration": 504,
    "start_time": "2023-08-02T06:04:50.199Z"
   },
   {
    "duration": 6276,
    "start_time": "2023-08-02T06:04:50.705Z"
   },
   {
    "duration": 36,
    "start_time": "2023-08-02T06:04:56.985Z"
   },
   {
    "duration": 15,
    "start_time": "2023-08-02T06:04:57.023Z"
   },
   {
    "duration": 29,
    "start_time": "2023-08-02T06:04:57.039Z"
   },
   {
    "duration": 8,
    "start_time": "2023-08-02T06:04:57.069Z"
   },
   {
    "duration": 5,
    "start_time": "2023-08-02T06:04:57.078Z"
   },
   {
    "duration": 3903,
    "start_time": "2023-08-02T06:04:57.084Z"
   },
   {
    "duration": 182,
    "start_time": "2023-08-02T06:05:00.989Z"
   },
   {
    "duration": 3,
    "start_time": "2023-08-02T06:05:01.174Z"
   },
   {
    "duration": 28,
    "start_time": "2023-08-02T06:05:01.179Z"
   },
   {
    "duration": 69,
    "start_time": "2023-08-02T06:05:01.209Z"
   },
   {
    "duration": 48,
    "start_time": "2023-08-02T06:05:01.280Z"
   },
   {
    "duration": 7322,
    "start_time": "2023-08-02T06:05:01.330Z"
   },
   {
    "duration": 5,
    "start_time": "2023-08-02T06:05:08.654Z"
   },
   {
    "duration": 64,
    "start_time": "2023-08-02T06:05:08.661Z"
   },
   {
    "duration": 8,
    "start_time": "2023-08-02T06:05:08.727Z"
   },
   {
    "duration": 9,
    "start_time": "2023-08-02T06:05:08.736Z"
   },
   {
    "duration": 23,
    "start_time": "2023-08-02T06:05:08.747Z"
   },
   {
    "duration": 13,
    "start_time": "2023-08-02T06:05:08.772Z"
   },
   {
    "duration": 6,
    "start_time": "2023-08-02T06:05:08.787Z"
   },
   {
    "duration": 5,
    "start_time": "2023-08-02T06:05:08.794Z"
   },
   {
    "duration": 241,
    "start_time": "2023-08-02T06:05:08.801Z"
   },
   {
    "duration": 0,
    "start_time": "2023-08-02T06:05:09.044Z"
   },
   {
    "duration": 0,
    "start_time": "2023-08-02T06:05:09.045Z"
   },
   {
    "duration": 1,
    "start_time": "2023-08-02T06:05:09.046Z"
   },
   {
    "duration": 0,
    "start_time": "2023-08-02T06:05:09.056Z"
   },
   {
    "duration": 0,
    "start_time": "2023-08-02T06:05:09.058Z"
   },
   {
    "duration": 0,
    "start_time": "2023-08-02T06:05:09.058Z"
   },
   {
    "duration": 14,
    "start_time": "2023-08-02T08:19:10.413Z"
   },
   {
    "duration": 0,
    "start_time": "2023-08-02T08:19:10.429Z"
   },
   {
    "duration": 0,
    "start_time": "2023-08-02T08:19:10.430Z"
   },
   {
    "duration": 0,
    "start_time": "2023-08-02T08:19:10.431Z"
   },
   {
    "duration": 249,
    "start_time": "2023-08-02T08:19:10.434Z"
   },
   {
    "duration": 1159,
    "start_time": "2023-08-02T08:19:10.685Z"
   },
   {
    "duration": 19,
    "start_time": "2023-08-02T08:24:32.371Z"
   },
   {
    "duration": 71,
    "start_time": "2023-08-02T08:24:40.198Z"
   },
   {
    "duration": 70,
    "start_time": "2023-08-02T08:25:00.712Z"
   },
   {
    "duration": 13,
    "start_time": "2023-08-02T08:26:14.359Z"
   },
   {
    "duration": 195,
    "start_time": "2023-08-02T08:26:27.294Z"
   },
   {
    "duration": 5496,
    "start_time": "2023-08-02T08:43:34.979Z"
   },
   {
    "duration": 3598,
    "start_time": "2023-08-02T08:43:40.478Z"
   },
   {
    "duration": 4,
    "start_time": "2023-08-02T08:43:44.078Z"
   },
   {
    "duration": 23950,
    "start_time": "2023-08-02T08:43:44.084Z"
   },
   {
    "duration": 286,
    "start_time": "2023-08-02T08:44:08.036Z"
   },
   {
    "duration": 55,
    "start_time": "2023-08-02T08:44:08.323Z"
   },
   {
    "duration": 47,
    "start_time": "2023-08-02T08:44:08.380Z"
   },
   {
    "duration": 44,
    "start_time": "2023-08-02T08:44:08.428Z"
   },
   {
    "duration": 333,
    "start_time": "2023-08-02T08:44:08.474Z"
   },
   {
    "duration": 653,
    "start_time": "2023-08-02T08:44:08.809Z"
   },
   {
    "duration": 671,
    "start_time": "2023-08-02T08:44:09.464Z"
   },
   {
    "duration": 389,
    "start_time": "2023-08-02T08:44:10.137Z"
   },
   {
    "duration": 555,
    "start_time": "2023-08-02T08:44:10.527Z"
   },
   {
    "duration": 3,
    "start_time": "2023-08-02T08:44:11.083Z"
   },
   {
    "duration": 321,
    "start_time": "2023-08-02T08:51:24.433Z"
   },
   {
    "duration": 222,
    "start_time": "2023-08-02T08:51:32.972Z"
   },
   {
    "duration": 315,
    "start_time": "2023-08-02T08:51:54.907Z"
   },
   {
    "duration": 7738,
    "start_time": "2023-08-02T08:52:11.942Z"
   },
   {
    "duration": 329,
    "start_time": "2023-08-02T08:52:19.681Z"
   },
   {
    "duration": 335,
    "start_time": "2023-08-02T08:53:47.826Z"
   },
   {
    "duration": 11062,
    "start_time": "2023-08-02T08:54:14.405Z"
   },
   {
    "duration": 30,
    "start_time": "2023-08-02T08:54:29.352Z"
   },
   {
    "duration": 196,
    "start_time": "2023-08-02T08:54:34.397Z"
   },
   {
    "duration": 66,
    "start_time": "2023-08-02T08:54:40.042Z"
   },
   {
    "duration": 138,
    "start_time": "2023-08-02T08:54:42.534Z"
   },
   {
    "duration": 63,
    "start_time": "2023-08-02T08:54:45.584Z"
   },
   {
    "duration": 23,
    "start_time": "2023-08-02T08:55:46.174Z"
   },
   {
    "duration": 173,
    "start_time": "2023-08-02T08:55:54.264Z"
   },
   {
    "duration": 55,
    "start_time": "2023-08-02T08:55:56.732Z"
   },
   {
    "duration": 89509,
    "start_time": "2023-08-02T08:56:00.569Z"
   },
   {
    "duration": 18,
    "start_time": "2023-08-02T08:57:30.080Z"
   },
   {
    "duration": 113077,
    "start_time": "2023-08-02T08:57:30.100Z"
   },
   {
    "duration": 20,
    "start_time": "2023-08-02T08:59:23.179Z"
   },
   {
    "duration": 107,
    "start_time": "2023-08-02T08:59:23.202Z"
   },
   {
    "duration": 1085,
    "start_time": "2023-08-02T08:59:23.311Z"
   },
   {
    "duration": 17,
    "start_time": "2023-08-02T08:59:24.397Z"
   },
   {
    "duration": 12,
    "start_time": "2023-08-02T08:59:24.416Z"
   },
   {
    "duration": 10,
    "start_time": "2023-08-02T08:59:24.431Z"
   },
   {
    "duration": 13,
    "start_time": "2023-08-02T08:59:24.443Z"
   },
   {
    "duration": 25232,
    "start_time": "2023-08-02T08:59:44.261Z"
   },
   {
    "duration": 10117,
    "start_time": "2023-08-02T09:00:34.389Z"
   },
   {
    "duration": 486,
    "start_time": "2023-08-02T09:00:50.785Z"
   },
   {
    "duration": 11360,
    "start_time": "2023-08-02T09:00:53.235Z"
   },
   {
    "duration": 230427,
    "start_time": "2023-08-02T09:01:31.254Z"
   },
   {
    "duration": 4,
    "start_time": "2023-08-02T09:05:21.683Z"
   },
   {
    "duration": 3,
    "start_time": "2023-08-02T09:06:27.917Z"
   },
   {
    "duration": 3,
    "start_time": "2023-08-02T09:06:32.969Z"
   },
   {
    "duration": 1864,
    "start_time": "2023-08-02T09:06:36.714Z"
   },
   {
    "duration": 1633,
    "start_time": "2023-08-02T09:06:48.037Z"
   },
   {
    "duration": 1834,
    "start_time": "2023-08-02T09:06:58.547Z"
   },
   {
    "duration": 1737,
    "start_time": "2023-08-02T09:07:04.562Z"
   },
   {
    "duration": 34,
    "start_time": "2023-08-02T09:07:13.072Z"
   },
   {
    "duration": 3,
    "start_time": "2023-08-02T09:07:15.184Z"
   },
   {
    "duration": 1931,
    "start_time": "2023-08-02T09:07:23.557Z"
   },
   {
    "duration": 4,
    "start_time": "2023-08-02T09:07:25.490Z"
   },
   {
    "duration": 116630,
    "start_time": "2023-08-02T09:08:31.355Z"
   },
   {
    "duration": 5,
    "start_time": "2023-08-02T09:10:27.988Z"
   },
   {
    "duration": 1201,
    "start_time": "2023-08-02T09:10:27.995Z"
   },
   {
    "duration": 4,
    "start_time": "2023-08-02T09:10:29.204Z"
   },
   {
    "duration": 693057,
    "start_time": "2023-08-02T09:10:29.210Z"
   },
   {
    "duration": 5,
    "start_time": "2023-08-02T09:22:02.269Z"
   },
   {
    "duration": 29,
    "start_time": "2023-08-02T09:22:02.276Z"
   },
   {
    "duration": 4,
    "start_time": "2023-08-02T09:23:11.948Z"
   },
   {
    "duration": 3106,
    "start_time": "2023-08-02T09:23:22.809Z"
   },
   {
    "duration": 2085,
    "start_time": "2023-08-02T09:23:43.339Z"
   },
   {
    "duration": 3,
    "start_time": "2023-08-02T09:24:10.881Z"
   },
   {
    "duration": 6,
    "start_time": "2023-08-02T09:24:11.777Z"
   },
   {
    "duration": 11,
    "start_time": "2023-08-02T09:24:12.835Z"
   },
   {
    "duration": 9,
    "start_time": "2023-08-02T09:24:13.598Z"
   },
   {
    "duration": 4,
    "start_time": "2023-08-02T09:24:14.208Z"
   },
   {
    "duration": 9,
    "start_time": "2023-08-02T09:24:15.654Z"
   },
   {
    "duration": 86179,
    "start_time": "2023-08-02T09:24:30.637Z"
   },
   {
    "duration": 9,
    "start_time": "2023-08-02T09:26:14.894Z"
   },
   {
    "duration": 8,
    "start_time": "2023-08-02T09:26:15.215Z"
   },
   {
    "duration": 4,
    "start_time": "2023-08-02T09:26:15.612Z"
   },
   {
    "duration": 8,
    "start_time": "2023-08-02T09:26:16.132Z"
   },
   {
    "duration": 45943,
    "start_time": "2023-08-02T09:26:16.771Z"
   },
   {
    "duration": 9,
    "start_time": "2023-08-02T09:27:31.732Z"
   },
   {
    "duration": 4,
    "start_time": "2023-08-02T09:27:33.377Z"
   },
   {
    "duration": 8,
    "start_time": "2023-08-02T09:27:33.663Z"
   },
   {
    "duration": 9,
    "start_time": "2023-08-02T09:27:54.632Z"
   },
   {
    "duration": 119864,
    "start_time": "2023-08-02T09:27:54.939Z"
   },
   {
    "duration": 8,
    "start_time": "2023-08-02T09:29:59.131Z"
   },
   {
    "duration": 8,
    "start_time": "2023-08-02T09:30:00.602Z"
   },
   {
    "duration": 1290546,
    "start_time": "2023-08-02T09:30:01.447Z"
   },
   {
    "duration": 13,
    "start_time": "2023-08-02T09:51:31.995Z"
   },
   {
    "duration": 0,
    "start_time": "2023-08-02T09:51:32.071Z"
   },
   {
    "duration": 0,
    "start_time": "2023-08-02T09:51:32.073Z"
   },
   {
    "duration": 0,
    "start_time": "2023-08-02T09:51:32.074Z"
   },
   {
    "duration": 0,
    "start_time": "2023-08-02T09:51:32.076Z"
   },
   {
    "duration": 0,
    "start_time": "2023-08-02T09:51:32.077Z"
   },
   {
    "duration": 6,
    "start_time": "2023-08-02T10:16:18.873Z"
   },
   {
    "duration": 4,
    "start_time": "2023-08-02T10:16:19.197Z"
   },
   {
    "duration": 4,
    "start_time": "2023-08-02T10:16:19.991Z"
   },
   {
    "duration": 4,
    "start_time": "2023-08-02T10:16:21.307Z"
   },
   {
    "duration": 4,
    "start_time": "2023-08-02T10:17:06.887Z"
   },
   {
    "duration": 75919,
    "start_time": "2023-08-02T10:17:11.357Z"
   },
   {
    "duration": 253,
    "start_time": "2023-08-02T10:18:27.278Z"
   },
   {
    "duration": 46,
    "start_time": "2023-08-02T10:18:27.533Z"
   },
   {
    "duration": 3,
    "start_time": "2023-08-02T10:18:27.581Z"
   },
   {
    "duration": 29,
    "start_time": "2023-08-02T10:18:27.585Z"
   },
   {
    "duration": 148,
    "start_time": "2023-08-02T10:18:27.615Z"
   },
   {
    "duration": 141,
    "start_time": "2023-08-02T10:20:02.382Z"
   },
   {
    "duration": 256,
    "start_time": "2023-08-02T10:20:06.717Z"
   },
   {
    "duration": 2356,
    "start_time": "2023-08-02T10:21:52.957Z"
   },
   {
    "duration": 2242,
    "start_time": "2023-08-02T10:21:55.315Z"
   },
   {
    "duration": 3,
    "start_time": "2023-08-02T10:21:57.559Z"
   },
   {
    "duration": 29999,
    "start_time": "2023-08-02T10:21:57.563Z"
   },
   {
    "duration": 234,
    "start_time": "2023-08-02T10:22:27.564Z"
   },
   {
    "duration": 54,
    "start_time": "2023-08-02T10:22:27.799Z"
   },
   {
    "duration": 46,
    "start_time": "2023-08-02T10:22:27.854Z"
   },
   {
    "duration": 43,
    "start_time": "2023-08-02T10:22:27.902Z"
   },
   {
    "duration": 328,
    "start_time": "2023-08-02T10:22:27.947Z"
   },
   {
    "duration": 724,
    "start_time": "2023-08-02T10:22:28.276Z"
   },
   {
    "duration": 650,
    "start_time": "2023-08-02T10:22:29.002Z"
   },
   {
    "duration": 370,
    "start_time": "2023-08-02T10:22:29.654Z"
   },
   {
    "duration": 533,
    "start_time": "2023-08-02T10:22:30.026Z"
   },
   {
    "duration": 3,
    "start_time": "2023-08-02T10:22:30.570Z"
   },
   {
    "duration": 8491,
    "start_time": "2023-08-02T10:22:30.575Z"
   },
   {
    "duration": 30,
    "start_time": "2023-08-02T10:22:39.068Z"
   },
   {
    "duration": 121,
    "start_time": "2023-08-02T10:22:39.100Z"
   },
   {
    "duration": 74,
    "start_time": "2023-08-02T10:22:39.222Z"
   },
   {
    "duration": 159,
    "start_time": "2023-08-02T10:22:39.298Z"
   },
   {
    "duration": 189,
    "start_time": "2023-08-02T10:22:39.459Z"
   },
   {
    "duration": 63,
    "start_time": "2023-08-02T10:22:39.649Z"
   },
   {
    "duration": 90397,
    "start_time": "2023-08-02T10:22:39.713Z"
   },
   {
    "duration": 19,
    "start_time": "2023-08-02T10:24:10.112Z"
   },
   {
    "duration": 114361,
    "start_time": "2023-08-02T10:24:10.132Z"
   },
   {
    "duration": 19,
    "start_time": "2023-08-02T10:26:04.495Z"
   },
   {
    "duration": 95,
    "start_time": "2023-08-02T10:26:04.516Z"
   },
   {
    "duration": 937,
    "start_time": "2023-08-02T10:26:04.612Z"
   },
   {
    "duration": 13,
    "start_time": "2023-08-02T10:26:05.551Z"
   },
   {
    "duration": 59,
    "start_time": "2023-08-02T10:26:05.571Z"
   },
   {
    "duration": 43,
    "start_time": "2023-08-02T10:26:05.632Z"
   },
   {
    "duration": 34,
    "start_time": "2023-08-02T10:26:05.677Z"
   },
   {
    "duration": 38,
    "start_time": "2023-08-02T10:26:05.713Z"
   },
   {
    "duration": 540,
    "start_time": "2023-08-02T10:26:05.752Z"
   },
   {
    "duration": 3,
    "start_time": "2023-08-02T10:26:06.294Z"
   },
   {
    "duration": 37,
    "start_time": "2023-08-02T10:26:06.299Z"
   },
   {
    "duration": 19,
    "start_time": "2023-08-02T10:26:06.338Z"
   },
   {
    "duration": 3289,
    "start_time": "2023-08-02T10:26:06.360Z"
   },
   {
    "duration": 0,
    "start_time": "2023-08-02T10:26:09.651Z"
   },
   {
    "duration": 0,
    "start_time": "2023-08-02T10:26:09.653Z"
   },
   {
    "duration": 0,
    "start_time": "2023-08-02T10:26:09.654Z"
   },
   {
    "duration": 0,
    "start_time": "2023-08-02T10:26:09.655Z"
   },
   {
    "duration": 0,
    "start_time": "2023-08-02T10:26:09.656Z"
   },
   {
    "duration": 0,
    "start_time": "2023-08-02T10:26:09.657Z"
   },
   {
    "duration": 0,
    "start_time": "2023-08-02T10:26:09.658Z"
   },
   {
    "duration": 0,
    "start_time": "2023-08-02T10:26:09.659Z"
   },
   {
    "duration": 0,
    "start_time": "2023-08-02T10:26:09.660Z"
   },
   {
    "duration": 0,
    "start_time": "2023-08-02T10:26:09.662Z"
   },
   {
    "duration": 0,
    "start_time": "2023-08-02T10:26:09.663Z"
   },
   {
    "duration": 0,
    "start_time": "2023-08-02T10:26:09.664Z"
   },
   {
    "duration": 0,
    "start_time": "2023-08-02T10:26:09.664Z"
   },
   {
    "duration": 0,
    "start_time": "2023-08-02T10:26:09.665Z"
   },
   {
    "duration": 1,
    "start_time": "2023-08-02T10:26:09.666Z"
   },
   {
    "duration": 0,
    "start_time": "2023-08-02T10:26:09.668Z"
   },
   {
    "duration": 1946,
    "start_time": "2023-08-02T11:12:45.891Z"
   },
   {
    "duration": 3143,
    "start_time": "2023-08-02T11:13:45.246Z"
   },
   {
    "duration": 7,
    "start_time": "2023-08-02T11:14:11.490Z"
   },
   {
    "duration": 8,
    "start_time": "2023-08-02T11:14:17.305Z"
   },
   {
    "duration": 2351,
    "start_time": "2023-08-02T11:14:22.625Z"
   },
   {
    "duration": 7,
    "start_time": "2023-08-02T11:15:16.460Z"
   },
   {
    "duration": 14,
    "start_time": "2023-08-02T11:15:19.461Z"
   },
   {
    "duration": 5,
    "start_time": "2023-08-02T11:15:24.662Z"
   },
   {
    "duration": 4,
    "start_time": "2023-08-02T11:15:29.833Z"
   },
   {
    "duration": 2634,
    "start_time": "2023-08-02T11:15:37.151Z"
   },
   {
    "duration": 1663,
    "start_time": "2023-08-02T11:15:57.580Z"
   },
   {
    "duration": 3,
    "start_time": "2023-08-02T11:16:00.411Z"
   },
   {
    "duration": 3,
    "start_time": "2023-08-02T11:16:12.738Z"
   },
   {
    "duration": 3083,
    "start_time": "2023-08-02T11:16:13.122Z"
   },
   {
    "duration": 0,
    "start_time": "2023-08-02T11:16:16.207Z"
   },
   {
    "duration": 3,
    "start_time": "2023-08-02T11:16:38.367Z"
   },
   {
    "duration": 2602,
    "start_time": "2023-08-02T11:16:38.781Z"
   },
   {
    "duration": 3,
    "start_time": "2023-08-02T11:17:25.308Z"
   },
   {
    "duration": 7,
    "start_time": "2023-08-02T11:17:39.635Z"
   },
   {
    "duration": 1814,
    "start_time": "2023-08-02T11:17:48.826Z"
   },
   {
    "duration": 4,
    "start_time": "2023-08-02T11:17:53.767Z"
   },
   {
    "duration": 1931,
    "start_time": "2023-08-02T11:17:54.111Z"
   },
   {
    "duration": 3,
    "start_time": "2023-08-02T11:18:47.199Z"
   },
   {
    "duration": 1389,
    "start_time": "2023-08-02T11:18:47.499Z"
   },
   {
    "duration": 13544,
    "start_time": "2023-08-02T11:19:09.486Z"
   },
   {
    "duration": 4,
    "start_time": "2023-08-02T11:19:37.880Z"
   },
   {
    "duration": 1950,
    "start_time": "2023-08-02T11:19:38.071Z"
   },
   {
    "duration": 3,
    "start_time": "2023-08-02T11:20:00.183Z"
   },
   {
    "duration": 3052,
    "start_time": "2023-08-02T11:20:00.188Z"
   },
   {
    "duration": 7,
    "start_time": "2023-08-02T11:20:08.235Z"
   },
   {
    "duration": 5,
    "start_time": "2023-08-02T11:20:18.140Z"
   },
   {
    "duration": 120,
    "start_time": "2023-08-02T11:21:17.456Z"
   },
   {
    "duration": 15,
    "start_time": "2023-08-02T11:21:17.835Z"
   },
   {
    "duration": 97,
    "start_time": "2023-08-02T11:21:24.627Z"
   },
   {
    "duration": 15,
    "start_time": "2023-08-02T11:21:24.928Z"
   },
   {
    "duration": 8,
    "start_time": "2023-08-02T11:21:40.901Z"
   },
   {
    "duration": 99,
    "start_time": "2023-08-02T11:21:52.811Z"
   },
   {
    "duration": 898,
    "start_time": "2023-08-02T11:21:53.136Z"
   },
   {
    "duration": 21,
    "start_time": "2023-08-02T11:21:56.390Z"
   },
   {
    "duration": 7,
    "start_time": "2023-08-02T11:21:57.426Z"
   },
   {
    "duration": 2019,
    "start_time": "2023-08-02T11:22:01.506Z"
   },
   {
    "duration": 3,
    "start_time": "2023-08-02T11:22:05.431Z"
   },
   {
    "duration": 1710,
    "start_time": "2023-08-02T11:22:05.642Z"
   },
   {
    "duration": 66,
    "start_time": "2023-08-02T11:22:24.983Z"
   },
   {
    "duration": 5429,
    "start_time": "2023-08-02T11:22:42.609Z"
   },
   {
    "duration": 2488,
    "start_time": "2023-08-02T11:22:48.041Z"
   },
   {
    "duration": 3,
    "start_time": "2023-08-02T11:22:50.531Z"
   },
   {
    "duration": 6450,
    "start_time": "2023-08-02T11:23:05.743Z"
   },
   {
    "duration": 2920,
    "start_time": "2023-08-02T11:23:12.195Z"
   },
   {
    "duration": 3,
    "start_time": "2023-08-02T11:23:15.117Z"
   },
   {
    "duration": 93003,
    "start_time": "2023-08-02T11:23:59.632Z"
   },
   {
    "duration": 19,
    "start_time": "2023-08-02T11:25:32.637Z"
   },
   {
    "duration": 121128,
    "start_time": "2023-08-02T11:25:32.658Z"
   },
   {
    "duration": 22,
    "start_time": "2023-08-02T11:27:33.789Z"
   },
   {
    "duration": 118,
    "start_time": "2023-08-02T11:27:33.813Z"
   },
   {
    "duration": 1033,
    "start_time": "2023-08-02T11:27:33.933Z"
   },
   {
    "duration": 28,
    "start_time": "2023-08-02T11:27:34.970Z"
   },
   {
    "duration": 13,
    "start_time": "2023-08-02T11:27:35.000Z"
   },
   {
    "duration": 9,
    "start_time": "2023-08-02T11:27:35.015Z"
   },
   {
    "duration": 11,
    "start_time": "2023-08-02T11:27:35.026Z"
   },
   {
    "duration": 19,
    "start_time": "2023-08-02T11:27:35.038Z"
   },
   {
    "duration": 1329,
    "start_time": "2023-08-02T11:27:35.059Z"
   },
   {
    "duration": 6,
    "start_time": "2023-08-02T11:27:36.393Z"
   },
   {
    "duration": 43,
    "start_time": "2023-08-02T11:27:36.402Z"
   },
   {
    "duration": 99,
    "start_time": "2023-08-02T11:27:36.447Z"
   },
   {
    "duration": 3651,
    "start_time": "2023-08-02T11:27:36.549Z"
   },
   {
    "duration": 0,
    "start_time": "2023-08-02T11:27:40.202Z"
   },
   {
    "duration": 0,
    "start_time": "2023-08-02T11:27:40.203Z"
   },
   {
    "duration": 0,
    "start_time": "2023-08-02T11:27:40.204Z"
   },
   {
    "duration": 0,
    "start_time": "2023-08-02T11:27:40.206Z"
   },
   {
    "duration": 0,
    "start_time": "2023-08-02T11:27:40.206Z"
   },
   {
    "duration": 0,
    "start_time": "2023-08-02T11:27:40.208Z"
   },
   {
    "duration": 0,
    "start_time": "2023-08-02T11:27:40.209Z"
   },
   {
    "duration": 0,
    "start_time": "2023-08-02T11:27:40.210Z"
   },
   {
    "duration": 0,
    "start_time": "2023-08-02T11:27:40.211Z"
   },
   {
    "duration": 0,
    "start_time": "2023-08-02T11:27:40.212Z"
   },
   {
    "duration": 0,
    "start_time": "2023-08-02T11:27:40.213Z"
   },
   {
    "duration": 0,
    "start_time": "2023-08-02T11:27:40.214Z"
   },
   {
    "duration": 0,
    "start_time": "2023-08-02T11:27:40.215Z"
   },
   {
    "duration": 0,
    "start_time": "2023-08-02T11:27:40.216Z"
   },
   {
    "duration": 0,
    "start_time": "2023-08-02T11:27:40.217Z"
   },
   {
    "duration": 0,
    "start_time": "2023-08-02T11:27:40.218Z"
   },
   {
    "duration": 2238,
    "start_time": "2023-08-02T11:56:01.461Z"
   },
   {
    "duration": 1485,
    "start_time": "2023-08-02T11:56:12.634Z"
   },
   {
    "duration": 2500,
    "start_time": "2023-08-02T11:56:19.306Z"
   },
   {
    "duration": 2333,
    "start_time": "2023-08-02T11:56:26.683Z"
   },
   {
    "duration": 6672,
    "start_time": "2023-08-02T11:56:31.796Z"
   },
   {
    "duration": 2,
    "start_time": "2023-08-02T11:56:45.912Z"
   },
   {
    "duration": 2095,
    "start_time": "2023-08-02T11:56:46.232Z"
   },
   {
    "duration": 3,
    "start_time": "2023-08-02T11:56:51.747Z"
   },
   {
    "duration": 1696,
    "start_time": "2023-08-02T11:56:52.043Z"
   },
   {
    "duration": 4,
    "start_time": "2023-08-02T11:56:59.616Z"
   },
   {
    "duration": 2421,
    "start_time": "2023-08-02T11:57:01.118Z"
   },
   {
    "duration": 3,
    "start_time": "2023-08-02T11:57:11.683Z"
   },
   {
    "duration": 3138,
    "start_time": "2023-08-02T11:57:12.042Z"
   },
   {
    "duration": 3,
    "start_time": "2023-08-02T11:57:24.237Z"
   },
   {
    "duration": 4638,
    "start_time": "2023-08-02T11:57:24.789Z"
   },
   {
    "duration": 4840,
    "start_time": "2023-08-02T11:57:36.914Z"
   },
   {
    "duration": 6013,
    "start_time": "2023-08-02T11:58:19.947Z"
   },
   {
    "duration": 3433,
    "start_time": "2023-08-02T11:58:25.963Z"
   },
   {
    "duration": 4,
    "start_time": "2023-08-02T11:58:29.398Z"
   },
   {
    "duration": 31476,
    "start_time": "2023-08-02T11:58:29.404Z"
   },
   {
    "duration": 257,
    "start_time": "2023-08-02T11:59:00.883Z"
   },
   {
    "duration": 62,
    "start_time": "2023-08-02T11:59:01.142Z"
   },
   {
    "duration": 48,
    "start_time": "2023-08-02T11:59:01.205Z"
   },
   {
    "duration": 50,
    "start_time": "2023-08-02T11:59:01.255Z"
   },
   {
    "duration": 338,
    "start_time": "2023-08-02T11:59:01.306Z"
   },
   {
    "duration": 828,
    "start_time": "2023-08-02T11:59:01.645Z"
   },
   {
    "duration": 681,
    "start_time": "2023-08-02T11:59:02.476Z"
   },
   {
    "duration": 460,
    "start_time": "2023-08-02T11:59:03.158Z"
   },
   {
    "duration": 600,
    "start_time": "2023-08-02T11:59:03.621Z"
   },
   {
    "duration": 3,
    "start_time": "2023-08-02T11:59:04.224Z"
   },
   {
    "duration": 11076,
    "start_time": "2023-08-02T11:59:04.228Z"
   },
   {
    "duration": 29,
    "start_time": "2023-08-02T11:59:15.306Z"
   },
   {
    "duration": 151,
    "start_time": "2023-08-02T11:59:15.337Z"
   },
   {
    "duration": 83,
    "start_time": "2023-08-02T11:59:15.489Z"
   },
   {
    "duration": 162,
    "start_time": "2023-08-02T11:59:15.574Z"
   },
   {
    "duration": 187,
    "start_time": "2023-08-02T11:59:15.738Z"
   },
   {
    "duration": 67,
    "start_time": "2023-08-02T11:59:15.926Z"
   },
   {
    "duration": 93059,
    "start_time": "2023-08-02T11:59:15.995Z"
   },
   {
    "duration": 21,
    "start_time": "2023-08-02T12:00:49.056Z"
   },
   {
    "duration": 115893,
    "start_time": "2023-08-02T12:00:49.079Z"
   },
   {
    "duration": 21,
    "start_time": "2023-08-02T12:02:44.974Z"
   },
   {
    "duration": 117,
    "start_time": "2023-08-02T12:02:44.996Z"
   },
   {
    "duration": 910,
    "start_time": "2023-08-02T12:02:45.114Z"
   },
   {
    "duration": 14,
    "start_time": "2023-08-02T12:02:46.026Z"
   },
   {
    "duration": 18,
    "start_time": "2023-08-02T12:02:46.042Z"
   },
   {
    "duration": 16,
    "start_time": "2023-08-02T12:02:46.062Z"
   },
   {
    "duration": 122,
    "start_time": "2023-08-02T12:02:46.080Z"
   },
   {
    "duration": 5,
    "start_time": "2023-08-02T12:02:46.204Z"
   },
   {
    "duration": 584,
    "start_time": "2023-08-02T12:02:46.211Z"
   },
   {
    "duration": 3,
    "start_time": "2023-08-02T12:02:46.796Z"
   },
   {
    "duration": 70,
    "start_time": "2023-08-02T12:02:46.801Z"
   },
   {
    "duration": 8,
    "start_time": "2023-08-02T12:02:46.873Z"
   },
   {
    "duration": 3600,
    "start_time": "2023-08-02T12:02:46.882Z"
   },
   {
    "duration": 3,
    "start_time": "2023-08-02T12:02:50.484Z"
   },
   {
    "duration": 39,
    "start_time": "2023-08-02T12:02:50.489Z"
   },
   {
    "duration": 41,
    "start_time": "2023-08-02T12:02:50.531Z"
   },
   {
    "duration": 48,
    "start_time": "2023-08-02T12:02:50.576Z"
   },
   {
    "duration": 49,
    "start_time": "2023-08-02T12:02:50.625Z"
   },
   {
    "duration": 40,
    "start_time": "2023-08-02T12:02:50.676Z"
   },
   {
    "duration": 46,
    "start_time": "2023-08-02T12:02:50.718Z"
   },
   {
    "duration": 18,
    "start_time": "2023-08-02T12:02:50.766Z"
   },
   {
    "duration": 72196,
    "start_time": "2023-08-02T12:02:50.786Z"
   },
   {
    "duration": 258,
    "start_time": "2023-08-02T12:04:02.984Z"
   },
   {
    "duration": 38,
    "start_time": "2023-08-02T12:04:03.244Z"
   },
   {
    "duration": 156,
    "start_time": "2023-08-02T12:04:03.284Z"
   },
   {
    "duration": 162,
    "start_time": "2023-08-02T12:04:03.442Z"
   },
   {
    "duration": 177,
    "start_time": "2023-08-02T12:04:03.605Z"
   },
   {
    "duration": 242,
    "start_time": "2023-08-02T12:04:03.784Z"
   },
   {
    "duration": 1085,
    "start_time": "2023-08-02T12:04:04.028Z"
   }
  ],
  "kernelspec": {
   "display_name": "Python 3 (ipykernel)",
   "language": "python",
   "name": "python3"
  },
  "language_info": {
   "codemirror_mode": {
    "name": "ipython",
    "version": 3
   },
   "file_extension": ".py",
   "mimetype": "text/x-python",
   "name": "python",
   "nbconvert_exporter": "python",
   "pygments_lexer": "ipython3",
   "version": "3.10.9"
  },
  "toc": {
   "base_numbering": 1,
   "nav_menu": {},
   "number_sections": false,
   "sideBar": true,
   "skip_h1_title": false,
   "title_cell": "Table of Contents",
   "title_sidebar": "Contents",
   "toc_cell": false,
   "toc_position": {
    "height": "calc(100% - 180px)",
    "left": "10px",
    "top": "150px",
    "width": "612.543px"
   },
   "toc_section_display": true,
   "toc_window_display": false
  },
  "varInspector": {
   "cols": {
    "lenName": 16,
    "lenType": 16,
    "lenVar": 40
   },
   "kernels_config": {
    "python": {
     "delete_cmd_postfix": "",
     "delete_cmd_prefix": "del ",
     "library": "var_list.py",
     "varRefreshCmd": "print(var_dic_list())"
    },
    "r": {
     "delete_cmd_postfix": ") ",
     "delete_cmd_prefix": "rm(",
     "library": "var_list.r",
     "varRefreshCmd": "cat(var_dic_list()) "
    }
   },
   "types_to_exclude": [
    "module",
    "function",
    "builtin_function_or_method",
    "instance",
    "_Feature"
   ],
   "window_display": false
  }
 },
 "nbformat": 4,
 "nbformat_minor": 5
}
